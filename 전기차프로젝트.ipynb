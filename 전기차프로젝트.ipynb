{
  "nbformat": 4,
  "nbformat_minor": 0,
  "metadata": {
    "colab": {
      "provenance": [],
      "authorship_tag": "ABX9TyNwAJOlmUTm57G8MXZ/jQui",
      "include_colab_link": true
    },
    "kernelspec": {
      "name": "python3",
      "display_name": "Python 3"
    },
    "language_info": {
      "name": "python"
    }
  },
  "cells": [
    {
      "cell_type": "markdown",
      "metadata": {
        "id": "view-in-github",
        "colab_type": "text"
      },
      "source": [
        "<a href=\"https://colab.research.google.com/github/Daehong123/big/blob/main/%EC%A0%84%EA%B8%B0%EC%B0%A8%ED%94%84%EB%A1%9C%EC%A0%9D%ED%8A%B8.ipynb\" target=\"_parent\"><img src=\"https://colab.research.google.com/assets/colab-badge.svg\" alt=\"Open In Colab\"/></a>"
      ]
    },
    {
      "cell_type": "markdown",
      "source": [
        "# 1. 설치 현황, 전기차 충전소 정보"
      ],
      "metadata": {
        "id": "c7r0pTNR6lBS"
      }
    },
    {
      "cell_type": "markdown",
      "source": [
        "**패키지 설치 및 로드하기**"
      ],
      "metadata": {
        "id": "dFi9NC3pYvht"
      }
    },
    {
      "cell_type": "code",
      "source": [
        "import csv\n",
        "import pandas as pd\n",
        "import folium\n"
      ],
      "metadata": {
        "id": "hVDSoqUPY_7P"
      },
      "execution_count": 1,
      "outputs": []
    },
    {
      "cell_type": "markdown",
      "source": [
        "**데이터 프레임변환**"
      ],
      "metadata": {
        "id": "UKZZYN4SZHV9"
      }
    },
    {
      "cell_type": "code",
      "source": [
        "df_isnull = pd.read_csv('/content/전기자동차_위도경도(수정).csv',  encoding = 'cp949') \n",
        "df = df_isnull.dropna(how='any', axis = 0)"
      ],
      "metadata": {
        "id": "j1g-Zle5ZLpJ"
      },
      "execution_count": 2,
      "outputs": []
    },
    {
      "cell_type": "markdown",
      "source": [
        "**데이터 검토하기**"
      ],
      "metadata": {
        "id": "nFYUawLCZU5w"
      }
    },
    {
      "cell_type": "code",
      "source": [
        "print(df)"
      ],
      "metadata": {
        "colab": {
          "base_uri": "https://localhost:8080/"
        },
        "id": "79oIAdJlZY5Z",
        "outputId": "ec63f075-86f6-49a0-d388-126b3ea50692"
      },
      "execution_count": 3,
      "outputs": [
        {
          "output_type": "stream",
          "name": "stdout",
          "text": [
            "        시도         충전소명         위도          경도\n",
            "0      강원도     강릉더샵 아파트  37.750646  128.909940\n",
            "1      강원도       강릉특별지사  37.782175  128.918810\n",
            "2      강원도       그린내하우스  37.760830  128.918984\n",
            "3      강원도       봉평면사무소  37.616188  128.379730\n",
            "4      강원도     강원도교육연수원  37.786442  128.918339\n",
            "..     ...          ...        ...         ...\n",
            "438  서울특별시    구로성호메이플라워  37.496904  126.891384\n",
            "439  서울특별시  고척LIG리가 아파트  37.505698  126.861506\n",
            "440  서울특별시  구로4동 주택가 공동  37.489516  126.886898\n",
            "441  서울특별시      구로삼성래미안  37.487507  126.892029\n",
            "442  서울특별시      동아한신아파트  37.500949  126.865399\n",
            "\n",
            "[443 rows x 4 columns]\n"
          ]
        }
      ]
    },
    {
      "cell_type": "markdown",
      "source": [
        "**지도 생성**"
      ],
      "metadata": {
        "id": "G7sOdn1FZytH"
      }
    },
    {
      "cell_type": "code",
      "source": [
        "smap = folium.Map(location=[36.437795 , 127.423688],titles=\"Stamen Terrian\", zoom_start=8)"
      ],
      "metadata": {
        "id": "FsAbP4rFZ50e"
      },
      "execution_count": 4,
      "outputs": []
    },
    {
      "cell_type": "markdown",
      "source": [
        "**생성된 지도에 마크표시**"
      ],
      "metadata": {
        "id": "PkAFkDCQaE4p"
      }
    },
    {
      "cell_type": "code",
      "source": [
        "for name, lat, lng in zip(df.충전소명, df.위도, df.경도) :\n",
        "  folium.Marker([lat, lng], popup=name).add_to(smap)\n",
        "smap"
      ],
      "metadata": {
        "id": "Ta8DdR3g7zMI"
      },
      "execution_count": null,
      "outputs": []
    },
    {
      "cell_type": "markdown",
      "source": [
        "#2. 지역별 전기자동차 현황 "
      ],
      "metadata": {
        "id": "bzKQwxJvro-X"
      }
    },
    {
      "cell_type": "markdown",
      "source": [
        "**패키지 설치 및 로드하기**"
      ],
      "metadata": {
        "id": "7h_vrdepap61"
      }
    },
    {
      "cell_type": "code",
      "execution_count": 5,
      "metadata": {
        "id": "iLqW4_TV6kDS"
      },
      "outputs": [],
      "source": [
        "import pandas as pd\n",
        "import folium"
      ]
    },
    {
      "cell_type": "markdown",
      "source": [
        "**데이터 프레임 변환**"
      ],
      "metadata": {
        "id": "rS5pMTLSZHGv"
      }
    },
    {
      "cell_type": "code",
      "source": [
        "df=pd.read_csv('/content/서울전기차대수.csv', encoding='cp949')#utf8 , cp949"
      ],
      "metadata": {
        "id": "wCgW0yq1axnA"
      },
      "execution_count": 7,
      "outputs": []
    },
    {
      "cell_type": "markdown",
      "source": [
        "**데이터 출력**"
      ],
      "metadata": {
        "id": "rRYoxtvMa8Yf"
      }
    },
    {
      "cell_type": "code",
      "source": [
        "print(df)"
      ],
      "metadata": {
        "colab": {
          "base_uri": "https://localhost:8080/"
        },
        "id": "T4bCKEpwbH87",
        "outputId": "c785566c-5f29-4c0f-859c-45ef88b864a4"
      },
      "execution_count": 46,
      "outputs": [
        {
          "output_type": "stream",
          "name": "stdout",
          "text": [
            "       기준일ID  시군구코드  시군구명  인구수   전기차수\n",
            "0   20221105  11110   종로구  299    571\n",
            "1   20221105  11170   용산구  296    187\n",
            "2   20221105  11305   강북구  292    881\n",
            "3   20221105  11380   은평구  438   1349\n",
            "4   20221105  11410  서대문구  368    348\n",
            "5   20221105  11470   양천구  372   1085\n",
            "6   20221105  11680   강남구  769  10954\n",
            "7   20221105  11140    중구  268    267\n",
            "8   20221105  11200   성동구  346    242\n",
            "9   20221105  11215   광진구  385    389\n",
            "10  20221105  11230  동대문구  368    127\n",
            "11  20221105  11260   중랑구  355    345\n",
            "12  20221105  11290   성북구  431    207\n",
            "13  20221105  11320   도봉구  272    243\n",
            "14  20221105  11350   노원구  496    259\n",
            "15  20221105  11440   마포구  480    407\n",
            "16  20221105  11470   양천구  372    311\n",
            "17  20221105  11500   강서구  541    228\n",
            "18  20221105  11530   구로구  412    352\n",
            "19  20221105  11545   금천구  214    157\n",
            "20  20221105  11560  영등포구  485    307\n",
            "21  20221105  11590   동작구  396    204\n",
            "22  20221105  11620   관악구  488    148\n",
            "23  20221105  11650   서초구  531   3152\n",
            "24  20221105  11710   송파구  746    208\n",
            "25  20221105  11740   강동구  505   1577\n"
          ]
        }
      ]
    },
    {
      "cell_type": "markdown",
      "source": [
        "**패키지 설치 및 로드하기**"
      ],
      "metadata": {
        "id": "MzP8MwOBbN5E"
      }
    },
    {
      "cell_type": "code",
      "source": [
        "import requests\n",
        "import json\n",
        "import re"
      ],
      "metadata": {
        "id": "kM5TzzapbQaN"
      },
      "execution_count": null,
      "outputs": []
    },
    {
      "cell_type": "markdown",
      "source": [
        "**서울 행정 구역 json**"
      ],
      "metadata": {
        "id": "eVSyw0MQbXYL"
      }
    },
    {
      "cell_type": "code",
      "source": [
        "s_geo='https://raw.githubusercontent.com/southkorea/seoul-maps/master/kostat/2013/json/seoul_municipalities_geo_simple.json'"
      ],
      "metadata": {
        "id": "4KVWLfItbeWR"
      },
      "execution_count": null,
      "outputs": []
    },
    {
      "cell_type": "markdown",
      "source": [
        "**지도 불러오기**"
      ],
      "metadata": {
        "id": "3iT3zW1Lbh_d"
      }
    },
    {
      "cell_type": "code",
      "source": [
        "s_map = folium.Map(location=[37.559984,126.9753071],\n",
        "                   tiles='Stamen Terrain', zoom_start=11)"
      ],
      "metadata": {
        "id": "gluua_DsbnE-"
      },
      "execution_count": null,
      "outputs": []
    },
    {
      "cell_type": "markdown",
      "source": [
        "**지도**"
      ],
      "metadata": {
        "id": "Sc8-mOfPbrpc"
      }
    },
    {
      "cell_type": "code",
      "source": [
        "\n",
        "folium.Choropleth(geo_data=s_geo, data=df, columns=['시군구명', '전기차수'], \n",
        "                  fill_color='YlOrRd', fill_opacity=0.7, line_opacity=0.3, \n",
        "                  threshold_scale=[0, 250, 500, 1000, 1500, 2000, 3000, 40000], \n",
        "                  key_on='feature.properties.name').add_to(s_map)\n",
        "\n",
        "s_map"
      ],
      "metadata": {
        "id": "-50gHyaA79Ms"
      },
      "execution_count": null,
      "outputs": []
    },
    {
      "cell_type": "markdown",
      "source": [
        "#3. 지역별 전기자동차 증가"
      ],
      "metadata": {
        "id": "-ZnxVZvgr0as"
      }
    },
    {
      "cell_type": "markdown",
      "source": [
        "**폰트설치**"
      ],
      "metadata": {
        "id": "2FkFZ6QSl12n"
      }
    },
    {
      "cell_type": "code",
      "source": [
        "!apt-get update -qq\n",
        "!apt-get install fonts-nanum* -qq"
      ],
      "metadata": {
        "id": "vsGEH9oKgrn1"
      },
      "execution_count": 1,
      "outputs": []
    },
    {
      "cell_type": "markdown",
      "source": [
        "**한글 폰트 설치**"
      ],
      "metadata": {
        "id": "bf17VI9Al7LJ"
      }
    },
    {
      "cell_type": "code",
      "source": [
        "import matplotlib.font_manager as fm\n",
        "fm._rebuild()\n",
        "\n",
        "import matplotlib.pyplot as plt\n",
        "plt.rc('font',family=\"NanumGothic\")"
      ],
      "metadata": {
        "id": "RAeXuBBig3Ls"
      },
      "execution_count": 2,
      "outputs": []
    },
    {
      "cell_type": "markdown",
      "source": [
        "**CSV 파일 업로드**"
      ],
      "metadata": {
        "id": "SmwPuB8CmEBk"
      }
    },
    {
      "cell_type": "code",
      "source": [
        "from google.colab import files\n",
        "import pandas as pd\n",
        "import seaborn as sns\n",
        "loaded = files.upload()\n",
        "df=pd.read_csv('지역별충전소정보.csv',encoding='949')\n",
        "print(df)"
      ],
      "metadata": {
        "colab": {
          "base_uri": "https://localhost:8080/",
          "height": 350
        },
        "id": "vQBtXpBBhKh7",
        "outputId": "d6edbefe-d5b3-4c17-8fd3-fc593f12c21b"
      },
      "execution_count": 29,
      "outputs": [
        {
          "output_type": "display_data",
          "data": {
            "text/plain": [
              "<IPython.core.display.HTML object>"
            ],
            "text/html": [
              "\n",
              "     <input type=\"file\" id=\"files-7bca52e7-4421-4b8b-b297-86552a55dcfb\" name=\"files[]\" multiple disabled\n",
              "        style=\"border:none\" />\n",
              "     <output id=\"result-7bca52e7-4421-4b8b-b297-86552a55dcfb\">\n",
              "      Upload widget is only available when the cell has been executed in the\n",
              "      current browser session. Please rerun this cell to enable.\n",
              "      </output>\n",
              "      <script>// Copyright 2017 Google LLC\n",
              "//\n",
              "// Licensed under the Apache License, Version 2.0 (the \"License\");\n",
              "// you may not use this file except in compliance with the License.\n",
              "// You may obtain a copy of the License at\n",
              "//\n",
              "//      http://www.apache.org/licenses/LICENSE-2.0\n",
              "//\n",
              "// Unless required by applicable law or agreed to in writing, software\n",
              "// distributed under the License is distributed on an \"AS IS\" BASIS,\n",
              "// WITHOUT WARRANTIES OR CONDITIONS OF ANY KIND, either express or implied.\n",
              "// See the License for the specific language governing permissions and\n",
              "// limitations under the License.\n",
              "\n",
              "/**\n",
              " * @fileoverview Helpers for google.colab Python module.\n",
              " */\n",
              "(function(scope) {\n",
              "function span(text, styleAttributes = {}) {\n",
              "  const element = document.createElement('span');\n",
              "  element.textContent = text;\n",
              "  for (const key of Object.keys(styleAttributes)) {\n",
              "    element.style[key] = styleAttributes[key];\n",
              "  }\n",
              "  return element;\n",
              "}\n",
              "\n",
              "// Max number of bytes which will be uploaded at a time.\n",
              "const MAX_PAYLOAD_SIZE = 100 * 1024;\n",
              "\n",
              "function _uploadFiles(inputId, outputId) {\n",
              "  const steps = uploadFilesStep(inputId, outputId);\n",
              "  const outputElement = document.getElementById(outputId);\n",
              "  // Cache steps on the outputElement to make it available for the next call\n",
              "  // to uploadFilesContinue from Python.\n",
              "  outputElement.steps = steps;\n",
              "\n",
              "  return _uploadFilesContinue(outputId);\n",
              "}\n",
              "\n",
              "// This is roughly an async generator (not supported in the browser yet),\n",
              "// where there are multiple asynchronous steps and the Python side is going\n",
              "// to poll for completion of each step.\n",
              "// This uses a Promise to block the python side on completion of each step,\n",
              "// then passes the result of the previous step as the input to the next step.\n",
              "function _uploadFilesContinue(outputId) {\n",
              "  const outputElement = document.getElementById(outputId);\n",
              "  const steps = outputElement.steps;\n",
              "\n",
              "  const next = steps.next(outputElement.lastPromiseValue);\n",
              "  return Promise.resolve(next.value.promise).then((value) => {\n",
              "    // Cache the last promise value to make it available to the next\n",
              "    // step of the generator.\n",
              "    outputElement.lastPromiseValue = value;\n",
              "    return next.value.response;\n",
              "  });\n",
              "}\n",
              "\n",
              "/**\n",
              " * Generator function which is called between each async step of the upload\n",
              " * process.\n",
              " * @param {string} inputId Element ID of the input file picker element.\n",
              " * @param {string} outputId Element ID of the output display.\n",
              " * @return {!Iterable<!Object>} Iterable of next steps.\n",
              " */\n",
              "function* uploadFilesStep(inputId, outputId) {\n",
              "  const inputElement = document.getElementById(inputId);\n",
              "  inputElement.disabled = false;\n",
              "\n",
              "  const outputElement = document.getElementById(outputId);\n",
              "  outputElement.innerHTML = '';\n",
              "\n",
              "  const pickedPromise = new Promise((resolve) => {\n",
              "    inputElement.addEventListener('change', (e) => {\n",
              "      resolve(e.target.files);\n",
              "    });\n",
              "  });\n",
              "\n",
              "  const cancel = document.createElement('button');\n",
              "  inputElement.parentElement.appendChild(cancel);\n",
              "  cancel.textContent = 'Cancel upload';\n",
              "  const cancelPromise = new Promise((resolve) => {\n",
              "    cancel.onclick = () => {\n",
              "      resolve(null);\n",
              "    };\n",
              "  });\n",
              "\n",
              "  // Wait for the user to pick the files.\n",
              "  const files = yield {\n",
              "    promise: Promise.race([pickedPromise, cancelPromise]),\n",
              "    response: {\n",
              "      action: 'starting',\n",
              "    }\n",
              "  };\n",
              "\n",
              "  cancel.remove();\n",
              "\n",
              "  // Disable the input element since further picks are not allowed.\n",
              "  inputElement.disabled = true;\n",
              "\n",
              "  if (!files) {\n",
              "    return {\n",
              "      response: {\n",
              "        action: 'complete',\n",
              "      }\n",
              "    };\n",
              "  }\n",
              "\n",
              "  for (const file of files) {\n",
              "    const li = document.createElement('li');\n",
              "    li.append(span(file.name, {fontWeight: 'bold'}));\n",
              "    li.append(span(\n",
              "        `(${file.type || 'n/a'}) - ${file.size} bytes, ` +\n",
              "        `last modified: ${\n",
              "            file.lastModifiedDate ? file.lastModifiedDate.toLocaleDateString() :\n",
              "                                    'n/a'} - `));\n",
              "    const percent = span('0% done');\n",
              "    li.appendChild(percent);\n",
              "\n",
              "    outputElement.appendChild(li);\n",
              "\n",
              "    const fileDataPromise = new Promise((resolve) => {\n",
              "      const reader = new FileReader();\n",
              "      reader.onload = (e) => {\n",
              "        resolve(e.target.result);\n",
              "      };\n",
              "      reader.readAsArrayBuffer(file);\n",
              "    });\n",
              "    // Wait for the data to be ready.\n",
              "    let fileData = yield {\n",
              "      promise: fileDataPromise,\n",
              "      response: {\n",
              "        action: 'continue',\n",
              "      }\n",
              "    };\n",
              "\n",
              "    // Use a chunked sending to avoid message size limits. See b/62115660.\n",
              "    let position = 0;\n",
              "    do {\n",
              "      const length = Math.min(fileData.byteLength - position, MAX_PAYLOAD_SIZE);\n",
              "      const chunk = new Uint8Array(fileData, position, length);\n",
              "      position += length;\n",
              "\n",
              "      const base64 = btoa(String.fromCharCode.apply(null, chunk));\n",
              "      yield {\n",
              "        response: {\n",
              "          action: 'append',\n",
              "          file: file.name,\n",
              "          data: base64,\n",
              "        },\n",
              "      };\n",
              "\n",
              "      let percentDone = fileData.byteLength === 0 ?\n",
              "          100 :\n",
              "          Math.round((position / fileData.byteLength) * 100);\n",
              "      percent.textContent = `${percentDone}% done`;\n",
              "\n",
              "    } while (position < fileData.byteLength);\n",
              "  }\n",
              "\n",
              "  // All done.\n",
              "  yield {\n",
              "    response: {\n",
              "      action: 'complete',\n",
              "    }\n",
              "  };\n",
              "}\n",
              "\n",
              "scope.google = scope.google || {};\n",
              "scope.google.colab = scope.google.colab || {};\n",
              "scope.google.colab._files = {\n",
              "  _uploadFiles,\n",
              "  _uploadFilesContinue,\n",
              "};\n",
              "})(self);\n",
              "</script> "
            ]
          },
          "metadata": {}
        },
        {
          "output_type": "stream",
          "name": "stdout",
          "text": [
            "Saving 연도별전기차증가.csv to 연도별전기차증가 (1).csv\n",
            "     연도  강원도  경기도  경상남도  경상북도  광주광역시  대구광역시  대전광역시  부산광역시  서울특별시  세종특별시  \\\n",
            "0  2016    5   22    24     8      3      4      3      6     28      1   \n",
            "1  2017  118  572   199   127     52    181     86     97    444     48   \n",
            "2  2018  140  631   235   175     74    205     98    118    518     61   \n",
            "3  2019  165  699   255   190     85    227    105    124    546     61   \n",
            "4  2020  185  760   362   258    100    242    115    133    584     64   \n",
            "5  2021  202  805   370   264    102    248    120    145    605     64   \n",
            "\n",
            "   울산광역시  인천광역시  전라남도  전라북도  제주특별시  충청남도  충청북도  \n",
            "0      4      3    19     9      7     5    13  \n",
            "1     38    117   125   109    155    73   125  \n",
            "2     42    129   149   130    185    95   145  \n",
            "3     45    137   169   147    202   109   162  \n",
            "4     48    153   181   165    202   144   186  \n",
            "5     50    164   195   180    223   169   189  \n"
          ]
        }
      ]
    },
    {
      "cell_type": "markdown",
      "source": [
        "**index_col을 연도별로 설정**"
      ],
      "metadata": {
        "id": "Ncs20__wmJn1"
      }
    },
    {
      "cell_type": "code",
      "source": [
        "df=pd.read_csv('지역별충전소정보.csv',encoding='949',index_col='연도')\n",
        "print(df)\n"
      ],
      "metadata": {
        "colab": {
          "base_uri": "https://localhost:8080/"
        },
        "id": "8Ej84XjhhdnB",
        "outputId": "06bf7eb3-10df-403f-aef7-dd3eab6f11cb"
      },
      "execution_count": 30,
      "outputs": [
        {
          "output_type": "stream",
          "name": "stdout",
          "text": [
            "      강원도  경기도  경상남도  경상북도  광주광역시  대구광역시  대전광역시  부산광역시  서울특별시  세종특별시  울산광역시  \\\n",
            "연도                                                                            \n",
            "2016    5   22    24     8      3      4      3      6     28      1      4   \n",
            "2017  118  572   199   127     52    181     86     97    444     48     38   \n",
            "2018  140  631   235   175     74    205     98    118    518     61     42   \n",
            "2019  165  699   255   190     85    227    105    124    546     61     45   \n",
            "2020  185  760   362   258    100    242    115    133    584     64     48   \n",
            "2021  202  805   370   264    102    248    120    145    605     64     50   \n",
            "\n",
            "      인천광역시  전라남도  전라북도  제주특별시  충청남도  충청북도  \n",
            "연도                                          \n",
            "2016      3    19     9      7     5    13  \n",
            "2017    117   125   109    155    73   125  \n",
            "2018    129   149   130    185    95   145  \n",
            "2019    137   169   147    202   109   162  \n",
            "2020    153   181   165    202   144   186  \n",
            "2021    164   195   180    223   169   189  \n"
          ]
        }
      ]
    },
    {
      "cell_type": "markdown",
      "source": [
        "**연도별 증가 그래프**"
      ],
      "metadata": {
        "id": "f-SVu5EdmT5z"
      }
    },
    {
      "cell_type": "code",
      "source": [
        "car_plot = df.plot(grid=True, style = ['','g:*','','','','','','','b:*','','','r:*','','','','','']\n",
        ")\n",
        "car_plot.set_xticks([2017,2018,2019,2020,2021])\n",
        "car_plot.set_xlabel('연도')\n",
        "car_plot.set_ylabel('충전소설치')\n",
        "car_plot.set_title('충전소정보')\n",
        "\n",
        "plt.show()\n"
      ],
      "metadata": {
        "colab": {
          "base_uri": "https://localhost:8080/",
          "height": 304
        },
        "id": "x19cCkcCh_CS",
        "outputId": "bd8712d0-2a51-41e0-9bac-133e009e69a8"
      },
      "execution_count": 31,
      "outputs": [
        {
          "output_type": "display_data",
          "data": {
            "text/plain": [
              "<Figure size 432x288 with 1 Axes>"
            ],
            "image/png": "[encoded data removed]"
          },
          "metadata": {
            "needs_background": "light"
          }
        }
      ]
    },
    {
      "cell_type": "markdown",
      "source": [
        "**연도별 전기차량 증가**"
      ],
      "metadata": {
        "id": "vo2T4wtEv9l4"
      }
    },
    {
      "cell_type": "code",
      "source": [
        "from google.colab import files\n",
        "import pandas as pd\n",
        "loaded = files.upload()\n",
        "df=pd.read_csv('연도별전기차증가.csv',encoding='949')\n",
        "print(df)"
      ],
      "metadata": {
        "colab": {
          "base_uri": "https://localhost:8080/",
          "height": 277
        },
        "id": "73zXFkY3o0dm",
        "outputId": "383bf20e-39dd-4d14-a1f2-b530283f9f24"
      },
      "execution_count": 32,
      "outputs": [
        {
          "output_type": "display_data",
          "data": {
            "text/plain": [
              "<IPython.core.display.HTML object>"
            ],
            "text/html": [
              "\n",
              "     <input type=\"file\" id=\"files-5c32d817-515f-4d2b-90b7-68f6080c2b38\" name=\"files[]\" multiple disabled\n",
              "        style=\"border:none\" />\n",
              "     <output id=\"result-5c32d817-515f-4d2b-90b7-68f6080c2b38\">\n",
              "      Upload widget is only available when the cell has been executed in the\n",
              "      current browser session. Please rerun this cell to enable.\n",
              "      </output>\n",
              "      <script>// Copyright 2017 Google LLC\n",
              "//\n",
              "// Licensed under the Apache License, Version 2.0 (the \"License\");\n",
              "// you may not use this file except in compliance with the License.\n",
              "// You may obtain a copy of the License at\n",
              "//\n",
              "//      http://www.apache.org/licenses/LICENSE-2.0\n",
              "//\n",
              "// Unless required by applicable law or agreed to in writing, software\n",
              "// distributed under the License is distributed on an \"AS IS\" BASIS,\n",
              "// WITHOUT WARRANTIES OR CONDITIONS OF ANY KIND, either express or implied.\n",
              "// See the License for the specific language governing permissions and\n",
              "// limitations under the License.\n",
              "\n",
              "/**\n",
              " * @fileoverview Helpers for google.colab Python module.\n",
              " */\n",
              "(function(scope) {\n",
              "function span(text, styleAttributes = {}) {\n",
              "  const element = document.createElement('span');\n",
              "  element.textContent = text;\n",
              "  for (const key of Object.keys(styleAttributes)) {\n",
              "    element.style[key] = styleAttributes[key];\n",
              "  }\n",
              "  return element;\n",
              "}\n",
              "\n",
              "// Max number of bytes which will be uploaded at a time.\n",
              "const MAX_PAYLOAD_SIZE = 100 * 1024;\n",
              "\n",
              "function _uploadFiles(inputId, outputId) {\n",
              "  const steps = uploadFilesStep(inputId, outputId);\n",
              "  const outputElement = document.getElementById(outputId);\n",
              "  // Cache steps on the outputElement to make it available for the next call\n",
              "  // to uploadFilesContinue from Python.\n",
              "  outputElement.steps = steps;\n",
              "\n",
              "  return _uploadFilesContinue(outputId);\n",
              "}\n",
              "\n",
              "// This is roughly an async generator (not supported in the browser yet),\n",
              "// where there are multiple asynchronous steps and the Python side is going\n",
              "// to poll for completion of each step.\n",
              "// This uses a Promise to block the python side on completion of each step,\n",
              "// then passes the result of the previous step as the input to the next step.\n",
              "function _uploadFilesContinue(outputId) {\n",
              "  const outputElement = document.getElementById(outputId);\n",
              "  const steps = outputElement.steps;\n",
              "\n",
              "  const next = steps.next(outputElement.lastPromiseValue);\n",
              "  return Promise.resolve(next.value.promise).then((value) => {\n",
              "    // Cache the last promise value to make it available to the next\n",
              "    // step of the generator.\n",
              "    outputElement.lastPromiseValue = value;\n",
              "    return next.value.response;\n",
              "  });\n",
              "}\n",
              "\n",
              "/**\n",
              " * Generator function which is called between each async step of the upload\n",
              " * process.\n",
              " * @param {string} inputId Element ID of the input file picker element.\n",
              " * @param {string} outputId Element ID of the output display.\n",
              " * @return {!Iterable<!Object>} Iterable of next steps.\n",
              " */\n",
              "function* uploadFilesStep(inputId, outputId) {\n",
              "  const inputElement = document.getElementById(inputId);\n",
              "  inputElement.disabled = false;\n",
              "\n",
              "  const outputElement = document.getElementById(outputId);\n",
              "  outputElement.innerHTML = '';\n",
              "\n",
              "  const pickedPromise = new Promise((resolve) => {\n",
              "    inputElement.addEventListener('change', (e) => {\n",
              "      resolve(e.target.files);\n",
              "    });\n",
              "  });\n",
              "\n",
              "  const cancel = document.createElement('button');\n",
              "  inputElement.parentElement.appendChild(cancel);\n",
              "  cancel.textContent = 'Cancel upload';\n",
              "  const cancelPromise = new Promise((resolve) => {\n",
              "    cancel.onclick = () => {\n",
              "      resolve(null);\n",
              "    };\n",
              "  });\n",
              "\n",
              "  // Wait for the user to pick the files.\n",
              "  const files = yield {\n",
              "    promise: Promise.race([pickedPromise, cancelPromise]),\n",
              "    response: {\n",
              "      action: 'starting',\n",
              "    }\n",
              "  };\n",
              "\n",
              "  cancel.remove();\n",
              "\n",
              "  // Disable the input element since further picks are not allowed.\n",
              "  inputElement.disabled = true;\n",
              "\n",
              "  if (!files) {\n",
              "    return {\n",
              "      response: {\n",
              "        action: 'complete',\n",
              "      }\n",
              "    };\n",
              "  }\n",
              "\n",
              "  for (const file of files) {\n",
              "    const li = document.createElement('li');\n",
              "    li.append(span(file.name, {fontWeight: 'bold'}));\n",
              "    li.append(span(\n",
              "        `(${file.type || 'n/a'}) - ${file.size} bytes, ` +\n",
              "        `last modified: ${\n",
              "            file.lastModifiedDate ? file.lastModifiedDate.toLocaleDateString() :\n",
              "                                    'n/a'} - `));\n",
              "    const percent = span('0% done');\n",
              "    li.appendChild(percent);\n",
              "\n",
              "    outputElement.appendChild(li);\n",
              "\n",
              "    const fileDataPromise = new Promise((resolve) => {\n",
              "      const reader = new FileReader();\n",
              "      reader.onload = (e) => {\n",
              "        resolve(e.target.result);\n",
              "      };\n",
              "      reader.readAsArrayBuffer(file);\n",
              "    });\n",
              "    // Wait for the data to be ready.\n",
              "    let fileData = yield {\n",
              "      promise: fileDataPromise,\n",
              "      response: {\n",
              "        action: 'continue',\n",
              "      }\n",
              "    };\n",
              "\n",
              "    // Use a chunked sending to avoid message size limits. See b/62115660.\n",
              "    let position = 0;\n",
              "    do {\n",
              "      const length = Math.min(fileData.byteLength - position, MAX_PAYLOAD_SIZE);\n",
              "      const chunk = new Uint8Array(fileData, position, length);\n",
              "      position += length;\n",
              "\n",
              "      const base64 = btoa(String.fromCharCode.apply(null, chunk));\n",
              "      yield {\n",
              "        response: {\n",
              "          action: 'append',\n",
              "          file: file.name,\n",
              "          data: base64,\n",
              "        },\n",
              "      };\n",
              "\n",
              "      let percentDone = fileData.byteLength === 0 ?\n",
              "          100 :\n",
              "          Math.round((position / fileData.byteLength) * 100);\n",
              "      percent.textContent = `${percentDone}% done`;\n",
              "\n",
              "    } while (position < fileData.byteLength);\n",
              "  }\n",
              "\n",
              "  // All done.\n",
              "  yield {\n",
              "    response: {\n",
              "      action: 'complete',\n",
              "    }\n",
              "  };\n",
              "}\n",
              "\n",
              "scope.google = scope.google || {};\n",
              "scope.google.colab = scope.google.colab || {};\n",
              "scope.google.colab._files = {\n",
              "  _uploadFiles,\n",
              "  _uploadFilesContinue,\n",
              "};\n",
              "})(self);\n",
              "</script> "
            ]
          },
          "metadata": {}
        },
        {
          "output_type": "stream",
          "name": "stdout",
          "text": [
            "Saving 연도별전기차증가.csv to 연도별전기차증가 (2).csv\n",
            "    기준일     서울     인천     경기    강원    충북     충남    대전    세종     경북     대구  \\\n",
            "0  2019  14952   2598  11750  2445  2412   2841  2555   903   4051  11313   \n",
            "1  2020  23393   5366  20477  4078  3883   5489  4469  1148   7051  12630   \n",
            "2  2021  40564  12820  39958  7946  8194   9991  7701  1859  11240  16185   \n",
            "3  2022  43206  14134  45891  8652  9683  11532  8595  2069  12318  17584   \n",
            "\n",
            "     전북    전남    광주     경남     부산    울산     제주      합계  \n",
            "0  1841  3326  2464   3626   3216  1447  18178   89918  \n",
            "1  3323  5223  3210   6308   5355  2274  21285  134962  \n",
            "2  7365  8708  5194  12606  12375  3166  25571  231443  \n",
            "3  8404  9978  6015  14371  15330  3789  26702  258253  \n"
          ]
        }
      ]
    },
    {
      "cell_type": "markdown",
      "source": [
        "**index_col을 기준일로 설정**"
      ],
      "metadata": {
        "id": "PJH1yPt9wQyW"
      }
    },
    {
      "cell_type": "code",
      "source": [
        "df=pd.read_csv('연도별전기차증가.csv',encoding='949',index_col='기준일')\n",
        "print(df)\n"
      ],
      "metadata": {
        "colab": {
          "base_uri": "https://localhost:8080/"
        },
        "id": "jj-oIV-spF9R",
        "outputId": "293f38d8-2dcd-4485-c121-915914467382"
      },
      "execution_count": 33,
      "outputs": [
        {
          "output_type": "stream",
          "name": "stdout",
          "text": [
            "         서울     인천     경기    강원    충북     충남    대전    세종     경북     대구    전북  \\\n",
            "기준일                                                                            \n",
            "2019  14952   2598  11750  2445  2412   2841  2555   903   4051  11313  1841   \n",
            "2020  23393   5366  20477  4078  3883   5489  4469  1148   7051  12630  3323   \n",
            "2021  40564  12820  39958  7946  8194   9991  7701  1859  11240  16185  7365   \n",
            "2022  43206  14134  45891  8652  9683  11532  8595  2069  12318  17584  8404   \n",
            "\n",
            "        전남    광주     경남     부산    울산     제주      합계  \n",
            "기준일                                                  \n",
            "2019  3326  2464   3626   3216  1447  18178   89918  \n",
            "2020  5223  3210   6308   5355  2274  21285  134962  \n",
            "2021  8708  5194  12606  12375  3166  25571  231443  \n",
            "2022  9978  6015  14371  15330  3789  26702  258253  \n"
          ]
        }
      ]
    },
    {
      "cell_type": "markdown",
      "source": [
        "**연도별 전기차 증가 그래프**"
      ],
      "metadata": {
        "id": "rrRLpOABwbSp"
      }
    },
    {
      "cell_type": "code",
      "source": [
        "car_plot = df.plot(grid=True, style = ['','','','','','','','','','','','','','','','','','r:*'])\n",
        "\n",
        "car_plot.set_xticks([2019,2020,2021,2022])\n",
        "car_plot.set_xlabel('기준일')\n",
        "car_plot.set_ylabel('차량 수')\n",
        "car_plot.set_title('연도별 전기차 증가')\n",
        "\n",
        "plt.show()"
      ],
      "metadata": {
        "colab": {
          "base_uri": "https://localhost:8080/",
          "height": 327
        },
        "id": "Sap4KSHvpIz_",
        "outputId": "b93813d6-1f04-45e5-d1a3-3c3434384c81"
      },
      "execution_count": 41,
      "outputs": [
        {
          "output_type": "display_data",
          "data": {
            "text/plain": [
              "<Figure size 432x288 with 1 Axes>"
            ],
            "image/png": "[encoded data removed]"
          },
          "metadata": {
            "needs_background": "light"
          }
        }
      ]
    }
  ]
}