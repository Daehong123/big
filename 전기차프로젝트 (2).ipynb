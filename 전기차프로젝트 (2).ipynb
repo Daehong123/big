{
  "nbformat": 4,
  "nbformat_minor": 0,
  "metadata": {
    "colab": {
      "provenance": []
    },
    "kernelspec": {
      "name": "python3",
      "display_name": "Python 3"
    },
    "language_info": {
      "name": "python"
    }
  },
  "cells": [
    {
      "cell_type": "markdown",
      "source": [
        "# 1. 설치 현황, 전기차 충전소 정보"
      ],
      "metadata": {
        "id": "c7r0pTNR6lBS"
      }
    },
    {
      "cell_type": "markdown",
      "source": [
        "**패키지 설치 및 로드하기**"
      ],
      "metadata": {
        "id": "dFi9NC3pYvht"
      }
    },
    {
      "cell_type": "code",
      "source": [
        "import csv\n",
        "import pandas as pd\n",
        "import folium\n"
      ],
      "metadata": {
        "id": "hVDSoqUPY_7P"
      },
      "execution_count": 1,
      "outputs": []
    },
    {
      "cell_type": "markdown",
      "source": [
        "**데이터 프레임변환**"
      ],
      "metadata": {
        "id": "UKZZYN4SZHV9"
      }
    },
    {
      "cell_type": "code",
      "source": [
        "df_isnull = pd.read_csv('/content/전기자동차_위도경도(수정).csv',  encoding = 'cp949') \n",
        "df = df_isnull.dropna(how='any', axis = 0)"
      ],
      "metadata": {
        "id": "j1g-Zle5ZLpJ"
      },
      "execution_count": 2,
      "outputs": []
    },
    {
      "cell_type": "markdown",
      "source": [
        "**데이터 검토하기**"
      ],
      "metadata": {
        "id": "nFYUawLCZU5w"
      }
    },
    {
      "cell_type": "code",
      "source": [
        "print(df)"
      ],
      "metadata": {
        "colab": {
          "base_uri": "https://localhost:8080/"
        },
        "id": "79oIAdJlZY5Z",
        "outputId": "ec63f075-86f6-49a0-d388-126b3ea50692"
      },
      "execution_count": 3,
      "outputs": [
        {
          "output_type": "stream",
          "name": "stdout",
          "text": [
            "        시도         충전소명         위도          경도\n",
            "0      강원도     강릉더샵 아파트  37.750646  128.909940\n",
            "1      강원도       강릉특별지사  37.782175  128.918810\n",
            "2      강원도       그린내하우스  37.760830  128.918984\n",
            "3      강원도       봉평면사무소  37.616188  128.379730\n",
            "4      강원도     강원도교육연수원  37.786442  128.918339\n",
            "..     ...          ...        ...         ...\n",
            "438  서울특별시    구로성호메이플라워  37.496904  126.891384\n",
            "439  서울특별시  고척LIG리가 아파트  37.505698  126.861506\n",
            "440  서울특별시  구로4동 주택가 공동  37.489516  126.886898\n",
            "441  서울특별시      구로삼성래미안  37.487507  126.892029\n",
            "442  서울특별시      동아한신아파트  37.500949  126.865399\n",
            "\n",
            "[443 rows x 4 columns]\n"
          ]
        }
      ]
    },
    {
      "cell_type": "markdown",
      "source": [
        "**지도 생성**"
      ],
      "metadata": {
        "id": "G7sOdn1FZytH"
      }
    },
    {
      "cell_type": "code",
      "source": [
        "smap = folium.Map(location=[36.437795 , 127.423688],titles=\"Stamen Terrian\", zoom_start=8)"
      ],
      "metadata": {
        "id": "FsAbP4rFZ50e"
      },
      "execution_count": 4,
      "outputs": []
    },
    {
      "cell_type": "markdown",
      "source": [
        "**생성된 지도에 마크표시**"
      ],
      "metadata": {
        "id": "PkAFkDCQaE4p"
      }
    },
    {
      "cell_type": "code",
      "source": [
        "for name, lat, lng in zip(df.충전소명, df.위도, df.경도) :\n",
        "  folium.Marker([lat, lng], popup=name).add_to(smap)\n",
        "smap"
      ],
      "metadata": {
        "colab": {
          "base_uri": "https://localhost:8080/",
          "height": 787
        },
        "id": "9ACFL53FaIeK",
        "outputId": "c0096a50-9960-4d40-ce9e-08de835447ff"
      },
      "execution_count": 6,
      "outputs": [
        {
          "output_type": "execute_result",
          "data": {
            "text/plain": [
              "<folium.folium.Map at 0x7ff97b6115e0>"
            ],
            "text/html": [
              "<div style=\"width:100%;\"><div style=\"position:relative;width:100%;height:0;padding-bottom:60%;\"><span style=\"color:#565656\">Make this Notebook Trusted to load map: File -> Trust Notebook</span><iframe srcdoc=\"&lt;!DOCTYPE html&gt;\n",
              "&lt;html&gt;\n",
              "&lt;head&gt;\n",
              "    \n",
              "    &lt;meta http-equiv=&quot;content-type&quot; content=&quot;text/html; charset=UTF-8&quot; /&gt;\n",
              "    \n",
              "        &lt;script&gt;\n",
              "            L_NO_TOUCH = false;\n",
              "            L_DISABLE_3D = false;\n",
              "        &lt;/script&gt;\n",
              "    \n",
              "    &lt;style&gt;html, body {width: 100%;height: 100%;margin: 0;padding: 0;}&lt;/style&gt;\n",
              "    &lt;style&gt;#map {position:absolute;top:0;bottom:0;right:0;left:0;}&lt;/style&gt;\n",
              "    &lt;script src=&quot;https://cdn.jsdelivr.net/npm/leaflet@1.6.0/dist/leaflet.js&quot;&gt;&lt;/script&gt;\n",
              "    &lt;script src=&quot;https://code.jquery.com/jquery-1.12.4.min.js&quot;&gt;&lt;/script&gt;\n",
              "    &lt;script src=&quot;https://maxcdn.bootstrapcdn.com/bootstrap/3.2.0/js/bootstrap.min.js&quot;&gt;&lt;/script&gt;\n",
              "    &lt;script src=&quot;https://cdnjs.cloudflare.com/ajax/libs/Leaflet.awesome-markers/2.0.2/leaflet.awesome-markers.js&quot;&gt;&lt;/script&gt;\n",
              "    &lt;link rel=&quot;stylesheet&quot; href=&quot;https://cdn.jsdelivr.net/npm/leaflet@1.6.0/dist/leaflet.css&quot;/&gt;\n",
              "    &lt;link rel=&quot;stylesheet&quot; href=&quot;https://maxcdn.bootstrapcdn.com/bootstrap/3.2.0/css/bootstrap.min.css&quot;/&gt;\n",
              "    &lt;link rel=&quot;stylesheet&quot; href=&quot;https://maxcdn.bootstrapcdn.com/bootstrap/3.2.0/css/bootstrap-theme.min.css&quot;/&gt;\n",
              "    &lt;link rel=&quot;stylesheet&quot; href=&quot;https://maxcdn.bootstrapcdn.com/font-awesome/4.6.3/css/font-awesome.min.css&quot;/&gt;\n",
              "    &lt;link rel=&quot;stylesheet&quot; href=&quot;https://cdnjs.cloudflare.com/ajax/libs/Leaflet.awesome-markers/2.0.2/leaflet.awesome-markers.css&quot;/&gt;\n",
              "    &lt;link rel=&quot;stylesheet&quot; href=&quot;https://cdn.jsdelivr.net/gh/python-visualization/folium/folium/templates/leaflet.awesome.rotate.min.css&quot;/&gt;\n",
              "    \n",
              "            &lt;meta name=&quot;viewport&quot; content=&quot;width=device-width,\n",
              "                initial-scale=1.0, maximum-scale=1.0, user-scalable=no&quot; /&gt;\n",
              "            &lt;style&gt;\n",
              "                #map_88169a0f415e61f54994bb10a9c98ecf {\n",
              "                    position: relative;\n",
              "                    width: 100.0%;\n",
              "                    height: 100.0%;\n",
              "                    left: 0.0%;\n",
              "                    top: 0.0%;\n",
              "                }\n",
              "            &lt;/style&gt;\n",
              "        \n",
              "&lt;/head&gt;\n",
              "&lt;body&gt;\n",
              "    \n",
              "    \n",
              "            &lt;div class=&quot;folium-map&quot; id=&quot;map_88169a0f415e61f54994bb10a9c98ecf&quot; &gt;&lt;/div&gt;\n",
              "        \n",
              "&lt;/body&gt;\n",
              "&lt;script&gt;\n",
              "    \n",
              "    \n",
              "            var map_88169a0f415e61f54994bb10a9c98ecf = L.map(\n",
              "                &quot;map_88169a0f415e61f54994bb10a9c98ecf&quot;,\n",
              "                {\n",
              "                    center: [36.437795, 127.423688],\n",
              "                    crs: L.CRS.EPSG3857,\n",
              "                    zoom: 8,\n",
              "                    zoomControl: true,\n",
              "                    preferCanvas: false,\n",
              "                    titles: &quot;Stamen Terrian&quot;,\n",
              "                }\n",
              "            );\n",
              "\n",
              "            \n",
              "\n",
              "        \n",
              "    \n",
              "            var tile_layer_256bd0baeb3a53905c508f781fa62dc2 = L.tileLayer(\n",
              "                &quot;https://{s}.tile.openstreetmap.org/{z}/{x}/{y}.png&quot;,\n",
              "                {&quot;attribution&quot;: &quot;Data by \\u0026copy; \\u003ca href=\\&quot;http://openstreetmap.org\\&quot;\\u003eOpenStreetMap\\u003c/a\\u003e, under \\u003ca href=\\&quot;http://www.openstreetmap.org/copyright\\&quot;\\u003eODbL\\u003c/a\\u003e.&quot;, &quot;detectRetina&quot;: false, &quot;maxNativeZoom&quot;: 18, &quot;maxZoom&quot;: 18, &quot;minZoom&quot;: 0, &quot;noWrap&quot;: false, &quot;opacity&quot;: 1, &quot;subdomains&quot;: &quot;abc&quot;, &quot;tms&quot;: false}\n",
              "            ).addTo(map_88169a0f415e61f54994bb10a9c98ecf);\n",
              "        \n",
              "    \n",
              "            var marker_cbdef12d7eac267018bf1b4e94fbebb1 = L.marker(\n",
              "                [37.750646, 128.90994],\n",
              "                {}\n",
              "            ).addTo(map_88169a0f415e61f54994bb10a9c98ecf);\n",
              "        \n",
              "    \n",
              "        var popup_35a4ff1a40705f2baa8fa76b7f33a1dd = L.popup({&quot;maxWidth&quot;: &quot;100%&quot;});\n",
              "\n",
              "        \n",
              "            var html_c9dea9b5d04cee46c8787194822e8f9c = $(`&lt;div id=&quot;html_c9dea9b5d04cee46c8787194822e8f9c&quot; style=&quot;width: 100.0%; height: 100.0%;&quot;&gt;강릉더샵 아파트&lt;/div&gt;`)[0];\n",
              "            popup_35a4ff1a40705f2baa8fa76b7f33a1dd.setContent(html_c9dea9b5d04cee46c8787194822e8f9c);\n",
              "        \n",
              "\n",
              "        marker_cbdef12d7eac267018bf1b4e94fbebb1.bindPopup(popup_35a4ff1a40705f2baa8fa76b7f33a1dd)\n",
              "        ;\n",
              "\n",
              "        \n",
              "    \n",
              "    \n",
              "            var marker_f4a11a8921e57fce410209b5a2309841 = L.marker(\n",
              "                [37.78217537, 128.9188097],\n",
              "                {}\n",
              "            ).addTo(map_88169a0f415e61f54994bb10a9c98ecf);\n",
              "        \n",
              "    \n",
              "        var popup_f9ec0e64ad78ecc332e5d7e98a2027af = L.popup({&quot;maxWidth&quot;: &quot;100%&quot;});\n",
              "\n",
              "        \n",
              "            var html_b9ece2d33bcfea219f59841e9df3e076 = $(`&lt;div id=&quot;html_b9ece2d33bcfea219f59841e9df3e076&quot; style=&quot;width: 100.0%; height: 100.0%;&quot;&gt;강릉특별지사&lt;/div&gt;`)[0];\n",
              "            popup_f9ec0e64ad78ecc332e5d7e98a2027af.setContent(html_b9ece2d33bcfea219f59841e9df3e076);\n",
              "        \n",
              "\n",
              "        marker_f4a11a8921e57fce410209b5a2309841.bindPopup(popup_f9ec0e64ad78ecc332e5d7e98a2027af)\n",
              "        ;\n",
              "\n",
              "        \n",
              "    \n",
              "    \n",
              "            var marker_0fe0a6c060d7633be0b741f9234490f2 = L.marker(\n",
              "                [37.7608299, 128.918984],\n",
              "                {}\n",
              "            ).addTo(map_88169a0f415e61f54994bb10a9c98ecf);\n",
              "        \n",
              "    \n",
              "        var popup_e3c6c52656a6a6e80365599a9429ca2b = L.popup({&quot;maxWidth&quot;: &quot;100%&quot;});\n",
              "\n",
              "        \n",
              "            var html_cecd1b21bbbd73fdccd5b64d4bde4fad = $(`&lt;div id=&quot;html_cecd1b21bbbd73fdccd5b64d4bde4fad&quot; style=&quot;width: 100.0%; height: 100.0%;&quot;&gt;그린내하우스&lt;/div&gt;`)[0];\n",
              "            popup_e3c6c52656a6a6e80365599a9429ca2b.setContent(html_cecd1b21bbbd73fdccd5b64d4bde4fad);\n",
              "        \n",
              "\n",
              "        marker_0fe0a6c060d7633be0b741f9234490f2.bindPopup(popup_e3c6c52656a6a6e80365599a9429ca2b)\n",
              "        ;\n",
              "\n",
              "        \n",
              "    \n",
              "    \n",
              "            var marker_488a42261d0444511a20f88668ef638c = L.marker(\n",
              "                [37.6161884, 128.3797302],\n",
              "                {}\n",
              "            ).addTo(map_88169a0f415e61f54994bb10a9c98ecf);\n",
              "        \n",
              "    \n",
              "        var popup_cd5c8656d16eb7e30ca767ade7b11ac3 = L.popup({&quot;maxWidth&quot;: &quot;100%&quot;});\n",
              "\n",
              "        \n",
              "            var html_3478c9056fd435f99a2178bbd70333c0 = $(`&lt;div id=&quot;html_3478c9056fd435f99a2178bbd70333c0&quot; style=&quot;width: 100.0%; height: 100.0%;&quot;&gt;봉평면사무소&lt;/div&gt;`)[0];\n",
              "            popup_cd5c8656d16eb7e30ca767ade7b11ac3.setContent(html_3478c9056fd435f99a2178bbd70333c0);\n",
              "        \n",
              "\n",
              "        marker_488a42261d0444511a20f88668ef638c.bindPopup(popup_cd5c8656d16eb7e30ca767ade7b11ac3)\n",
              "        ;\n",
              "\n",
              "        \n",
              "    \n",
              "    \n",
              "            var marker_9234872cf10edc254d0cfb900c379ab1 = L.marker(\n",
              "                [37.78644219, 128.9183389],\n",
              "                {}\n",
              "            ).addTo(map_88169a0f415e61f54994bb10a9c98ecf);\n",
              "        \n",
              "    \n",
              "        var popup_ba398cc0070e2836de83550646046bc2 = L.popup({&quot;maxWidth&quot;: &quot;100%&quot;});\n",
              "\n",
              "        \n",
              "            var html_0abf8c2d2834178699bde62afc0fd12c = $(`&lt;div id=&quot;html_0abf8c2d2834178699bde62afc0fd12c&quot; style=&quot;width: 100.0%; height: 100.0%;&quot;&gt;강원도교육연수원&lt;/div&gt;`)[0];\n",
              "            popup_ba398cc0070e2836de83550646046bc2.setContent(html_0abf8c2d2834178699bde62afc0fd12c);\n",
              "        \n",
              "\n",
              "        marker_9234872cf10edc254d0cfb900c379ab1.bindPopup(popup_ba398cc0070e2836de83550646046bc2)\n",
              "        ;\n",
              "\n",
              "        \n",
              "    \n",
              "    \n",
    {
      "cell_type": "markdown",
      "source": [
        "#2. 지역별 전기자동차 현황 "
      ],
      "metadata": {
        "id": "bzKQwxJvro-X"
      }
    },
    {
      "cell_type": "markdown",
      "source": [
        "**패키지 설치 및 로드하기**"
      ],
      "metadata": {
        "id": "7h_vrdepap61"
      }
    },
    {
      "cell_type": "code",
      "execution_count": 5,
      "metadata": {
        "id": "iLqW4_TV6kDS"
      },
      "outputs": [],
      "source": [
        "import pandas as pd\n",
        "import folium"
      ]
    },
    {
      "cell_type": "markdown",
      "source": [
        "**데이터 프레임 변환**"
      ],
      "metadata": {
        "id": "rS5pMTLSZHGv"
      }
    },
    {
      "cell_type": "code",
      "source": [
        "df=pd.read_csv('/content/서울전기차대수.csv', encoding='cp949')#utf8 , cp949"
      ],
      "metadata": {
        "id": "wCgW0yq1axnA",
        "colab": {
          "base_uri": "https://localhost:8080/",
          "height": 324
        },
        "outputId": "a6cd05a8-6c71-43f0-895a-9f04aee9003f"
      },
      "execution_count": 6,
      "outputs": [
        {
          "output_type": "error",
          "ename": "FileNotFoundError",
          "evalue": "ignored",
          "traceback": [
            "\u001b[0;31m---------------------------------------------------------------------------\u001b[0m",
            "\u001b[0;31mFileNotFoundError\u001b[0m                         Traceback (most recent call last)",
            "\u001b[0;32m<ipython-input-6-5eaaacce6de7>\u001b[0m in \u001b[0;36m<module>\u001b[0;34m\u001b[0m\n\u001b[0;32m----> 1\u001b[0;31m \u001b[0mdf\u001b[0m\u001b[0;34m=\u001b[0m\u001b[0mpd\u001b[0m\u001b[0;34m.\u001b[0m\u001b[0mread_csv\u001b[0m\u001b[0;34m(\u001b[0m\u001b[0;34m'/content/서울전기차대수.csv'\u001b[0m\u001b[0;34m,\u001b[0m \u001b[0mencoding\u001b[0m\u001b[0;34m=\u001b[0m\u001b[0;34m'cp949'\u001b[0m\u001b[0;34m)\u001b[0m\u001b[0;31m#utf8 , cp949\u001b[0m\u001b[0;34m\u001b[0m\u001b[0;34m\u001b[0m\u001b[0m\n\u001b[0m",
            "\u001b[0;32m/usr/local/lib/python3.8/dist-packages/pandas/util/_decorators.py\u001b[0m in \u001b[0;36mwrapper\u001b[0;34m(*args, **kwargs)\u001b[0m\n\u001b[1;32m    309\u001b[0m                     \u001b[0mstacklevel\u001b[0m\u001b[0;34m=\u001b[0m\u001b[0mstacklevel\u001b[0m\u001b[0;34m,\u001b[0m\u001b[0;34m\u001b[0m\u001b[0;34m\u001b[0m\u001b[0m\n\u001b[1;32m    310\u001b[0m                 )\n\u001b[0;32m--> 311\u001b[0;31m             \u001b[0;32mreturn\u001b[0m \u001b[0mfunc\u001b[0m\u001b[0;34m(\u001b[0m\u001b[0;34m*\u001b[0m\u001b[0margs\u001b[0m\u001b[0;34m,\u001b[0m \u001b[0;34m**\u001b[0m\u001b[0mkwargs\u001b[0m\u001b[0;34m)\u001b[0m\u001b[0;34m\u001b[0m\u001b[0;34m\u001b[0m\u001b[0m\n\u001b[0m\u001b[1;32m    312\u001b[0m \u001b[0;34m\u001b[0m\u001b[0m\n\u001b[1;32m    313\u001b[0m         \u001b[0;32mreturn\u001b[0m \u001b[0mwrapper\u001b[0m\u001b[0;34m\u001b[0m\u001b[0;34m\u001b[0m\u001b[0m\n",
            "\u001b[0;32m/usr/local/lib/python3.8/dist-packages/pandas/io/parsers/readers.py\u001b[0m in \u001b[0;36mread_csv\u001b[0;34m(filepath_or_buffer, sep, delimiter, header, names, index_col, usecols, squeeze, prefix, mangle_dupe_cols, dtype, engine, converters, true_values, false_values, skipinitialspace, skiprows, skipfooter, nrows, na_values, keep_default_na, na_filter, verbose, skip_blank_lines, parse_dates, infer_datetime_format, keep_date_col, date_parser, dayfirst, cache_dates, iterator, chunksize, compression, thousands, decimal, lineterminator, quotechar, quoting, doublequote, escapechar, comment, encoding, encoding_errors, dialect, error_bad_lines, warn_bad_lines, on_bad_lines, delim_whitespace, low_memory, memory_map, float_precision, storage_options)\u001b[0m\n\u001b[1;32m    584\u001b[0m     \u001b[0mkwds\u001b[0m\u001b[0;34m.\u001b[0m\u001b[0mupdate\u001b[0m\u001b[0;34m(\u001b[0m\u001b[0mkwds_defaults\u001b[0m\u001b[0;34m)\u001b[0m\u001b[0;34m\u001b[0m\u001b[0;34m\u001b[0m\u001b[0m\n\u001b[1;32m    585\u001b[0m \u001b[0;34m\u001b[0m\u001b[0m\n\u001b[0;32m--> 586\u001b[0;31m     \u001b[0;32mreturn\u001b[0m \u001b[0m_read\u001b[0m\u001b[0;34m(\u001b[0m\u001b[0mfilepath_or_buffer\u001b[0m\u001b[0;34m,\u001b[0m \u001b[0mkwds\u001b[0m\u001b[0;34m)\u001b[0m\u001b[0;34m\u001b[0m\u001b[0;34m\u001b[0m\u001b[0m\n\u001b[0m\u001b[1;32m    587\u001b[0m \u001b[0;34m\u001b[0m\u001b[0m\n\u001b[1;32m    588\u001b[0m \u001b[0;34m\u001b[0m\u001b[0m\n",
            "\u001b[0;32m/usr/local/lib/python3.8/dist-packages/pandas/io/parsers/readers.py\u001b[0m in \u001b[0;36m_read\u001b[0;34m(filepath_or_buffer, kwds)\u001b[0m\n\u001b[1;32m    480\u001b[0m \u001b[0;34m\u001b[0m\u001b[0m\n\u001b[1;32m    481\u001b[0m     \u001b[0;31m# Create the parser.\u001b[0m\u001b[0;34m\u001b[0m\u001b[0;34m\u001b[0m\u001b[0;34m\u001b[0m\u001b[0m\n\u001b[0;32m--> 482\u001b[0;31m     \u001b[0mparser\u001b[0m \u001b[0;34m=\u001b[0m \u001b[0mTextFileReader\u001b[0m\u001b[0;34m(\u001b[0m\u001b[0mfilepath_or_buffer\u001b[0m\u001b[0;34m,\u001b[0m \u001b[0;34m**\u001b[0m\u001b[0mkwds\u001b[0m\u001b[0;34m)\u001b[0m\u001b[0;34m\u001b[0m\u001b[0;34m\u001b[0m\u001b[0m\n\u001b[0m\u001b[1;32m    483\u001b[0m \u001b[0;34m\u001b[0m\u001b[0m\n\u001b[1;32m    484\u001b[0m     \u001b[0;32mif\u001b[0m \u001b[0mchunksize\u001b[0m \u001b[0;32mor\u001b[0m \u001b[0miterator\u001b[0m\u001b[0;34m:\u001b[0m\u001b[0;34m\u001b[0m\u001b[0;34m\u001b[0m\u001b[0m\n",
            "\u001b[0;32m/usr/local/lib/python3.8/dist-packages/pandas/io/parsers/readers.py\u001b[0m in \u001b[0;36m__init__\u001b[0;34m(self, f, engine, **kwds)\u001b[0m\n\u001b[1;32m    809\u001b[0m             \u001b[0mself\u001b[0m\u001b[0;34m.\u001b[0m\u001b[0moptions\u001b[0m\u001b[0;34m[\u001b[0m\u001b[0;34m\"has_index_names\"\u001b[0m\u001b[0;34m]\u001b[0m \u001b[0;34m=\u001b[0m \u001b[0mkwds\u001b[0m\u001b[0;34m[\u001b[0m\u001b[0;34m\"has_index_names\"\u001b[0m\u001b[0;34m]\u001b[0m\u001b[0;34m\u001b[0m\u001b[0;34m\u001b[0m\u001b[0m\n\u001b[1;32m    810\u001b[0m \u001b[0;34m\u001b[0m\u001b[0m\n\u001b[0;32m--> 811\u001b[0;31m         \u001b[0mself\u001b[0m\u001b[0;34m.\u001b[0m\u001b[0m_engine\u001b[0m \u001b[0;34m=\u001b[0m \u001b[0mself\u001b[0m\u001b[0;34m.\u001b[0m\u001b[0m_make_engine\u001b[0m\u001b[0;34m(\u001b[0m\u001b[0mself\u001b[0m\u001b[0;34m.\u001b[0m\u001b[0mengine\u001b[0m\u001b[0;34m)\u001b[0m\u001b[0;34m\u001b[0m\u001b[0;34m\u001b[0m\u001b[0m\n\u001b[0m\u001b[1;32m    812\u001b[0m \u001b[0;34m\u001b[0m\u001b[0m\n\u001b[1;32m    813\u001b[0m     \u001b[0;32mdef\u001b[0m \u001b[0mclose\u001b[0m\u001b[0;34m(\u001b[0m\u001b[0mself\u001b[0m\u001b[0;34m)\u001b[0m\u001b[0;34m:\u001b[0m\u001b[0;34m\u001b[0m\u001b[0;34m\u001b[0m\u001b[0m\n",
            "\u001b[0;32m/usr/local/lib/python3.8/dist-packages/pandas/io/parsers/readers.py\u001b[0m in \u001b[0;36m_make_engine\u001b[0;34m(self, engine)\u001b[0m\n\u001b[1;32m   1038\u001b[0m             )\n\u001b[1;32m   1039\u001b[0m         \u001b[0;31m# error: Too many arguments for \"ParserBase\"\u001b[0m\u001b[0;34m\u001b[0m\u001b[0;34m\u001b[0m\u001b[0;34m\u001b[0m\u001b[0m\n\u001b[0;32m-> 1040\u001b[0;31m         \u001b[0;32mreturn\u001b[0m \u001b[0mmapping\u001b[0m\u001b[0;34m[\u001b[0m\u001b[0mengine\u001b[0m\u001b[0;34m]\u001b[0m\u001b[0;34m(\u001b[0m\u001b[0mself\u001b[0m\u001b[0;34m.\u001b[0m\u001b[0mf\u001b[0m\u001b[0;34m,\u001b[0m \u001b[0;34m**\u001b[0m\u001b[0mself\u001b[0m\u001b[0;34m.\u001b[0m\u001b[0moptions\u001b[0m\u001b[0;34m)\u001b[0m  \u001b[0;31m# type: ignore[call-arg]\u001b[0m\u001b[0;34m\u001b[0m\u001b[0;34m\u001b[0m\u001b[0m\n\u001b[0m\u001b[1;32m   1041\u001b[0m \u001b[0;34m\u001b[0m\u001b[0m\n\u001b[1;32m   1042\u001b[0m     \u001b[0;32mdef\u001b[0m \u001b[0m_failover_to_python\u001b[0m\u001b[0;34m(\u001b[0m\u001b[0mself\u001b[0m\u001b[0;34m)\u001b[0m\u001b[0;34m:\u001b[0m\u001b[0;34m\u001b[0m\u001b[0;34m\u001b[0m\u001b[0m\n",
            "\u001b[0;32m/usr/local/lib/python3.8/dist-packages/pandas/io/parsers/c_parser_wrapper.py\u001b[0m in \u001b[0;36m__init__\u001b[0;34m(self, src, **kwds)\u001b[0m\n\u001b[1;32m     49\u001b[0m \u001b[0;34m\u001b[0m\u001b[0m\n\u001b[1;32m     50\u001b[0m         \u001b[0;31m# open handles\u001b[0m\u001b[0;34m\u001b[0m\u001b[0;34m\u001b[0m\u001b[0;34m\u001b[0m\u001b[0m\n\u001b[0;32m---> 51\u001b[0;31m         \u001b[0mself\u001b[0m\u001b[0;34m.\u001b[0m\u001b[0m_open_handles\u001b[0m\u001b[0;34m(\u001b[0m\u001b[0msrc\u001b[0m\u001b[0;34m,\u001b[0m \u001b[0mkwds\u001b[0m\u001b[0;34m)\u001b[0m\u001b[0;34m\u001b[0m\u001b[0;34m\u001b[0m\u001b[0m\n\u001b[0m\u001b[1;32m     52\u001b[0m         \u001b[0;32massert\u001b[0m \u001b[0mself\u001b[0m\u001b[0;34m.\u001b[0m\u001b[0mhandles\u001b[0m \u001b[0;32mis\u001b[0m \u001b[0;32mnot\u001b[0m \u001b[0;32mNone\u001b[0m\u001b[0;34m\u001b[0m\u001b[0;34m\u001b[0m\u001b[0m\n\u001b[1;32m     53\u001b[0m \u001b[0;34m\u001b[0m\u001b[0m\n",
            "\u001b[0;32m/usr/local/lib/python3.8/dist-packages/pandas/io/parsers/base_parser.py\u001b[0m in \u001b[0;36m_open_handles\u001b[0;34m(self, src, kwds)\u001b[0m\n\u001b[1;32m    220\u001b[0m         \u001b[0mLet\u001b[0m \u001b[0mthe\u001b[0m \u001b[0mreaders\u001b[0m \u001b[0mopen\u001b[0m \u001b[0mIOHandles\u001b[0m \u001b[0mafter\u001b[0m \u001b[0mthey\u001b[0m \u001b[0mare\u001b[0m \u001b[0mdone\u001b[0m \u001b[0;32mwith\u001b[0m \u001b[0mtheir\u001b[0m \u001b[0mpotential\u001b[0m \u001b[0mraises\u001b[0m\u001b[0;34m.\u001b[0m\u001b[0;34m\u001b[0m\u001b[0;34m\u001b[0m\u001b[0m\n\u001b[1;32m    221\u001b[0m         \"\"\"\n\u001b[0;32m--> 222\u001b[0;31m         self.handles = get_handle(\n\u001b[0m\u001b[1;32m    223\u001b[0m             \u001b[0msrc\u001b[0m\u001b[0;34m,\u001b[0m\u001b[0;34m\u001b[0m\u001b[0;34m\u001b[0m\u001b[0m\n\u001b[1;32m    224\u001b[0m             \u001b[0;34m\"r\"\u001b[0m\u001b[0;34m,\u001b[0m\u001b[0;34m\u001b[0m\u001b[0;34m\u001b[0m\u001b[0m\n",
            "\u001b[0;32m/usr/local/lib/python3.8/dist-packages/pandas/io/common.py\u001b[0m in \u001b[0;36mget_handle\u001b[0;34m(path_or_buf, mode, encoding, compression, memory_map, is_text, errors, storage_options)\u001b[0m\n\u001b[1;32m    700\u001b[0m         \u001b[0;32mif\u001b[0m \u001b[0mioargs\u001b[0m\u001b[0;34m.\u001b[0m\u001b[0mencoding\u001b[0m \u001b[0;32mand\u001b[0m \u001b[0;34m\"b\"\u001b[0m \u001b[0;32mnot\u001b[0m \u001b[0;32min\u001b[0m \u001b[0mioargs\u001b[0m\u001b[0;34m.\u001b[0m\u001b[0mmode\u001b[0m\u001b[0;34m:\u001b[0m\u001b[0;34m\u001b[0m\u001b[0;34m\u001b[0m\u001b[0m\n\u001b[1;32m    701\u001b[0m             \u001b[0;31m# Encoding\u001b[0m\u001b[0;34m\u001b[0m\u001b[0;34m\u001b[0m\u001b[0;34m\u001b[0m\u001b[0m\n\u001b[0;32m--> 702\u001b[0;31m             handle = open(\n\u001b[0m\u001b[1;32m    703\u001b[0m                 \u001b[0mhandle\u001b[0m\u001b[0;34m,\u001b[0m\u001b[0;34m\u001b[0m\u001b[0;34m\u001b[0m\u001b[0m\n\u001b[1;32m    704\u001b[0m                 \u001b[0mioargs\u001b[0m\u001b[0;34m.\u001b[0m\u001b[0mmode\u001b[0m\u001b[0;34m,\u001b[0m\u001b[0;34m\u001b[0m\u001b[0;34m\u001b[0m\u001b[0m\n",
            "\u001b[0;31mFileNotFoundError\u001b[0m: [Errno 2] No such file or directory: '/content/서울전기차대수.csv'"
          ]
        }
      ]
    },
    {
      "cell_type": "markdown",
      "source": [
        "**데이터 출력**"
      ],
      "metadata": {
        "id": "rRYoxtvMa8Yf"
      }
    },
    {
      "cell_type": "code",
      "source": [
        "print(df)"
      ],
      "metadata": {
        "colab": {
          "base_uri": "https://localhost:8080/"
        },
        "id": "T4bCKEpwbH87",
        "outputId": "c785566c-5f29-4c0f-859c-45ef88b864a4"
      },
      "execution_count": 46,
      "outputs": [
        {
          "output_type": "stream",
          "name": "stdout",
          "text": [
            "       기준일ID  시군구코드  시군구명  인구수   전기차수\n",
            "0   20221105  11110   종로구  299    571\n",
            "1   20221105  11170   용산구  296    187\n",
            "2   20221105  11305   강북구  292    881\n",
            "3   20221105  11380   은평구  438   1349\n",
            "4   20221105  11410  서대문구  368    348\n",
            "5   20221105  11470   양천구  372   1085\n",
            "6   20221105  11680   강남구  769  10954\n",
            "7   20221105  11140    중구  268    267\n",
            "8   20221105  11200   성동구  346    242\n",
            "9   20221105  11215   광진구  385    389\n",
            "10  20221105  11230  동대문구  368    127\n",
            "11  20221105  11260   중랑구  355    345\n",
            "12  20221105  11290   성북구  431    207\n",
            "13  20221105  11320   도봉구  272    243\n",
            "14  20221105  11350   노원구  496    259\n",
            "15  20221105  11440   마포구  480    407\n",
            "16  20221105  11470   양천구  372    311\n",
            "17  20221105  11500   강서구  541    228\n",
            "18  20221105  11530   구로구  412    352\n",
            "19  20221105  11545   금천구  214    157\n",
            "20  20221105  11560  영등포구  485    307\n",
            "21  20221105  11590   동작구  396    204\n",
            "22  20221105  11620   관악구  488    148\n",
            "23  20221105  11650   서초구  531   3152\n",
            "24  20221105  11710   송파구  746    208\n",
            "25  20221105  11740   강동구  505   1577\n"
          ]
        }
      ]
    },
    {
      "cell_type": "markdown",
      "source": [
        "**패키지 설치 및 로드하기**"
      ],
      "metadata": {
        "id": "MzP8MwOBbN5E"
      }
    },
    {
      "cell_type": "code",
      "source": [
        "import requests\n",
        "import json\n",
        "import re"
      ],
      "metadata": {
        "id": "kM5TzzapbQaN"
      },
      "execution_count": null,
      "outputs": []
    },
    {
      "cell_type": "markdown",
      "source": [
        "**서울 행정 구역 json**"
      ],
      "metadata": {
        "id": "eVSyw0MQbXYL"
      }
    },
    {
      "cell_type": "code",
      "source": [
        "s_geo='https://raw.githubusercontent.com/southkorea/seoul-maps/master/kostat/2013/json/seoul_municipalities_geo_simple.json'"
      ],
      "metadata": {
        "id": "4KVWLfItbeWR"
      },
      "execution_count": null,
      "outputs": []
    },
    {
      "cell_type": "markdown",
      "source": [
        "**지도 불러오기**"
      ],
      "metadata": {
        "id": "3iT3zW1Lbh_d"
      }
    },
    {
      "cell_type": "code",
      "source": [
        "s_map = folium.Map(location=[37.559984,126.9753071],\n",
        "                   tiles='Stamen Terrain', zoom_start=11)"
      ],
      "metadata": {
        "id": "gluua_DsbnE-"
      },
      "execution_count": null,
      "outputs": []
    },
    {
      "cell_type": "markdown",
      "source": [
        "**지도**"
      ],
      "metadata": {
        "id": "Sc8-mOfPbrpc"
      }
    },
    {
      "cell_type": "code",
      "source": [
        "\n",
        "folium.Choropleth(geo_data=s_geo, data=df, columns=['시군구명', '전기차수'], \n",
        "                  fill_color='YlOrRd', fill_opacity=0.7, line_opacity=0.3, \n",
        "                  threshold_scale=[0, 250, 500, 1000, 1500, 2000, 3000, 40000], \n",
        "                  key_on='feature.properties.name').add_to(s_map)\n",
        "\n",
        "s_map"
      ],
      "metadata": {
        "colab": {
          "base_uri": "https://localhost:8080/",
          "height": 842
        },
        "id": "oxWlc8FMbr9m",
        "outputId": "ad4d0443-482d-4cf3-8686-0274e2f8984f"
      },
      "execution_count": null,
      "outputs": [
        {
          "output_type": "execute_result",
          "data": {
            "text/plain": [
              "<folium.folium.Map at 0x7f72a7b9ac10>"
            ],
            "text/html": [
              "<div style=\"width:100%;\"><div style=\"position:relative;width:100%;height:0;padding-bottom:60%;\"><span style=\"color:#565656\">Make this Notebook Trusted to load map: File -> Trust Notebook</span><iframe srcdoc=\"&lt;!DOCTYPE html&gt;\n",
              "&lt;html&gt;\n",
              "&lt;head&gt;\n",
              "    \n",
              "    &lt;meta http-equiv=&quot;content-type&quot; content=&quot;text/html; charset=UTF-8&quot; /&gt;\n",
              "    \n",
              "        &lt;script&gt;\n",
              "            L_NO_TOUCH = false;\n",
              "            L_DISABLE_3D = false;\n",
              "        &lt;/script&gt;\n",
              "    \n",
              "    &lt;style&gt;html, body {width: 100%;height: 100%;margin: 0;padding: 0;}&lt;/style&gt;\n",
              "    &lt;style&gt;#map {position:absolute;top:0;bottom:0;right:0;left:0;}&lt;/style&gt;\n",
              "    &lt;script src=&quot;https://cdn.jsdelivr.net/npm/leaflet@1.6.0/dist/leaflet.js&quot;&gt;&lt;/script&gt;\n",
              "    &lt;script src=&quot;https://code.jquery.com/jquery-1.12.4.min.js&quot;&gt;&lt;/script&gt;\n",
              "    &lt;script src=&quot;https://maxcdn.bootstrapcdn.com/bootstrap/3.2.0/js/bootstrap.min.js&quot;&gt;&lt;/script&gt;\n",
              "    &lt;script src=&quot;https://cdnjs.cloudflare.com/ajax/libs/Leaflet.awesome-markers/2.0.2/leaflet.awesome-markers.js&quot;&gt;&lt;/script&gt;\n",
              "    &lt;link rel=&quot;stylesheet&quot; href=&quot;https://cdn.jsdelivr.net/npm/leaflet@1.6.0/dist/leaflet.css&quot;/&gt;\n",
              "    &lt;link rel=&quot;stylesheet&quot; href=&quot;https://maxcdn.bootstrapcdn.com/bootstrap/3.2.0/css/bootstrap.min.css&quot;/&gt;\n",
              "    &lt;link rel=&quot;stylesheet&quot; href=&quot;https://maxcdn.bootstrapcdn.com/bootstrap/3.2.0/css/bootstrap-theme.min.css&quot;/&gt;\n",
              "    &lt;link rel=&quot;stylesheet&quot; href=&quot;https://maxcdn.bootstrapcdn.com/font-awesome/4.6.3/css/font-awesome.min.css&quot;/&gt;\n",
              "    &lt;link rel=&quot;stylesheet&quot; href=&quot;https://cdnjs.cloudflare.com/ajax/libs/Leaflet.awesome-markers/2.0.2/leaflet.awesome-markers.css&quot;/&gt;\n",
              "    &lt;link rel=&quot;stylesheet&quot; href=&quot;https://cdn.jsdelivr.net/gh/python-visualization/folium/folium/templates/leaflet.awesome.rotate.min.css&quot;/&gt;\n",
              "    \n",
              "            &lt;meta name=&quot;viewport&quot; content=&quot;width=device-width,\n",
              "                initial-scale=1.0, maximum-scale=1.0, user-scalable=no&quot; /&gt;\n",
              "            &lt;style&gt;\n",
              "                #map_99ca02d971a44c07d07a5d57d8996408 {\n",
              "                    position: relative;\n",
              "                    width: 100.0%;\n",
              "                    height: 100.0%;\n",
              "                    left: 0.0%;\n",
              "                    top: 0.0%;\n",
              "                }\n",
              "            &lt;/style&gt;\n",
              "        \n",
              "    &lt;script src=&quot;https://cdnjs.cloudflare.com/ajax/libs/d3/3.5.5/d3.min.js&quot;&gt;&lt;/script&gt;\n",
              "&lt;/head&gt;\n",
              "&lt;body&gt;\n",
              "    \n",
              "    \n",
              "            &lt;div class=&quot;folium-map&quot; id=&quot;map_99ca02d971a44c07d07a5d57d8996408&quot; &gt;&lt;/div&gt;\n",
              "        \n",
              "&lt;/body&gt;\n",
              "&lt;script&gt;\n",
              "    \n",
              "    \n",
              "            var map_99ca02d971a44c07d07a5d57d8996408 = L.map(\n",
              "                &quot;map_99ca02d971a44c07d07a5d57d8996408&quot;,\n",
              "                {\n",
              "                    center: [37.559984, 126.9753071],\n",
              "                    crs: L.CRS.EPSG3857,\n",
              "                    zoom: 11,\n",
              "                    zoomControl: true,\n",
              "                    preferCanvas: false,\n",
              "                }\n",
              "            );\n",
              "\n",
              "            \n",
              "\n",
              "        \n",
              "    \n",
              "            var tile_layer_262f55036c26be1ef3b5be12beb1fea0 = L.tileLayer(\n",
              "                &quot;https://stamen-tiles-{s}.a.ssl.fastly.net/terrain/{z}/{x}/{y}.jpg&quot;,\n",
              "                {&quot;attribution&quot;: &quot;Map tiles by \\u003ca href=\\&quot;http://stamen.com\\&quot;\\u003eStamen Design\\u003c/a\\u003e, under \\u003ca href=\\&quot;http://creativecommons.org/licenses/by/3.0\\&quot;\\u003eCC BY 3.0\\u003c/a\\u003e. Data by \\u0026copy; \\u003ca href=\\&quot;http://openstreetmap.org\\&quot;\\u003eOpenStreetMap\\u003c/a\\u003e, under \\u003ca href=\\&quot;http://creativecommons.org/licenses/by-sa/3.0\\&quot;\\u003eCC BY SA\\u003c/a\\u003e.&quot;, &quot;detectRetina&quot;: false, &quot;maxNativeZoom&quot;: 18, &quot;maxZoom&quot;: 18, &quot;minZoom&quot;: 0, &quot;noWrap&quot;: false, &quot;opacity&quot;: 1, &quot;subdomains&quot;: &quot;abc&quot;, &quot;tms&quot;: false}\n",
              "            ).addTo(map_99ca02d971a44c07d07a5d57d8996408);\n",
              "        \n",
              "    \n",
              "            var choropleth_1b746cd2d05cab0f21df60318bde7b3e = L.featureGroup(\n",
              "                {}\n",
              "            ).addTo(map_99ca02d971a44c07d07a5d57d8996408);\n",
              "        \n",
              "    \n",
              "        function geo_json_d079ef68ae9c974e051c27a6f5b386f1_styler(feature) {\n",
              "            switch(feature.properties.code) {\n",
              "                case &quot;11250&quot;: \n",
              "                    return {&quot;color&quot;: &quot;black&quot;, &quot;fillColor&quot;: &quot;#fc4e2a&quot;, &quot;fillOpacity&quot;: 0.7, &quot;opacity&quot;: 0.3, &quot;weight&quot;: 1};\n",
              "                case &quot;11230&quot;: case &quot;11220&quot;: \n",
              "                    return {&quot;color&quot;: &quot;black&quot;, &quot;fillColor&quot;: &quot;#b10026&quot;, &quot;fillOpacity&quot;: 0.7, &quot;opacity&quot;: 0.3, &quot;weight&quot;: 1};\n",
              "                case &quot;11190&quot;: case &quot;11170&quot;: case &quot;11150&quot;: case &quot;11140&quot;: case &quot;11130&quot;: case &quot;11110&quot;: case &quot;11070&quot;: case &quot;11050&quot;: case &quot;11020&quot;: \n",
              "                    return {&quot;color&quot;: &quot;black&quot;, &quot;fillColor&quot;: &quot;#fed976&quot;, &quot;fillOpacity&quot;: 0.7, &quot;opacity&quot;: 0.3, &quot;weight&quot;: 1};\n",
              "                case &quot;11120&quot;: \n",
              "                    return {&quot;color&quot;: &quot;black&quot;, &quot;fillColor&quot;: &quot;#fd8d3c&quot;, &quot;fillOpacity&quot;: 0.7, &quot;opacity&quot;: 0.3, &quot;weight&quot;: 1};\n",
              "                case &quot;11090&quot;: case &quot;11010&quot;: \n",
              "                    return {&quot;color&quot;: &quot;black&quot;, &quot;fillColor&quot;: &quot;#feb24c&quot;, &quot;fillOpacity&quot;: 0.7, &quot;opacity&quot;: 0.3, &quot;weight&quot;: 1};\n",
              "                default:\n",
              "                    return {&quot;color&quot;: &quot;black&quot;, &quot;fillColor&quot;: &quot;#ffffb2&quot;, &quot;fillOpacity&quot;: 0.7, &quot;opacity&quot;: 0.3, &quot;weight&quot;: 1};\n",
              "            }\n",
              "        }\n",
              "\n",
              "        function geo_json_d079ef68ae9c974e051c27a6f5b386f1_onEachFeature(feature, layer) {\n",
              "            layer.on({\n",
              "            });\n",
              "        };\n",
              "        var geo_json_d079ef68ae9c974e051c27a6f5b386f1 = L.geoJson(null, {\n",
              "                onEachFeature: geo_json_d079ef68ae9c974e051c27a6f5b386f1_onEachFeature,\n",
              "            \n",
              "                style: geo_json_d079ef68ae9c974e051c27a6f5b386f1_styler,\n",
              "        });\n",
              "\n",
              "        function geo_json_d079ef68ae9c974e051c27a6f5b386f1_add (data) {\n",
              "            geo_json_d079ef68ae9c974e051c27a6f5b386f1\n",
              "                .addData(data)\n",
              "                .addTo(choropleth_1b746cd2d05cab0f21df60318bde7b3e);\n",
              "        }\n",
              "            geo_json_d079ef68ae9c974e051c27a6f5b386f1_add({&quot;features&quot;: [{&quot;geometry&quot;: {&quot;coordinates&quot;: [[[127.11519584981606, 37.557533180704915], [127.11879551821994, 37.557222485451305], [127.12146867175024, 37.55986003393365], [127.12435254630417, 37.56144246249796], [127.13593925898998, 37.56564793048277], [127.14930548011061, 37.56892250303897], [127.15511020940411, 37.57093642128295], [127.16683184366129, 37.57672487388627], [127.17038810813094, 37.576465605301046], [127.17607118428914, 37.57678573961056], [127.17905504160184, 37.57791388161732], [127.17747787800164, 37.57448983055031], [127.1781775408844, 37.571481967974336], [127.17995281860672, 37.569309661290504], [127.18122821955262, 37.56636089217979], [127.18169407550688, 37.56286338914073], [127.18408792330152, 37.55814280369575], [127.18350810324185, 37.550053002101485], [127.1852644795464, 37.54888592026534], [127.18480906237207, 37.545296888806796], [127.18543378919821, 37.54260756512178], [127.18364810569703, 37.54241347907019], [127.18116465939269, 37.54384126582126], [127.17770860504257, 37.542414255164374], [127.1744373170213, 37.54277723796397], [127.16830424484573, 37.54145405702079], [127.16530984307447, 37.54221851258693], [127.15566835118616, 37.53119520531309], [127.15538075046105, 37.52652930087977], [127.15154315998161, 37.522828709496416], [127.14981542759394, 37.51926843453025], [127.14791518058246, 37.51918714979303], [127.14684644251928, 37.51661384818575], [127.14672806823502, 37.51415680680291], [127.14532023498624, 37.51464060108829], [127.12123165719615, 37.52528270089], [127.12251496040881, 37.52751810228347], [127.12532464331997, 37.53572787912298], [127.12061313033807, 37.538129867839416], [127.1116764203608, 37.540669955324965], [127.11418412219375, 37.54474592090681], [127.11600200349189, 37.55053147511706], [127.11600943681239, 37.55580061507081], [127.11519584981606, 37.557533180704915]]], &quot;type&quot;: &quot;Polygon&quot;}, &quot;properties&quot;: {&quot;base_year&quot;: &quot;2013&quot;, &quot;code&quot;: &quot;11250&quot;, &quot;name&quot;: &quot;\\uac15\\ub3d9\\uad6c&quot;, &quot;name_eng&quot;: &quot;Gangdong-gu&quot;}, &quot;type&quot;: &quot;Feature&quot;}, {&quot;geometry&quot;: {&quot;coordinates&quot;: [[[127.0690698130372, 37.522279423505026], [127.07496309841329, 37.52091052765938], [127.07968915919895, 37.52077294752823], [127.08639455667742, 37.52161824624356], [127.0943611414465, 37.523984206117525], [127.10087519791962, 37.524841220167055], [127.10484130265957, 37.53120327509912], [127.1116764203608, 37.540669955324965], [127.12061313033807, 37.538129867839416], [127.12532464331997, 37.53572787912298], [127.12251496040881, 37.52751810228347], [127.12123165719615, 37.52528270089], [127.14532023498624, 37.51464060108829], [127.14672806823502, 37.51415680680291], [127.14670263739373, 37.512786602955565], [127.14462782318448, 37.511529542030715], [127.14323992504048, 37.50951977457089], [127.1420864475393, 37.50578973782813], [127.14324986168657, 37.502649431479774], [127.1473517108062, 37.50069754405746], [127.14980119646964, 37.50046502392898], [127.15223804785649, 37.50170492532197], [127.15401160147654, 37.500347919909956], [127.16086308579277, 37.49886565522751], [127.1634944215765, 37.497445406097484], [127.16199885180917, 37.49402577547199], [127.16216448592424, 37.491639601211624], [127.16040295326431, 37.4877818619403], [127.15892216655034, 37.486126922469445], [127.15393282790794, 37.48483891408459], [127.15147990997852, 37.47745324805034], [127.1515017465549, 37.475633269417585], [127.14857580353349, 37.47381386382568], [127.14415938171436, 37.473692508393505], [127.14112111404233, 37.470600239054825], [127.13631568648837, 37.47214721764681], [127.13281577200672, 37.47257463763244], [127.13307493070646, 37.468907694139894], [127.13750907701846, 37.46647058226059], [127.13478085797742, 37.46509524639883], [127.1308437061496, 37.46509985661207], [127.12728991002369, 37.46673043118672], [127.12729757787379, 37.46421548908766], [127.12440571080893, 37.46240445587048], [127.12441393026374, 37.46442715236855], [127.12265007208167, 37.46756987490939], [127.11380709617507, 37.479633334849325], [127.1143875173445, 37.48073157362458], [127.11117085201238, 37.485708381512445], [127.1077937689776, 37.48860875954992], [127.10433125798602, 37.490728250649646], [127.0988509639092, 37.49302529254068], [127.08050206733888, 37.49783151325589], [127.0764808967127, 37.498612695580306], [127.0719146000724, 37.50224013587669], [127.06926628842805, 37.51717796437217], [127.06860425556381, 37.51812758676938], [127.0690698130372, 37.522279423505026]]], &quot;type&quot;: &quot;Polygon&quot;}, &quot;properties&quot;: {&quot;base_year&quot;: &quot;2013&quot;, &quot;code&quot;: &quot;11240&quot;, &quot;name&quot;: &quot;\\uc1a1\\ud30c\\uad6c&quot;, &quot;name_eng&quot;: &quot;Songpa-gu&quot;}, &quot;type&quot;: &quot;Feature&quot;}, {&quot;geometry&quot;: {&quot;coordinates&quot;: [[[127.05867359288398, 37.52629974922568], [127.0690698130372, 37.522279423505026], [127.06860425556381, 37.51812758676938], [127.06926628842805, 37.51717796437217], [127.0719146000724, 37.50224013587669], [127.0764808967127, 37.498612695580306], [127.08050206733888, 37.49783151325589], [127.0988509639092, 37.49302529254068], [127.10433125798602, 37.490728250649646], [127.1077937689776, 37.48860875954992], [127.11117085201238, 37.485708381512445], [127.1143875173445, 37.48073157362458], [127.11380709617507, 37.479633334849325], [127.12265007208167, 37.46756987490939], [127.12441393026374, 37.46442715236855], [127.12440571080893, 37.46240445587048], [127.11957248720776, 37.45936217377656], [127.11885903757606, 37.45578434878651], [127.11535741803938, 37.45722556454321], [127.11413179478714, 37.45875072431525], [127.10841788934951, 37.45972888008147], [127.10561257180657, 37.456815702518746], [127.10032466845217, 37.45598440195682], [127.09842759318751, 37.45862253857461], [127.09712653145507, 37.460848194480654], [127.09039613625872, 37.465520545397716], [127.0866005634691, 37.47006403057779], [127.08640440578156, 37.472697935184655], [127.0802737559454, 37.471973057552624], [127.07602132306535, 37.47005021331707], [127.07476117209941, 37.47199174520626], [127.07231320371885, 37.47234914588019], [127.07135137525977, 37.47107802023145], [127.06463901956462, 37.47003474490574], [127.06371868919344, 37.4661503234869], [127.0588551029968, 37.465611780743174], [127.0559170481904, 37.4659228914077], [127.04713549385288, 37.474479419244865], [127.04345123620755, 37.48276415595109], [127.03621915098798, 37.48175802427603], [127.03372275812187, 37.48674434662411], [127.02265609299096, 37.509970106251416], [127.02038705349842, 37.51771683027875], [127.01917707838057, 37.520085205855196], [127.01397119667513, 37.52503988289669], [127.02302831890559, 37.53231899582663], [127.0269608080842, 37.53484752757724], [127.0319617044248, 37.536064291470424], [127.04806779588436, 37.52970198575087], [127.04903802830752, 37.53140496708317], [127.05116490008963, 37.52975116557232], [127.05867359288398, 37.52629974922568]]], &quot;type&quot;: &quot;Polygon&quot;}, &quot;properties&quot;: {&quot;base_year&quot;: &quot;2013&quot;, &quot;code&quot;: &quot;11230&quot;, &quot;name&quot;: &quot;\\uac15\\ub0a8\\uad6c&quot;, &quot;name_eng&quot;: &quot;Gangnam-gu&quot;}, &quot;type&quot;: &quot;Feature&quot;}, {&quot;geometry&quot;: {&quot;coordinates&quot;: [[[127.01397119667513, 37.52503988289669], [127.01917707838057, 37.520085205855196], [127.02038705349842, 37.51771683027875], [127.02265609299096, 37.509970106251416], [127.03372275812187, 37.48674434662411], [127.03621915098798, 37.48175802427603], [127.04345123620755, 37.48276415595109], [127.04713549385288, 37.474479419244865], [127.0559170481904, 37.4659228914077], [127.0588551029968, 37.465611780743174], [127.06371868919344, 37.4661503234869], [127.06463901956462, 37.47003474490574], [127.07135137525977, 37.47107802023145], [127.07231320371885, 37.47234914588019], [127.07476117209941, 37.47199174520626], [127.07602132306535, 37.47005021331707], [127.0802737559454, 37.471973057552624], [127.08640440578156, 37.472697935184655], [127.0866005634691, 37.47006403057779], [127.09039613625872, 37.465520545397716], [127.09712653145507, 37.460848194480654], [127.09842759318751, 37.45862253857461], [127.09673714758375, 37.45597209899094], [127.09722129576434, 37.45374822681991], [127.09575982122928, 37.45332980525459], [127.09472136159357, 37.450897902539175], [127.09293250684935, 37.450020696864506], [127.09047890749349, 37.44637473407341], [127.09046928565951, 37.44296826114185], [127.0862358725955, 37.44118543250345], [127.08441983692467, 37.4383879031398], [127.07686576585408, 37.43960712011444], [127.07375875606847, 37.43898415920535], [127.07407631675713, 37.43719357187124], [127.07666569012467, 37.43600054505559], [127.07603719210388, 37.43429107517633], [127.07361291761038, 37.43318474533595], [127.07271473569163, 37.42939553659177], [127.0733788318578, 37.42814484786288], [127.06885354151605, 37.42731815367302], [127.06778107605433, 37.426197424057314], [127.06317558623768, 37.4272916178182], [127.05998777565219, 37.4273224867045], [127.05424556064274, 37.42574929824175], [127.05197080928994, 37.42749842502397], [127.04960937636815, 37.42801020057224], [127.04849622718511, 37.430672016902065], [127.04191594772718, 37.43568906449929], [127.0379686253535, 37.43634417139204], [127.03751805596916, 37.438362795245276], [127.04031700689708, 37.44191429311459], [127.03959875976469, 37.443582700519194], [127.0398984887873, 37.44656106007936], [127.03825522385397, 37.448766467898395], [127.03916301678915, 37.45180237055558], [127.03881782597922, 37.45382039851715], [127.03695436044305, 37.45537592726508], [127.03573307034355, 37.4586703897792], [127.03683946894893, 37.46103886642786], [127.03337331972266, 37.462966775127626], [127.02820831539744, 37.455700834295826], [127.02263694708293, 37.45335816711404], [127.01827371395349, 37.4525593623189], [127.01316256500736, 37.45257906566242], [127.01110931353561, 37.45456166745922], [127.00836380369604, 37.45936868039916], [127.00738548779366, 37.459815333664274], [127.00552362663117, 37.46445102893571], [127.00008523087483, 37.46455774995882], [126.99837609897334, 37.46390918086617], [126.99932142462428, 37.46113351815481], [126.99893310307874, 37.459376062410314], [126.9953054179472, 37.45860121328987], [126.99072073195462, 37.455326143310025], [126.98956736277059, 37.457600756400446], [126.99026416700147, 37.46271603227842], [126.98896316546526, 37.465041871263544], [126.98662755598336, 37.466937278295305], [126.9846374349825, 37.46996301876212], [126.98367668291802, 37.473856492692086], [126.98500224966135, 37.49356837311327], [126.9871787157338, 37.49719505997539], [126.9832495184969, 37.49948552591205], [126.98241580381733, 37.50120029501884], [126.98223807916081, 37.509314966770326], [126.98458580602838, 37.51070333105394], [126.98948242685965, 37.5108780134613], [126.99148001917875, 37.50990503427709], [127.00011962020382, 37.513901653034374], [127.00583392114271, 37.516905128452926], [127.00818058911564, 37.51877313923874], [127.01022186960886, 37.522020085671926], [127.01397119667513, 37.52503988289669]]], &quot;type&quot;: &quot;Polygon&quot;}, &quot;properties&quot;: {&quot;base_year&quot;: &quot;2013&quot;, &quot;code&quot;: &quot;11220&quot;, &quot;name&quot;: &quot;\\uc11c\\ucd08\\uad6c&quot;, &quot;name_eng&quot;: &quot;Seocho-gu&quot;}, &quot;type&quot;: &quot;Feature&quot;}, {&quot;geometry&quot;: {&quot;coordinates&quot;: [[[126.98367668291802, 37.473856492692086], [126.9846374349825, 37.46996301876212], [126.98662755598336, 37.466937278295305], [126.98896316546526, 37.465041871263544], [126.99026416700147, 37.46271603227842], [126.98956736277059, 37.457600756400446], [126.99072073195462, 37.455326143310025], [126.98484249930785, 37.45391909788938], [126.9829408096241, 37.450206782833206], [126.97835022660695, 37.447659155806164], [126.97608193440507, 37.44478918862847], [126.9731300196836, 37.444722870088114], [126.96650852936277, 37.44276983031553], [126.96618702895445, 37.439376482995094], [126.96520439085143, 37.438249784006246], [126.9614877541633, 37.437956805629675], [126.96054904645496, 37.43673997185797], [126.95527369898224, 37.43673711968809], [126.9473688393239, 37.4347689647565], [126.94440352544498, 37.43476162120059], [126.9415292183489, 37.43315139671158], [126.94037501670272, 37.43462213966344], [126.9405640311191, 37.437501011208845], [126.9376981355065, 37.44041709605302], [126.93312955918624, 37.44290014710262], [126.93309127096236, 37.44533734785938], [126.93084408056525, 37.447382928333994], [126.92527839995981, 37.45161884570837], [126.9245243450059, 37.45392293573877], [126.91887928082078, 37.45495082787016], [126.9167728146601, 37.45490566423789], [126.91641538472182, 37.45870245071989], [126.91495285904284, 37.461166184511065], [126.91584245173756, 37.462474576247985], [126.91374656127704, 37.46375990852858], [126.91032166997253, 37.469818629944285], [126.91280966667205, 37.47083063715413], [126.91405961426707, 37.47416764846582], [126.9115784808617, 37.4753960485947], [126.91181700249076, 37.47814319736339], [126.90276666415615, 37.47652007992712], [126.90156094129895, 37.47753842789901], [126.90531975801812, 37.48218087575429], [126.90805655355825, 37.48218338568103], [126.91533979779165, 37.484392208242134], [126.91916807529428, 37.48660606817164], [126.92639563063156, 37.48715979752876], [126.92869559665061, 37.49132126714011], [126.92981699800066, 37.49218420958284], [126.93346386636452, 37.49043826776755], [126.93669800083833, 37.49026778789087], [126.93844070234584, 37.4893532861132], [126.94373156012337, 37.48938843727846], [126.94922661389508, 37.49125437495649], [126.95396955055433, 37.48955250290043], [126.9559655046206, 37.48820165625994], [126.95881175306481, 37.48874989165474], [126.96329694970828, 37.4905835370787], [126.96291787066104, 37.48803272157808], [126.96443983219191, 37.48442261322104], [126.9634428120456, 37.48067931902171], [126.9725891850662, 37.472561363278125], [126.97901795539295, 37.47376525108475], [126.98367668291802, 37.473856492692086]]], &quot;type&quot;: &quot;Polygon&quot;}, &quot;properties&quot;: {&quot;base_year&quot;: &quot;2013&quot;, &quot;code&quot;: &quot;11210&quot;, &quot;name&quot;: &quot;\\uad00\\uc545\\uad6c&quot;, &quot;name_eng&quot;: &quot;Gwanak-gu&quot;}, &quot;type&quot;: &quot;Feature&quot;}, {&quot;geometry&quot;: {&quot;coordinates&quot;: [[[126.98223807916081, 37.509314966770326], [126.98241580381733, 37.50120029501884], [126.9832495184969, 37.49948552591205], [126.9871787157338, 37.49719505997539], [126.98500224966135, 37.49356837311327], [126.98367668291802, 37.473856492692086], [126.97901795539295, 37.47376525108475], [126.9725891850662, 37.472561363278125], [126.9634428120456, 37.48067931902171], [126.96443983219191, 37.48442261322104], [126.96291787066104, 37.48803272157808], [126.96329694970828, 37.4905835370787], [126.95881175306481, 37.48874989165474], [126.9559655046206, 37.48820165625994], [126.95396955055433, 37.48955250290043], [126.94922661389508, 37.49125437495649], [126.94373156012337, 37.48938843727846], [126.93844070234584, 37.4893532861132], [126.93669800083833, 37.49026778789087], [126.93346386636452, 37.49043826776755], [126.92981699800066, 37.49218420958284], [126.92869559665061, 37.49132126714011], [126.92639563063156, 37.48715979752876], [126.91916807529428, 37.48660606817164], [126.91533979779165, 37.484392208242134], [126.90805655355825, 37.48218338568103], [126.90531975801812, 37.48218087575429], [126.91461888105147, 37.493581242537296], [126.92177893174825, 37.494889877415176], [126.9232469824303, 37.49928149943772], [126.92749463764046, 37.50985955934051], [126.92919938332032, 37.51019685838638], [126.92810628828279, 37.51329595732015], [126.93453120783802, 37.5128512712934], [126.94407346439685, 37.51463101265907], [126.95249990298159, 37.51722500741813], [126.95551848909955, 37.514736123015844], [126.95950268374823, 37.51249532165974], [126.96670111119346, 37.50997579058433], [126.98223807916081, 37.509314966770326]]], &quot;type&quot;: &quot;Polygon&quot;}, &quot;properties&quot;: {&quot;base_year&quot;: &quot;2013&quot;, &quot;code&quot;: &quot;11200&quot;, &quot;name&quot;: &quot;\\ub3d9\\uc791\\uad6c&quot;, &quot;name_eng&quot;: &quot;Dongjak-gu&quot;}, &quot;type&quot;: &quot;Feature&quot;}, {&quot;geometry&quot;: {&quot;coordinates&quot;: [[[126.89184663862764, 37.547373974997114], [126.90281125423546, 37.54133630026083], [126.90829204147958, 37.539206065016785], [126.93132557924062, 37.53415416375281], [126.93680342222562, 37.53344577095931], [126.94566733083212, 37.526617542453366], [126.9488066464266, 37.52424913252661], [126.95003825019774, 37.520781022055274], [126.95249990298159, 37.51722500741813], [126.94407346439685, 37.51463101265907], [126.93453120783802, 37.5128512712934], [126.92810628828279, 37.51329595732015], [126.92919938332032, 37.51019685838638], [126.92749463764046, 37.50985955934051], [126.9232469824303, 37.49928149943772], [126.92177893174825, 37.494889877415176], [126.91461888105147, 37.493581242537296], [126.90531975801812, 37.48218087575429], [126.90260188508027, 37.48282626920736], [126.89861362258316, 37.48625405368759], [126.89581061458084, 37.49391346191318], [126.89549571721683, 37.50033127915717], [126.89594776782485, 37.504675281309176], [126.89253696873205, 37.50875582175844], [126.88156402353862, 37.513970034765684], [126.88191372979959, 37.51939416754389], [126.88260109180834, 37.52242565920786], [126.88382776477316, 37.52352483439659], [126.88904768965743, 37.525856504359034], [126.89057378109133, 37.52792091672938], [126.89213569003026, 37.52757969298779], [126.89361739665432, 37.53033899535983], [126.89339176028666, 37.533030814524004], [126.88938421776182, 37.54060159145325], [126.88825757860099, 37.54079733630232], [126.88736718003831, 37.54350482420959], [126.89184663862764, 37.547373974997114]]], &quot;type&quot;: &quot;Polygon&quot;}, &quot;properties&quot;: {&quot;base_year&quot;: &quot;2013&quot;, &quot;code&quot;: &quot;11190&quot;, &quot;name&quot;: &quot;\\uc601\\ub4f1\\ud3ec\\uad6c&quot;, &quot;name_eng&quot;: &quot;Yeongdeungpo-gu&quot;}, &quot;type&quot;: &quot;Feature&quot;}, {&quot;geometry&quot;: {&quot;coordinates&quot;: [[[126.90156094129895, 37.47753842789901], [126.90276666415615, 37.47652007992712], [126.91181700249076, 37.47814319736339], [126.9115784808617, 37.4753960485947], [126.91405961426707, 37.47416764846582], [126.91280966667205, 37.47083063715413], [126.91032166997253, 37.469818629944285], [126.91374656127704, 37.46375990852858], [126.91584245173756, 37.462474576247985], [126.91495285904284, 37.461166184511065], [126.91641538472182, 37.45870245071989], [126.9167728146601, 37.45490566423789], [126.91887928082078, 37.45495082787016], [126.9245243450059, 37.45392293573877], [126.92527839995981, 37.45161884570837], [126.93084408056525, 37.447382928333994], [126.9255681646224, 37.44377627841776], [126.92318732232543, 37.44131494528283], [126.92199241717724, 37.43848070111403], [126.92004664118903, 37.43708741729147], [126.91641802826501, 37.43722730676683], [126.91344497343947, 37.43474365720405], [126.91082677485002, 37.43100963341445], [126.90487628022693, 37.43129996372531], [126.90480610062333, 37.433123813599884], [126.90147608259903, 37.4353323892334], [126.90081465102077, 37.436498759868456], [126.90105333433885, 37.44031094924801], [126.90031753853916, 37.441844173154756], [126.89768314223053, 37.442906858137974], [126.89812451590424, 37.44551117837958], [126.89616541233094, 37.44983024861048], [126.8947204038491, 37.4491097366517], [126.89157226377172, 37.449944282396714], [126.89113632562855, 37.45236898205529], [126.88831381741582, 37.45357939777933], [126.88826482749008, 37.45663270152334], [126.89074130059865, 37.45966561796733], [126.88198617469523, 37.469975509557976], [126.87874781843654, 37.47475533620029], [126.87553760781829, 37.48186220368496], [126.87683271502428, 37.482576591607305], [126.88079109105627, 37.48378287831426], [126.8827497570056, 37.48316340563878], [126.88803217321346, 37.47975290808737], [126.89116882970154, 37.47681803032367], [126.89689977603885, 37.47570593888643], [126.90104536043339, 37.47614746588584], [126.90156094129895, 37.47753842789901]]], &quot;type&quot;: &quot;Polygon&quot;}, &quot;properties&quot;: {&quot;base_year&quot;: &quot;2013&quot;, &quot;code&quot;: &quot;11180&quot;, &quot;name&quot;: &quot;\\uae08\\ucc9c\\uad6c&quot;, &quot;name_eng&quot;: &quot;Geumcheon-gu&quot;}, &quot;type&quot;: &quot;Feature&quot;}, {&quot;geometry&quot;: {&quot;coordinates&quot;: [[[126.82688081517314, 37.50548972232896], [126.8312211095328, 37.50541191299514], [126.8341914436862, 37.50238060850881], [126.8385046623421, 37.49965438083505], [126.84270526111828, 37.501190052842375], [126.8421330711049, 37.50273297478404], [126.84689618668257, 37.50287086505149], [126.84730715497963, 37.50522159123912], [126.85079659934003, 37.50601938589165], [126.8521985385098, 37.507310601432195], [126.8549910115563, 37.507774255244875], [126.85767018319959, 37.50643578404816], [126.8602448049945, 37.50714262450898], [126.86219488732715, 37.50388438562706], [126.86454914535695, 37.50388350542007], [126.86525729660478, 37.502448483868896], [126.86795186545288, 37.502755995885714], [126.87109220473953, 37.50203922322315], [126.87432642792102, 37.50260287829134], [126.87556919864359, 37.505720626918], [126.88054908630636, 37.51148026214697], [126.88156402353862, 37.513970034765684], [126.89253696873205, 37.50875582175844], [126.89594776782485, 37.504675281309176], [126.89549571721683, 37.50033127915717], [126.89581061458084, 37.49391346191318], [126.89861362258316, 37.48625405368759], [126.90260188508027, 37.48282626920736], [126.90531975801812, 37.48218087575429], [126.90156094129895, 37.47753842789901], [126.90104536043339, 37.47614746588584], [126.89689977603885, 37.47570593888643], [126.89116882970154, 37.47681803032367], [126.88803217321346, 37.47975290808737], [126.8827497570056, 37.48316340563878], [126.88079109105627, 37.48378287831426], [126.87683271502428, 37.482576591607305], [126.87926901338844, 37.4851363312754], [126.87807822721697, 37.486247661404484], [126.87500855887376, 37.485529408954044], [126.87499999632084, 37.48723558386031], [126.86985088086946, 37.490972856926746], [126.86690708512153, 37.48850048185492], [126.86334463261252, 37.48702105213313], [126.85979281993241, 37.48309390333688], [126.8571926758503, 37.482400254369296], [126.85582775745682, 37.48008159809108], [126.85397991619827, 37.47882533996402], [126.84914329670241, 37.4792573077648], [126.84804505350411, 37.478160467930344], [126.84762676054953, 37.47146723936323], [126.84154264465728, 37.4728980419], [126.83754691879544, 37.472514053936045], [126.83388005989259, 37.4747683882548], [126.83136668931549, 37.47344154955525], [126.82660025197819, 37.47364544953152], [126.82419365698964, 37.472951080902234], [126.82179895415682, 37.47518076838956], [126.82206789884786, 37.47889514031285], [126.82139445214092, 37.48136482338644], [126.82208805042494, 37.48299688518288], [126.82558489219227, 37.48497306755705], [126.82482114643597, 37.48717399070965], [126.81993148808915, 37.48877864988337], [126.81649745505314, 37.490455810141476], [126.81480709048222, 37.493362284349615], [126.81518179823208, 37.495233793642186], [126.81771493003457, 37.494748098657496], [126.8208295567048, 37.49594689979241], [126.82204657426578, 37.49851634597747], [126.82367963750009, 37.49925830108059], [126.82504736331406, 37.50302612640443], [126.82469248121312, 37.50496239513798], [126.82688081517314, 37.50548972232896]]], &quot;type&quot;: &quot;Polygon&quot;}, &quot;properties&quot;: {&quot;base_year&quot;: &quot;2013&quot;, &quot;code&quot;: &quot;11170&quot;, &quot;name&quot;: &quot;\\uad6c\\ub85c\\uad6c&quot;, &quot;name_eng&quot;: &quot;Guro-gu&quot;}, &quot;type&quot;: &quot;Feature&quot;}, {&quot;geometry&quot;: {&quot;coordinates&quot;: [[[126.85984199399667, 37.571847855292745], [126.85950389772532, 37.5682771531189], [126.8604929702619, 37.566825621733905], [126.86837407967381, 37.56309561411933], [126.87997924964915, 37.55510740490174], [126.89184663862764, 37.547373974997114], [126.88736718003831, 37.54350482420959], [126.88825757860099, 37.54079733630232], [126.8872486543506, 37.54079100234749], [126.88280520161935, 37.545072121233225], [126.8761093656006, 37.54412882794802], [126.8727924099192, 37.544853699294116], [126.86637464321238, 37.54859191094823], [126.86426635332332, 37.54172958759955], [126.86582129720519, 37.53817151116851], [126.8655037497872, 37.53382926555605], [126.86610073476395, 37.52699964144669], [126.85098397861944, 37.525098716169985], [126.84257291943153, 37.52373707805596], [126.836555914069, 37.53367208325903], [126.83716591765655, 37.534935320492906], [126.83522688458329, 37.539042988809484], [126.8325348945036, 37.538953250433295], [126.83191667070415, 37.54146500511403], [126.83017074557299, 37.542611079015344], [126.82889818288362, 37.53909381305992], [126.8242331426722, 37.53788078753248], [126.81674221631081, 37.5378396500627], [126.81246052552456, 37.538810793377344], [126.81143604908785, 37.54033621168525], [126.80542840499083, 37.54008921830378], [126.80185404828612, 37.537645443377826], [126.80090914554204, 37.53503009075454], [126.79688612254975, 37.53302974862096], [126.79582133969424, 37.536641561833754], [126.79693641290046, 37.53865858611534], [126.79388711477147, 37.53902211451394], [126.7938616681597, 37.54104361952839], [126.79075533377627, 37.54165251407983], [126.78880225462409, 37.54353706379955], [126.78198339188025, 37.543449601019624], [126.77756215424237, 37.54611355396897], [126.77324417717703, 37.5459123450554], [126.76977011413412, 37.55052082471595], [126.76700465024426, 37.552821566629916], [126.77074629769308, 37.55296836994276], [126.77145103135192, 37.55434307460708], [126.77879087345151, 37.55919525318415], [126.77889121370164, 37.5613614424496], [126.77671213061004, 37.5645429268672], [126.77986476402239, 37.564245932540665], [126.78252024622797, 37.565367145342954], [126.78471963959866, 37.56745669198498], [126.78398460461828, 37.56905814599349], [126.78496836516075, 37.57090748246567], [126.79172648531066, 37.57472630536462], [126.79539987549317, 37.57451148875729], [126.79523455851671, 37.57760277954844], [126.7958606942207, 37.58019957877273], [126.79799133400897, 37.58036436587069], [126.80091228188235, 37.5854309825683], [126.80289369340177, 37.58621464221784], [126.80131704756816, 37.58839794302751], [126.80149834313248, 37.59012749570681], [126.7996634054858, 37.59296530943065], [126.79910601240701, 37.59569886491464], [126.80046544382346, 37.59827267924192], [126.80198459129242, 37.598541940075755], [126.80268446118524, 37.601312560472834], [126.80393696882469, 37.601857300987895], [126.80759006979085, 37.60089755124775], [126.81814502537962, 37.591566052513244], [126.82251438477105, 37.5880430810082], [126.82891304761237, 37.5855611764797], [126.85302823436479, 37.57282468882299], [126.85984199399667, 37.571847855292745]]], &quot;type&quot;: &quot;Polygon&quot;}, &quot;properties&quot;: {&quot;base_year&quot;: &quot;2013&quot;, &quot;code&quot;: &quot;11160&quot;, &quot;name&quot;: &quot;\\uac15\\uc11c\\uad6c&quot;, &quot;name_eng&quot;: &quot;Gangseo-gu&quot;}, &quot;type&quot;: &quot;Feature&quot;}, {&quot;geometry&quot;: {&quot;coordinates&quot;: [[[126.8242331426722, 37.53788078753248], [126.82889818288362, 37.53909381305992], [126.83017074557299, 37.542611079015344], [126.83191667070415, 37.54146500511403], [126.8325348945036, 37.538953250433295], [126.83522688458329, 37.539042988809484], [126.83716591765655, 37.534935320492906], [126.836555914069, 37.53367208325903], [126.84257291943153, 37.52373707805596], [126.85098397861944, 37.525098716169985], [126.86610073476395, 37.52699964144669], [126.8655037497872, 37.53382926555605], [126.86582129720519, 37.53817151116851], [126.86426635332332, 37.54172958759955], [126.86637464321238, 37.54859191094823], [126.8727924099192, 37.544853699294116], [126.8761093656006, 37.54412882794802], [126.88280520161935, 37.545072121233225], [126.8872486543506, 37.54079100234749], [126.88825757860099, 37.54079733630232], [126.88938421776182, 37.54060159145325], [126.89339176028666, 37.533030814524004], [126.89361739665432, 37.53033899535983], [126.89213569003026, 37.52757969298779], [126.89057378109133, 37.52792091672938], [126.88904768965743, 37.525856504359034], [126.88382776477316, 37.52352483439659], [126.88260109180834, 37.52242565920786], [126.88191372979959, 37.51939416754389], [126.88156402353862, 37.513970034765684], [126.88054908630636, 37.51148026214697], [126.87556919864359, 37.505720626918], [126.87432642792102, 37.50260287829134], [126.87109220473953, 37.50203922322315], [126.86795186545288, 37.502755995885714], [126.86525729660478, 37.502448483868896], [126.86454914535695, 37.50388350542007], [126.86219488732715, 37.50388438562706], [126.8602448049945, 37.50714262450898], [126.85767018319959, 37.50643578404816], [126.8549910115563, 37.507774255244875], [126.8521985385098, 37.507310601432195], [126.85079659934003, 37.50601938589165], [126.84730715497963, 37.50522159123912], [126.84689618668257, 37.50287086505149], [126.8421330711049, 37.50273297478404], [126.84270526111828, 37.501190052842375], [126.8385046623421, 37.49965438083505], [126.8341914436862, 37.50238060850881], [126.8312211095328, 37.50541191299514], [126.82688081517314, 37.50548972232896], [126.82609821744505, 37.507816771867255], [126.82665326173496, 37.510416148524136], [126.82529622550616, 37.513385210403136], [126.82763384465879, 37.516923263281946], [126.8273575421771, 37.52002629298419], [126.83054711509516, 37.52390261457357], [126.82938708105253, 37.5268052663749], [126.8276955169658, 37.52706155314193], [126.82389942108053, 37.53199443525418], [126.8242331426722, 37.53788078753248]]], &quot;type&quot;: &quot;Polygon&quot;}, &quot;properties&quot;: {&quot;base_year&quot;: &quot;2013&quot;, &quot;code&quot;: &quot;11150&quot;, &quot;name&quot;: &quot;\\uc591\\ucc9c\\uad6c&quot;, &quot;name_eng&quot;: &quot;Yangcheon-gu&quot;}, &quot;type&quot;: &quot;Feature&quot;}, {&quot;geometry&quot;: {&quot;coordinates&quot;: [[[126.90522065831053, 37.57409700522574], [126.90370105002282, 37.57266722738834], [126.90687243065778, 37.57059762097416], [126.92189004506, 37.56391798973296], [126.92778174854314, 37.562495624023775], [126.93034243306369, 37.56054720372433], [126.92881397392811, 37.558202848902], [126.92872097190046, 37.556034533941734], [126.93898161798973, 37.552310003728124], [126.94314477022111, 37.5536460848349], [126.95916768398142, 37.55468176051932], [126.96080686210321, 37.55386236039188], [126.96358226710812, 37.55605635475154], [126.96519694864509, 37.55362533505407], [126.96380145704283, 37.55254525759954], [126.96448570553055, 37.548705692021635], [126.96604189284825, 37.546894141748815], [126.96401856825223, 37.54584596959762], [126.96231305253527, 37.543511558047456], [126.9605977865388, 37.542661954880806], [126.95926437828754, 37.53897908363236], [126.95340780191557, 37.533494726370755], [126.94717864071288, 37.53213495568077], [126.94566733083212, 37.526617542453366], [126.93680342222562, 37.53344577095931], [126.93132557924062, 37.53415416375281], [126.90829204147958, 37.539206065016785], [126.90281125423546, 37.54133630026083], [126.89184663862764, 37.547373974997114], [126.87997924964915, 37.55510740490174], [126.86837407967381, 37.56309561411933], [126.8604929702619, 37.566825621733905], [126.85950389772532, 37.5682771531189], [126.85984199399667, 37.571847855292745], [126.85993476176495, 37.5728262143511], [126.8638132887273, 37.57306147014704], [126.86560520354786, 37.57385540098251], [126.86766286078968, 37.57269227137124], [126.87008117117851, 37.574598289168996], [126.87282267062741, 37.574956427500126], [126.8779661566318, 37.57680133323819], [126.87918874599603, 37.5796889248137], [126.87876320682938, 37.581327335058546], [126.88107183862735, 37.583788024645344], [126.88237824849728, 37.586847436468204], [126.88433284773288, 37.588143322880526], [126.89150044994719, 37.58202374305761], [126.89532313269488, 37.579420322822145], [126.89738573904876, 37.578668647687564], [126.90023584510952, 37.575506080437606], [126.90373193212757, 37.573123712282076], [126.90522065831053, 37.57409700522574]]], &quot;type&quot;: &quot;Polygon&quot;}, &quot;properties&quot;: {&quot;base_year&quot;: &quot;2013&quot;, &quot;code&quot;: &quot;11140&quot;, &quot;name&quot;: &quot;\\ub9c8\\ud3ec\\uad6c&quot;, &quot;name_eng&quot;: &quot;Mapo-gu&quot;}, &quot;type&quot;: &quot;Feature&quot;}, {&quot;geometry&quot;: {&quot;coordinates&quot;: [[[126.9524752030572, 37.60508692737045], [126.95480868778256, 37.60381765067903], [126.95564117002459, 37.601827148276776], [126.95484771718951, 37.59761368186209], [126.95619178283661, 37.59575826218021], [126.95924434840931, 37.59545024466215], [126.95842779914786, 37.592356673207824], [126.960424902266, 37.58868913291801], [126.96048802632431, 37.587202077053746], [126.95879970726017, 37.58189826471162], [126.96177754536156, 37.57970124256911], [126.95789326971087, 37.57793453336025], [126.95565425846463, 37.576080790881456], [126.96873633279075, 37.56313604690827], [126.97169209525231, 37.55921654641677], [126.96900073076728, 37.55850929094393], [126.96570855677983, 37.556512377492325], [126.96358226710812, 37.55605635475154], [126.96080686210321, 37.55386236039188], [126.95916768398142, 37.55468176051932], [126.94314477022111, 37.5536460848349], [126.93898161798973, 37.552310003728124], [126.92872097190046, 37.556034533941734], [126.92881397392811, 37.558202848902], [126.93034243306369, 37.56054720372433], [126.92778174854314, 37.562495624023775], [126.92189004506, 37.56391798973296], [126.90687243065778, 37.57059762097416], [126.90370105002282, 37.57266722738834], [126.90522065831053, 37.57409700522574], [126.91464724464083, 37.583228529985455], [126.91827498278953, 37.58276881451649], [126.91792000144513, 37.58034997804668], [126.92444169370404, 37.581233899739914], [126.92596484570709, 37.58441659356971], [126.9281697003186, 37.584376616028365], [126.9302171100533, 37.58559126746845], [126.92996402426377, 37.58767009299767], [126.93104958440722, 37.58996937993664], [126.93575441237547, 37.593605788596975], [126.94277481511082, 37.59587806191211], [126.94359054641505, 37.60034871312552], [126.94451473597087, 37.60203195380752], [126.94701525068315, 37.602028095480975], [126.94919787550161, 37.60506379949065], [126.9524752030572, 37.60508692737045]]], &quot;type&quot;: &quot;Polygon&quot;}, &quot;properties&quot;: {&quot;base_year&quot;: &quot;2013&quot;, &quot;code&quot;: &quot;11130&quot;, &quot;name&quot;: &quot;\\uc11c\\ub300\\ubb38\\uad6c&quot;, &quot;name_eng&quot;: &quot;Seodaemun-gu&quot;}, &quot;type&quot;: &quot;Feature&quot;}, {&quot;geometry&quot;: {&quot;coordinates&quot;: [[[126.9738864128702, 37.62949634786888], [126.97135221665513, 37.62743418897386], [126.96164158910712, 37.62569322976388], [126.95885198650147, 37.6225761621008], [126.95427017006129, 37.622033431339425], [126.95393421039743, 37.61877981567335], [126.9528332649861, 37.6161065117682], [126.95145384404022, 37.61493028446385], [126.95249458941419, 37.61333750249896], [126.95308190738618, 37.60926681659027], [126.95187994741721, 37.60600915874973], [126.9524752030572, 37.60508692737045], [126.94919787550161, 37.60506379949065], [126.94701525068315, 37.602028095480975], [126.94451473597087, 37.60203195380752], [126.94359054641505, 37.60034871312552], [126.94277481511082, 37.59587806191211], [126.93575441237547, 37.593605788596975], [126.93104958440722, 37.58996937993664], [126.92996402426377, 37.58767009299767], [126.9302171100533, 37.58559126746845], [126.9281697003186, 37.584376616028365], [126.92596484570709, 37.58441659356971], [126.92444169370404, 37.581233899739914], [126.91792000144513, 37.58034997804668], [126.91827498278953, 37.58276881451649], [126.91464724464083, 37.583228529985455], [126.90522065831053, 37.57409700522574], [126.90373193212757, 37.573123712282076], [126.90023584510952, 37.575506080437606], [126.89738573904876, 37.578668647687564], [126.89532313269488, 37.579420322822145], [126.89150044994719, 37.58202374305761], [126.88433284773288, 37.588143322880526], [126.88715278104091, 37.59100341655796], [126.88936046370014, 37.59099007316069], [126.88753401663872, 37.58829545592628], [126.88935419108029, 37.58580092310326], [126.89349057571656, 37.585662344444785], [126.89532781702978, 37.58637054299599], [126.89905466698256, 37.58582731337662], [126.9019347597747, 37.58707359614439], [126.9010825805882, 37.58986595756633], [126.90396681003595, 37.59227403419942], [126.90321089756087, 37.594542731935476], [126.90358350094938, 37.59657528019595], [126.90235425214276, 37.60036302950128], [126.90417801431465, 37.60102912046836], [126.90396561274416, 37.60721180273151], [126.90303066177668, 37.609977911401344], [126.90548675623195, 37.61601216482774], [126.90721633741286, 37.6164590533837], [126.90935539569412, 37.61912234588074], [126.90852982623917, 37.62123670148755], [126.91081768678396, 37.62338674837964], [126.91117179533428, 37.62562846875194], [126.90862530043799, 37.62973539928895], [126.91295124779275, 37.633086577991136], [126.91232131977827, 37.635879167956396], [126.91380622398978, 37.63822817856539], [126.91455481429648, 37.64150050996935], [126.9097405206299, 37.643548736416925], [126.9104285840059, 37.64469477594629], [126.91598194662826, 37.64192000919822], [126.92335892549015, 37.642768849393626], [126.92751618877016, 37.644656244616336], [126.93099150738166, 37.64717805899008], [126.93658892420821, 37.64777520545395], [126.93914008753828, 37.64914400014214], [126.94248904852749, 37.65384179343651], [126.94571884127255, 37.655369042036206], [126.94940373004215, 37.656145979585894], [126.94982400027399, 37.65461320918016], [126.95334970767568, 37.65216408903825], [126.956473797387, 37.652480737339445], [126.9588647426878, 37.6498628918019], [126.95972824076269, 37.64638504253487], [126.96223689995006, 37.64553441285544], [126.96424221141602, 37.64071627640099], [126.96652025322855, 37.640285044901944], [126.97092373342322, 37.63589354812246], [126.97086605626453, 37.633738820281394], [126.9738864128702, 37.62949634786888]]], &quot;type&quot;: &quot;Polygon&quot;}, &quot;properties&quot;: {&quot;base_year&quot;: &quot;2013&quot;, &quot;code&quot;: &quot;11120&quot;, &quot;name&quot;: &quot;\\uc740\\ud3c9\\uad6c&quot;, &quot;name_eng&quot;: &quot;Eunpyeong-gu&quot;}, &quot;type&quot;: &quot;Feature&quot;}, {&quot;geometry&quot;: {&quot;coordinates&quot;: [[[127.10782277688129, 37.61804244241069], [127.10361952102048, 37.61701182935077], [127.10191523948123, 37.61531698025357], [127.09825969127313, 37.61431077622918], [127.09125855705382, 37.61703046232404], [127.08796048322492, 37.617471883010936], [127.08325130652017, 37.61626773063051], [127.07351243825278, 37.61283660342313], [127.07011594002495, 37.6127769191002], [127.06726783142085, 37.61136014256744], [127.06412260483201, 37.6115839902766], [127.05631594723272, 37.61738373018764], [127.05209373568619, 37.62164065487782], [127.04999984182327, 37.62412061598568], [127.04358800895609, 37.62848931298715], [127.046042857549, 37.630647660209426], [127.0471214260595, 37.63407841321815], [127.05227148282157, 37.642016305290156], [127.05704472959141, 37.63797342537787], [127.05800075220091, 37.64318263878276], [127.05640030258566, 37.648142414223344], [127.05620364700786, 37.65295201497795], [127.05366382763933, 37.65780685245659], [127.05343284205686, 37.660866393548005], [127.05093085431419, 37.666308257661356], [127.05124324520023, 37.6703356616521], [127.05259811896667, 37.67463041579101], [127.05402878877452, 37.682018621183914], [127.05288479710485, 37.68423857084347], [127.05673771202906, 37.68650223136443], [127.05893512852644, 37.68678532745334], [127.06366923747898, 37.68598834805241], [127.06722106517597, 37.68706409219909], [127.07150256171397, 37.69158365999211], [127.07502582169255, 37.691675325399515], [127.07945174893383, 37.693602239076704], [127.0838752703195, 37.69359534202034], [127.08640047239444, 37.69122798275615], [127.08834747450551, 37.68753106067129], [127.09706391309695, 37.686383719372294], [127.09839746601683, 37.682954904948026], [127.09481040538887, 37.678799295731295], [127.0939394572467, 37.676403111386776], [127.09572273018789, 37.673837879820674], [127.09657954289648, 37.670746511824845], [127.09767362583241, 37.67002252402865], [127.0980220884148, 37.66742967749355], [127.09621282296045, 37.66347990019021], [127.09845931549125, 37.659077182069595], [127.0978618070161, 37.656734861475485], [127.08845241642267, 37.65271564775536], [127.09496093471334, 37.65209266377008], [127.09618835483448, 37.65001330395237], [127.09440766298717, 37.64713490473045], [127.09686381732382, 37.642772590812655], [127.10024317327698, 37.642337895238754], [127.10266382494892, 37.64291284604662], [127.11014084969742, 37.641850613893396], [127.11406637789241, 37.63742154695932], [127.1144974746579, 37.632439003890255], [127.11309628774731, 37.627803407908374], [127.10737639048635, 37.62412346388371], [127.10736111050278, 37.62243873312504], [127.10561964188106, 37.620112931875134], [127.10782277688129, 37.61804244241069]]], &quot;type&quot;: &quot;Polygon&quot;}, &quot;properties&quot;: {&quot;base_year&quot;: &quot;2013&quot;, &quot;code&quot;: &quot;11110&quot;, &quot;name&quot;: &quot;\\ub178\\uc6d0\\uad6c&quot;, &quot;name_eng&quot;: &quot;Nowon-gu&quot;}, &quot;type&quot;: &quot;Feature&quot;}, {&quot;geometry&quot;: {&quot;coordinates&quot;: [[[127.05288479710485, 37.68423857084347], [127.05402878877452, 37.682018621183914], [127.05259811896667, 37.67463041579101], [127.05124324520023, 37.6703356616521], [127.05093085431419, 37.666308257661356], [127.05343284205686, 37.660866393548005], [127.05366382763933, 37.65780685245659], [127.05620364700786, 37.65295201497795], [127.05640030258566, 37.648142414223344], [127.05800075220091, 37.64318263878276], [127.05704472959141, 37.63797342537787], [127.05227148282157, 37.642016305290156], [127.0471214260595, 37.63407841321815], [127.046042857549, 37.630647660209426], [127.04358800895609, 37.62848931298715], [127.04058571489718, 37.6311245692538], [127.03905574421407, 37.63395360172076], [127.03660759925259, 37.63506293914692], [127.03477664182829, 37.63884292238491], [127.02950136469548, 37.64228467033725], [127.0265542519312, 37.644688649276304], [127.02233660280599, 37.64628067142158], [127.01772305897457, 37.64631597694605], [127.01534913067235, 37.64765266597785], [127.01465935892466, 37.64943687496812], [127.01599412132472, 37.65623256113309], [127.01726703299362, 37.65880555518138], [127.01776269066357, 37.66391319760785], [127.02062116141389, 37.667173575971205], [127.01873683359163, 37.66988242479123], [127.0159718440919, 37.67258796420281], [127.01401600772708, 37.67653037200686], [127.01073060671976, 37.67694372299732], [127.01039666042071, 37.681894589603594], [127.01103947380624, 37.684405447624954], [127.01017954927539, 37.686333239654594], [127.0109997247323, 37.691942369792514], [127.01405303313638, 37.69546278140397], [127.01645586375106, 37.69548055092485], [127.01802453368332, 37.698275937456124], [127.02143522814708, 37.698589417759045], [127.02419558273166, 37.69682256792619], [127.02700292435075, 37.69665589205863], [127.03018866626446, 37.69776745888886], [127.03132724235057, 37.69621818994332], [127.03183574218306, 37.69340418484943], [127.03328657751797, 37.69010729962784], [127.0345286215439, 37.688986544260594], [127.0379422140845, 37.68943836856245], [127.04383030416193, 37.692565730249534], [127.04510703173885, 37.690951514278055], [127.04772506731972, 37.68962174626068], [127.05108189294938, 37.69116379209157], [127.05288479710485, 37.68423857084347]]], &quot;type&quot;: &quot;Polygon&quot;}, &quot;properties&quot;: {&quot;base_year&quot;: &quot;2013&quot;, &quot;code&quot;: &quot;11100&quot;, &quot;name&quot;: &quot;\\ub3c4\\ubd09\\uad6c&quot;, &quot;name_eng&quot;: &quot;Dobong-gu&quot;}, &quot;type&quot;: &quot;Feature&quot;}, {&quot;geometry&quot;: {&quot;coordinates&quot;: [[[127.01039666042071, 37.681894589603594], [127.01073060671976, 37.67694372299732], [127.01401600772708, 37.67653037200686], [127.0159718440919, 37.67258796420281], [127.01873683359163, 37.66988242479123], [127.02062116141389, 37.667173575971205], [127.01776269066357, 37.66391319760785], [127.01726703299362, 37.65880555518138], [127.01599412132472, 37.65623256113309], [127.01465935892466, 37.64943687496812], [127.01534913067235, 37.64765266597785], [127.01772305897457, 37.64631597694605], [127.02233660280599, 37.64628067142158], [127.0265542519312, 37.644688649276304], [127.02950136469548, 37.64228467033725], [127.03477664182829, 37.63884292238491], [127.03660759925259, 37.63506293914692], [127.03905574421407, 37.63395360172076], [127.04058571489718, 37.6311245692538], [127.04358800895609, 37.62848931298715], [127.04999984182327, 37.62412061598568], [127.05209373568619, 37.62164065487782], [127.04887981022048, 37.61973841113549], [127.0460676006384, 37.615885647801704], [127.0419720518426, 37.612838591864076], [127.03892400992301, 37.609715611023816], [127.03251659844592, 37.60634705009134], [127.03229982090541, 37.609536104167034], [127.02851994524015, 37.60987827182396], [127.02433990415497, 37.60847763545628], [127.02136282940177, 37.610961475137174], [127.01685658093551, 37.61280115359516], [127.0128154749523, 37.613652243470256], [127.01060611893628, 37.615741236385354], [127.00960949401902, 37.61822603840364], [127.00997935126598, 37.62111906051553], [127.00210238658002, 37.622984514557714], [126.99867431516041, 37.626297613391166], [126.99614706382866, 37.62719717129899], [126.99529660787617, 37.62923863577322], [126.9933714170822, 37.62922019292486], [126.9877052521691, 37.63265610340949], [126.98672705513869, 37.63377641288196], [126.98826481934299, 37.637416984207924], [126.98537069512379, 37.64080296617396], [126.987065858581, 37.64320008084445], [126.98580395043626, 37.64699767714015], [126.9832621473545, 37.64947328029498], [126.9817452676551, 37.65209769387776], [126.98205504313285, 37.653797128044495], [126.98709809733522, 37.65651691642121], [126.99031779354014, 37.661013121145366], [126.99494735642686, 37.66223870806347], [126.99581225370686, 37.6651171428027], [126.99622950422442, 37.669428820661516], [126.99506026831365, 37.674827885285765], [126.99384134064161, 37.67665247641944], [126.9959894573757, 37.67754299691771], [127.00000021675876, 37.68100582640454], [127.00566931208934, 37.68228507374621], [127.01039666042071, 37.681894589603594]]], &quot;type&quot;: &quot;Polygon&quot;}, &quot;properties&quot;: {&quot;base_year&quot;: &quot;2013&quot;, &quot;code&quot;: &quot;11090&quot;, &quot;name&quot;: &quot;\\uac15\\ubd81\\uad6c&quot;, &quot;name_eng&quot;: &quot;Gangbuk-gu&quot;}, &quot;type&quot;: &quot;Feature&quot;}, {&quot;geometry&quot;: {&quot;coordinates&quot;: [[[126.977175406416, 37.62859715400388], [126.9794090069433, 37.63071544568365], [126.98360012419735, 37.631915771386076], [126.98672705513869, 37.63377641288196], [126.9877052521691, 37.63265610340949], [126.9933714170822, 37.62922019292486], [126.99529660787617, 37.62923863577322], [126.99614706382866, 37.62719717129899], [126.99867431516041, 37.626297613391166], [127.00210238658002, 37.622984514557714], [127.00997935126598, 37.62111906051553], [127.00960949401902, 37.61822603840364], [127.01060611893628, 37.615741236385354], [127.0128154749523, 37.613652243470256], [127.01685658093551, 37.61280115359516], [127.02136282940177, 37.610961475137174], [127.02433990415497, 37.60847763545628], [127.02851994524015, 37.60987827182396], [127.03229982090541, 37.609536104167034], [127.03251659844592, 37.60634705009134], [127.03892400992301, 37.609715611023816], [127.0419720518426, 37.612838591864076], [127.0460676006384, 37.615885647801704], [127.04887981022048, 37.61973841113549], [127.05209373568619, 37.62164065487782], [127.05631594723272, 37.61738373018764], [127.06412260483201, 37.6115839902766], [127.06726783142085, 37.61136014256744], [127.07011594002495, 37.6127769191002], [127.07351243825278, 37.61283660342313], [127.07382707099227, 37.60401928986419], [127.07257736686556, 37.60654335765868], [127.07069716820665, 37.60653037341939], [127.07084342033339, 37.60407877132597], [127.06753185518703, 37.602724214598744], [127.06424828533608, 37.60234356864383], [127.0612685122857, 37.59823077263369], [127.059485363799, 37.598743571420485], [127.05413734593897, 37.5971595374718], [127.05238061017225, 37.598312271275574], [127.04975439355248, 37.59349421284317], [127.0461318196879, 37.593514180513594], [127.042705222094, 37.59239437593391], [127.04116895171082, 37.58847599306138], [127.0384945038446, 37.587129138658426], [127.03121630347839, 37.57957997701485], [127.02527254528003, 37.57524616245249], [127.02395698453867, 37.576068086896726], [127.02039107536422, 37.575771872553595], [127.01849412471284, 37.57904760334465], [127.01678966486051, 37.57943162455397], [127.01094467951529, 37.57765758282494], [127.00914513999258, 37.57928387879304], [127.00896672237498, 37.582512606964876], [127.00803641804285, 37.5841154647404], [127.00453322588274, 37.58626325611708], [127.00304474231643, 37.58959898679736], [126.99774058571116, 37.58944568945197], [126.99647930158565, 37.58845217708608], [126.99348293358314, 37.588565457216156], [126.98858114244759, 37.58971272682123], [126.98596926877026, 37.59105697466976], [126.98411250331745, 37.59305007059415], [126.98366752610544, 37.596350797276386], [126.98700989661556, 37.59664611897289], [126.98984276495587, 37.59842301677683], [126.9880021251863, 37.60434406739665], [126.98906118629816, 37.60778324866486], [126.98879865992384, 37.6118927319756], [126.9849070918475, 37.61390303132951], [126.98297129719916, 37.61996223346171], [126.98130955822086, 37.621781567952816], [126.98162508963613, 37.626412913357804], [126.97877284074367, 37.62605559220399], [126.977175406416, 37.62859715400388]]], &quot;type&quot;: &quot;Polygon&quot;}, &quot;properties&quot;: {&quot;base_year&quot;: &quot;2013&quot;, &quot;code&quot;: &quot;11080&quot;, &quot;name&quot;: &quot;\\uc131\\ubd81\\uad6c&quot;, &quot;name_eng&quot;: &quot;Seongbuk-gu&quot;}, &quot;type&quot;: &quot;Feature&quot;}, {&quot;geometry&quot;: {&quot;coordinates&quot;: [[[127.07351243825278, 37.61283660342313], [127.08325130652017, 37.61626773063051], [127.08796048322492, 37.617471883010936], [127.09125855705382, 37.61703046232404], [127.09825969127313, 37.61431077622918], [127.10191523948123, 37.61531698025357], [127.10361952102048, 37.61701182935077], [127.10782277688129, 37.61804244241069], [127.11345331993296, 37.617863842655304], [127.11916337651404, 37.615000227833356], [127.1187755615964, 37.61339189160851], [127.11970006573152, 37.60891483985411], [127.11876125411283, 37.606109446640644], [127.12043057261968, 37.60482121408794], [127.1201246020114, 37.60178457598188], [127.11594480655864, 37.59717030173888], [127.1161657841268, 37.5962121213837], [127.12048134936907, 37.59221917979044], [127.11993709114493, 37.5912110652886], [127.11547153661459, 37.590528329194775], [127.11264015185725, 37.58640964166709], [127.11144053497418, 37.58186897928644], [127.10355419751173, 37.58101570870827], [127.10488038804347, 37.57896712496416], [127.10478332632734, 37.575507303239235], [127.10316405057817, 37.57293156986855], [127.10304174249214, 37.57076342290955], [127.1015990771266, 37.56973288819573], [127.09327554832984, 37.566762290300666], [127.08553261581505, 37.56856310839328], [127.08068541280403, 37.56906425519017], [127.08029626481297, 37.57521980955321], [127.07912345005859, 37.57855657914261], [127.07327401376529, 37.585954498442064], [127.07152840437725, 37.593413161750675], [127.07216156147413, 37.59537631888819], [127.07457336676376, 37.5983180561341], [127.07481016030349, 37.60000012932336], [127.07382707099227, 37.60401928986419], [127.07351243825278, 37.61283660342313]]], &quot;type&quot;: &quot;Polygon&quot;}, &quot;properties&quot;: {&quot;base_year&quot;: &quot;2013&quot;, &quot;code&quot;: &quot;11070&quot;, &quot;name&quot;: &quot;\\uc911\\ub791\\uad6c&quot;, &quot;name_eng&quot;: &quot;Jungnang-gu&quot;}, &quot;type&quot;: &quot;Feature&quot;}, {&quot;geometry&quot;: {&quot;coordinates&quot;: [[[127.02527254528003, 37.57524616245249], [127.03121630347839, 37.57957997701485], [127.0384945038446, 37.587129138658426], [127.04116895171082, 37.58847599306138], [127.042705222094, 37.59239437593391], [127.0461318196879, 37.593514180513594], [127.04975439355248, 37.59349421284317], [127.05238061017225, 37.598312271275574], [127.05413734593897, 37.5971595374718], [127.059485363799, 37.598743571420485], [127.0612685122857, 37.59823077263369], [127.06424828533608, 37.60234356864383], [127.06753185518703, 37.602724214598744], [127.07084342033339, 37.60407877132597], [127.07069716820665, 37.60653037341939], [127.07257736686556, 37.60654335765868], [127.07382707099227, 37.60401928986419], [127.07481016030349, 37.60000012932336], [127.07457336676376, 37.5983180561341], [127.07216156147413, 37.59537631888819], [127.07152840437725, 37.593413161750675], [127.07327401376529, 37.585954498442064], [127.07912345005859, 37.57855657914261], [127.08029626481297, 37.57521980955321], [127.08068541280403, 37.56906425519017], [127.07421053024362, 37.55724769712085], [127.07287485628252, 37.55777591771644], [127.06151678590773, 37.55942885203987], [127.06031059899311, 37.55992251180729], [127.05005601081567, 37.567577612590846], [127.0442866611438, 37.57022476304866], [127.04003329296518, 37.57010227772625], [127.03483042272745, 37.567549767306716], [127.03182413083377, 37.56712900013391], [127.02547266349976, 37.568943552237734], [127.02527254528003, 37.57524616245249]]], &quot;type&quot;: &quot;Polygon&quot;}, &quot;properties&quot;: {&quot;base_year&quot;: &quot;2013&quot;, &quot;code&quot;: &quot;11060&quot;, &quot;name&quot;: &quot;\\ub3d9\\ub300\\ubb38\\uad6c&quot;, &quot;name_eng&quot;: &quot;Dongdaemun-gu&quot;}, &quot;type&quot;: &quot;Feature&quot;}, {&quot;geometry&quot;: {&quot;coordinates&quot;: [[[127.08068541280403, 37.56906425519017], [127.08553261581505, 37.56856310839328], [127.09327554832984, 37.566762290300666], [127.1015990771266, 37.56973288819573], [127.10304174249214, 37.57076342290955], [127.10627148043552, 37.568124945986824], [127.10545359063936, 37.56685230388649], [127.10407152037101, 37.55958871940823], [127.10325742736646, 37.5572251707506], [127.11270952006532, 37.55702358575743], [127.11519584981606, 37.557533180704915], [127.11600943681239, 37.55580061507081], [127.11600200349189, 37.55053147511706], [127.11418412219375, 37.54474592090681], [127.1116764203608, 37.540669955324965], [127.10484130265957, 37.53120327509912], [127.10087519791962, 37.524841220167055], [127.0943611414465, 37.523984206117525], [127.08639455667742, 37.52161824624356], [127.07968915919895, 37.52077294752823], [127.07496309841329, 37.52091052765938], [127.0690698130372, 37.522279423505026], [127.05867359288398, 37.52629974922568], [127.06896218881212, 37.544361436565524], [127.07580697427795, 37.556641581290656], [127.07421053024362, 37.55724769712085], [127.08068541280403, 37.56906425519017]]], &quot;type&quot;: &quot;Polygon&quot;}, &quot;properties&quot;: {&quot;base_year&quot;: &quot;2013&quot;, &quot;code&quot;: &quot;11050&quot;, &quot;name&quot;: &quot;\\uad11\\uc9c4\\uad6c&quot;, &quot;name_eng&quot;: &quot;Gwangjin-gu&quot;}, &quot;type&quot;: &quot;Feature&quot;}, {&quot;geometry&quot;: {&quot;coordinates&quot;: [[[127.02547266349976, 37.568943552237734], [127.03182413083377, 37.56712900013391], [127.03483042272745, 37.567549767306716], [127.04003329296518, 37.57010227772625], [127.0442866611438, 37.57022476304866], [127.05005601081567, 37.567577612590846], [127.06031059899311, 37.55992251180729], [127.06151678590773, 37.55942885203987], [127.07287485628252, 37.55777591771644], [127.07421053024362, 37.55724769712085], [127.07580697427795, 37.556641581290656], [127.06896218881212, 37.544361436565524], [127.05867359288398, 37.52629974922568], [127.05116490008963, 37.52975116557232], [127.04903802830752, 37.53140496708317], [127.04806779588436, 37.52970198575087], [127.0319617044248, 37.536064291470424], [127.0269608080842, 37.53484752757724], [127.02302831890559, 37.53231899582663], [127.01689265453608, 37.536101393926174], [127.01157414590769, 37.53677688273679], [127.01043978345277, 37.53905983303592], [127.01070894177482, 37.54118048964762], [127.01172101406588, 37.545252245650516], [127.01376082027429, 37.54571276061997], [127.01889368846282, 37.55057696424215], [127.01951516360089, 37.55318470254581], [127.02174792168286, 37.55473509405241], [127.02496143707425, 37.555070476260596], [127.0257913546443, 37.558352834264504], [127.02836991434461, 37.56019645010606], [127.02881029425372, 37.56219283885279], [127.02571971403893, 37.56237200595601], [127.02547266349976, 37.568943552237734]]], &quot;type&quot;: &quot;Polygon&quot;}, &quot;properties&quot;: {&quot;base_year&quot;: &quot;2013&quot;, &quot;code&quot;: &quot;11040&quot;, &quot;name&quot;: &quot;\\uc131\\ub3d9\\uad6c&quot;, &quot;name_eng&quot;: &quot;Seongdong-gu&quot;}, &quot;type&quot;: &quot;Feature&quot;}, {&quot;geometry&quot;: {&quot;coordinates&quot;: [[[127.01070894177482, 37.54118048964762], [127.01043978345277, 37.53905983303592], [127.01157414590769, 37.53677688273679], [127.01689265453608, 37.536101393926174], [127.02302831890559, 37.53231899582663], [127.01397119667513, 37.52503988289669], [127.01022186960886, 37.522020085671926], [127.00818058911564, 37.51877313923874], [127.00583392114271, 37.516905128452926], [127.00011962020382, 37.513901653034374], [126.99148001917875, 37.50990503427709], [126.98948242685965, 37.5108780134613], [126.98458580602838, 37.51070333105394], [126.98223807916081, 37.509314966770326], [126.96670111119346, 37.50997579058433], [126.95950268374823, 37.51249532165974], [126.95551848909955, 37.514736123015844], [126.95249990298159, 37.51722500741813], [126.95003825019774, 37.520781022055274], [126.9488066464266, 37.52424913252661], [126.94566733083212, 37.526617542453366], [126.94717864071288, 37.53213495568077], [126.95340780191557, 37.533494726370755], [126.95926437828754, 37.53897908363236], [126.9605977865388, 37.542661954880806], [126.96231305253527, 37.543511558047456], [126.96401856825223, 37.54584596959762], [126.96604189284825, 37.546894141748815], [126.96448570553055, 37.548705692021635], [126.96782902931233, 37.55132047039716], [126.97427174983227, 37.55109017579016], [126.97859017732588, 37.550336476582174], [126.97925452152829, 37.552184137181925], [126.98262900956787, 37.5506055959842], [126.98584427779701, 37.55023778139842], [126.98752996903328, 37.55094818807139], [126.9899124474417, 37.54869376545355], [126.99238536723166, 37.54862980831976], [126.99742220893982, 37.544438365587226], [127.00062378484931, 37.54713274618077], [127.00478682371764, 37.54680216333233], [127.00632779182564, 37.54757707053058], [127.00694507580798, 37.5433832956489], [127.00936066823724, 37.54101133407434], [127.01070894177482, 37.54118048964762]]], &quot;type&quot;: &quot;Polygon&quot;}, &quot;properties&quot;: {&quot;base_year&quot;: &quot;2013&quot;, &quot;code&quot;: &quot;11030&quot;, &quot;name&quot;: &quot;\\uc6a9\\uc0b0\\uad6c&quot;, &quot;name_eng&quot;: &quot;Yongsan-gu&quot;}, &quot;type&quot;: &quot;Feature&quot;}, {&quot;geometry&quot;: {&quot;coordinates&quot;: [[[127.02547266349976, 37.568943552237734], [127.02571971403893, 37.56237200595601], [127.02881029425372, 37.56219283885279], [127.02836991434461, 37.56019645010606], [127.0257913546443, 37.558352834264504], [127.02496143707425, 37.555070476260596], [127.02174792168286, 37.55473509405241], [127.01951516360089, 37.55318470254581], [127.01889368846282, 37.55057696424215], [127.01376082027429, 37.54571276061997], [127.01172101406588, 37.545252245650516], [127.01070894177482, 37.54118048964762], [127.00936066823724, 37.54101133407434], [127.00694507580798, 37.5433832956489], [127.00632779182564, 37.54757707053058], [127.00478682371764, 37.54680216333233], [127.00062378484931, 37.54713274618077], [126.99742220893982, 37.544438365587226], [126.99238536723166, 37.54862980831976], [126.9899124474417, 37.54869376545355], [126.98752996903328, 37.55094818807139], [126.98584427779701, 37.55023778139842], [126.98262900956787, 37.5506055959842], [126.97925452152829, 37.552184137181925], [126.97859017732588, 37.550336476582174], [126.97427174983227, 37.55109017579016], [126.96782902931233, 37.55132047039716], [126.96448570553055, 37.548705692021635], [126.96380145704283, 37.55254525759954], [126.96519694864509, 37.55362533505407], [126.96358226710812, 37.55605635475154], [126.96570855677983, 37.556512377492325], [126.96900073076728, 37.55850929094393], [126.97169209525231, 37.55921654641677], [126.96873633279075, 37.56313604690827], [126.97114791678374, 37.56539818101368], [126.97500684322326, 37.566406971064836], [126.97990305661519, 37.5664536437083], [126.9910070921652, 37.565312022428806], [126.99879870609924, 37.56591346564579], [127.00372480409301, 37.56679519621814], [127.01786686709805, 37.56701276414023], [127.02250839667563, 37.56892943928301], [127.02547266349976, 37.568943552237734]]], &quot;type&quot;: &quot;Polygon&quot;}, &quot;properties&quot;: {&quot;base_year&quot;: &quot;2013&quot;, &quot;code&quot;: &quot;11020&quot;, &quot;name&quot;: &quot;\\uc911\\uad6c&quot;, &quot;name_eng&quot;: &quot;Jung-gu&quot;}, &quot;type&quot;: &quot;Feature&quot;}, {&quot;geometry&quot;: {&quot;coordinates&quot;: [[[126.9738864128702, 37.62949634786888], [126.977175406416, 37.62859715400388], [126.97877284074367, 37.62605559220399], [126.98162508963613, 37.626412913357804], [126.98130955822086, 37.621781567952816], [126.98297129719916, 37.61996223346171], [126.9849070918475, 37.61390303132951], [126.98879865992384, 37.6118927319756], [126.98906118629816, 37.60778324866486], [126.9880021251863, 37.60434406739665], [126.98984276495587, 37.59842301677683], [126.98700989661556, 37.59664611897289], [126.98366752610544, 37.596350797276386], [126.98411250331745, 37.59305007059415], [126.98596926877026, 37.59105697466976], [126.98858114244759, 37.58971272682123], [126.99348293358314, 37.588565457216156], [126.99647930158565, 37.58845217708608], [126.99774058571116, 37.58944568945197], [127.00304474231643, 37.58959898679736], [127.00453322588274, 37.58626325611708], [127.00803641804285, 37.5841154647404], [127.00896672237498, 37.582512606964876], [127.00914513999258, 37.57928387879304], [127.01094467951529, 37.57765758282494], [127.01678966486051, 37.57943162455397], [127.01849412471284, 37.57904760334465], [127.02039107536422, 37.575771872553595], [127.02395698453867, 37.576068086896726], [127.02527254528003, 37.57524616245249], [127.02547266349976, 37.568943552237734], [127.02250839667563, 37.56892943928301], [127.01786686709805, 37.56701276414023], [127.00372480409301, 37.56679519621814], [126.99879870609924, 37.56591346564579], [126.9910070921652, 37.565312022428806], [126.97990305661519, 37.5664536437083], [126.97500684322326, 37.566406971064836], [126.97114791678374, 37.56539818101368], [126.96873633279075, 37.56313604690827], [126.95565425846463, 37.576080790881456], [126.95789326971087, 37.57793453336025], [126.96177754536156, 37.57970124256911], [126.95879970726017, 37.58189826471162], [126.96048802632431, 37.587202077053746], [126.960424902266, 37.58868913291801], [126.95842779914786, 37.592356673207824], [126.95924434840931, 37.59545024466215], [126.95619178283661, 37.59575826218021], [126.95484771718951, 37.59761368186209], [126.95564117002459, 37.601827148276776], [126.95480868778256, 37.60381765067903], [126.9524752030572, 37.60508692737045], [126.95187994741721, 37.60600915874973], [126.95308190738618, 37.60926681659027], [126.95249458941419, 37.61333750249896], [126.95145384404022, 37.61493028446385], [126.9528332649861, 37.6161065117682], [126.95393421039743, 37.61877981567335], [126.95427017006129, 37.622033431339425], [126.95885198650147, 37.6225761621008], [126.96164158910712, 37.62569322976388], [126.97135221665513, 37.62743418897386], [126.9738864128702, 37.62949634786888]]], &quot;type&quot;: &quot;Polygon&quot;}, &quot;properties&quot;: {&quot;base_year&quot;: &quot;2013&quot;, &quot;code&quot;: &quot;11010&quot;, &quot;name&quot;: &quot;\\uc885\\ub85c\\uad6c&quot;, &quot;name_eng&quot;: &quot;Jongno-gu&quot;}, &quot;type&quot;: &quot;Feature&quot;}], &quot;type&quot;: &quot;FeatureCollection&quot;});\n",
              "\n",
              "        \n",
              "    \n",
              "    var color_map_f421d9e10d756cb24bc8f3b446bcca37 = {};\n",
              "\n",
              "    \n",
              "    color_map_f421d9e10d756cb24bc8f3b446bcca37.color = d3.scale.threshold()\n",
              "              .domain([0.0, 80.16032064128257, 160.32064128256513, 240.4809619238477, 320.64128256513027, 400.80160320641284, 480.9619238476954, 561.1222444889779, 641.2825651302605, 721.442885771543, 801.6032064128257, 881.7635270541082, 961.9238476953908, 1042.0841683366734, 1122.2444889779558, 1202.4048096192384, 1282.565130260521, 1362.7254509018037, 1442.885771543086, 1523.0460921843687, 1603.2064128256513, 1683.366733466934, 1763.5270541082164, 1843.687374749499, 1923.8476953907816, 2004.0080160320642, 2084.168336673347, 2164.3286573146293, 2244.4889779559117, 2324.6492985971945, 2404.809619238477, 2484.9699398797593, 2565.130260521042, 2645.2905811623245, 2725.4509018036074, 2805.61122244489, 2885.771543086172, 2965.931863727455, 3046.0921843687374, 3126.25250501002, 3206.4128256513027, 3286.573146292585, 3366.733466933868, 3446.8937875751503, 3527.0541082164327, 3607.2144288577156, 3687.374749498998, 3767.5350701402804, 3847.695390781563, 3927.8557114228456, 4008.0160320641285, 4088.176352705411, 4168.336673346694, 4248.496993987976, 4328.6573146292585, 4408.817635270541, 4488.977955911823, 4569.138276553106, 4649.298597194389, 4729.458917835671, 4809.619238476954, 4889.779559118237, 4969.939879759519, 5050.100200400801, 5130.260521042084, 5210.420841683367, 5290.581162324649, 5370.741482965932, 5450.901803607215, 5531.062124248497, 5611.22244488978, 5691.382765531062, 5771.543086172344, 5851.703406813627, 5931.86372745491, 6012.024048096192, 6092.184368737475, 6172.344689378758, 6252.50501002004, 6332.6653306613225, 6412.825651302605, 6492.985971943888, 6573.14629258517, 6653.306613226453, 6733.466933867736, 6813.627254509018, 6893.787575150301, 6973.9478957915835, 7054.108216432865, 7134.268537074148, 7214.428857715431, 7294.589178356713, 7374.749498997996, 7454.909819639279, 7535.070140280561, 7615.230460921844, 7695.390781563126, 7775.551102204408, 7855.711422845691, 7935.871743486974, 8016.032064128257, 8096.192384769539, 8176.352705410822, 8256.513026052104, 8336.673346693387, 8416.83366733467, 8496.993987975951, 8577.154308617235, 8657.314629258517, 8737.474949899799, 8817.635270541083, 8897.795591182365, 8977.955911823647, 9058.11623246493, 9138.276553106212, 9218.436873747494, 9298.597194388778, 9378.75751503006, 9458.917835671342, 9539.078156312626, 9619.238476953908, 9699.39879759519, 9779.559118236473, 9859.719438877755, 9939.879759519037, 10020.040080160321, 10100.200400801603, 10180.360721442887, 10260.521042084169, 10340.68136272545, 10420.841683366734, 10501.002004008016, 10581.162324649298, 10661.322645290582, 10741.482965931864, 10821.643286573146, 10901.80360721443, 10981.963927855712, 11062.124248496993, 11142.284569138277, 11222.44488977956, 11302.605210420841, 11382.765531062125, 11462.925851703407, 11543.086172344689, 11623.246492985973, 11703.406813627254, 11783.567134268536, 11863.72745490982, 11943.887775551102, 12024.048096192384, 12104.208416833668, 12184.36873747495, 12264.529058116232, 12344.689378757515, 12424.849699398797, 12505.01002004008, 12585.170340681363, 12665.330661322645, 12745.490981963927, 12825.65130260521, 12905.811623246493, 12985.971943887776, 13066.132264529058, 13146.29258517034, 13226.452905811624, 13306.613226452906, 13386.773547094188, 13466.933867735472, 13547.094188376754, 13627.254509018036, 13707.41482965932, 13787.575150300601, 13867.735470941883, 13947.895791583167, 14028.056112224449, 14108.21643286573, 14188.376753507015, 14268.537074148297, 14348.697394789579, 14428.857715430862, 14509.018036072144, 14589.178356713426, 14669.33867735471, 14749.498997995992, 14829.659318637274, 14909.819639278558, 14989.97995991984, 15070.140280561121, 15150.300601202405, 15230.460921843687, 15310.62124248497, 15390.781563126253, 15470.941883767535, 15551.102204408817, 15631.2625250501, 15711.422845691382, 15791.583166332666, 15871.743486973948, 15951.90380761523, 16032.064128256514, 16112.224448897796, 16192.384769539078, 16272.545090180362, 16352.705410821643, 16432.865731462927, 16513.026052104207, 16593.18637274549, 16673.346693386775, 16753.507014028055, 16833.66733466934, 16913.827655310623, 16993.987975951903, 17074.148296593186, 17154.30861723447, 17234.46893787575, 17314.629258517034, 17394.789579158318, 17474.949899799598, 17555.11022044088, 17635.270541082165, 17715.430861723446, 17795.59118236473, 17875.751503006013, 17955.911823647293, 18036.072144288577, 18116.23246492986, 18196.39278557114, 18276.553106212425, 18356.71342685371, 18436.87374749499, 18517.034068136272, 18597.194388777556, 18677.354709418836, 18757.51503006012, 18837.675350701404, 18917.835671342684, 18997.995991983968, 19078.15631262525, 19158.31663326653, 19238.476953907815, 19318.6372745491, 19398.79759519038, 19478.957915831663, 19559.118236472947, 19639.278557114227, 19719.43887775551, 19799.599198396794, 19879.759519038074, 19959.919839679358, 20040.080160320642, 20120.240480961926, 20200.400801603206, 20280.56112224449, 20360.721442885773, 20440.881763527053, 20521.042084168337, 20601.20240480962, 20681.3627254509, 20761.523046092185, 20841.68336673347, 20921.84368737475, 21002.004008016032, 21082.164328657316, 21162.324649298596, 21242.48496993988, 21322.645290581164, 21402.805611222444, 21482.965931863728, 21563.12625250501, 21643.28657314629, 21723.446893787575, 21803.60721442886, 21883.76753507014, 21963.927855711423, 22044.088176352707, 22124.248496993987, 22204.40881763527, 22284.569138276554, 22364.729458917835, 22444.88977955912, 22525.050100200402, 22605.210420841682, 22685.370741482966, 22765.53106212425, 22845.69138276553, 22925.851703406814, 23006.012024048097, 23086.172344689377, 23166.33266533066, 23246.492985971945, 23326.653306613225, 23406.81362725451, 23486.973947895793, 23567.134268537073, 23647.294589178357, 23727.45490981964, 23807.61523046092, 23887.775551102204, 23967.935871743488, 24048.096192384768, 24128.256513026052, 24208.416833667336, 24288.577154308616, 24368.7374749499, 24448.897795591183, 24529.058116232463, 24609.218436873747, 24689.37875751503, 24769.53907815631, 24849.699398797595, 24929.85971943888, 25010.02004008016, 25090.180360721442, 25170.340681362726, 25250.501002004006, 25330.66132264529, 25410.821643286574, 25490.981963927854, 25571.142284569138, 25651.30260521042, 25731.462925851705, 25811.623246492985, 25891.78356713427, 25971.943887775553, 26052.104208416833, 26132.264529058117, 26212.4248496994, 26292.58517034068, 26372.745490981964, 26452.905811623248, 26533.06613226453, 26613.226452905812, 26693.386773547096, 26773.547094188376, 26853.70741482966, 26933.867735470943, 27014.028056112224, 27094.188376753507, 27174.34869739479, 27254.50901803607, 27334.669338677355, 27414.82965931864, 27494.98997995992, 27575.150300601203, 27655.310621242486, 27735.470941883766, 27815.63126252505, 27895.791583166334, 27975.951903807614, 28056.112224448898, 28136.27254509018, 28216.43286573146, 28296.593186372746, 28376.75350701403, 28456.91382765531, 28537.074148296593, 28617.234468937877, 28697.394789579157, 28777.55511022044, 28857.715430861725, 28937.875751503005, 29018.03607214429, 29098.196392785572, 29178.356713426852, 29258.517034068136, 29338.67735470942, 29418.8376753507, 29498.997995991984, 29579.158316633268, 29659.318637274548, 29739.47895791583, 29819.639278557115, 29899.799599198395, 29979.95991983968, 30060.120240480963, 30140.280561122243, 30220.440881763527, 30300.60120240481, 30380.76152304609, 30460.921843687374, 30541.082164328658, 30621.24248496994, 30701.402805611222, 30781.563126252506, 30861.723446893786, 30941.88376753507, 31022.044088176353, 31102.204408817634, 31182.364729458917, 31262.5250501002, 31342.68537074148, 31422.845691382765, 31503.00601202405, 31583.166332665332, 31663.326653306613, 31743.486973947896, 31823.64729458918, 31903.80761523046, 31983.967935871744, 32064.128256513028, 32144.288577154308, 32224.44889779559, 32304.609218436875, 32384.769539078156, 32464.92985971944, 32545.090180360723, 32625.250501002003, 32705.410821643287, 32785.57114228457, 32865.731462925854, 32945.89178356713, 33026.052104208415, 33106.2124248497, 33186.37274549098, 33266.533066132266, 33346.69338677355, 33426.853707414826, 33507.01402805611, 33587.174348697394, 33667.33466933868, 33747.49498997996, 33827.655310621245, 33907.81563126252, 33987.975951903805, 34068.13627254509, 34148.29659318637, 34228.45691382766, 34308.61723446894, 34388.777555110224, 34468.9378757515, 34549.098196392784, 34629.25851703407, 34709.41883767535, 34789.579158316636, 34869.73947895792, 34949.899799599196, 35030.06012024048, 35110.22044088176, 35190.38076152305, 35270.54108216433, 35350.701402805615, 35430.86172344689, 35511.022044088175, 35591.18236472946, 35671.34268537074, 35751.503006012026, 35831.66332665331, 35911.82364729459, 35991.98396793587, 36072.144288577154, 36152.30460921844, 36232.46492985972, 36312.625250501005, 36392.78557114228, 36472.945891783565, 36553.10621242485, 36633.26653306613, 36713.42685370742, 36793.5871743487, 36873.74749498998, 36953.90781563126, 37034.068136272545, 37114.22845691383, 37194.38877755511, 37274.549098196396, 37354.70941883767, 37434.869739478956, 37515.03006012024, 37595.19038076152, 37675.35070140281, 37755.51102204409, 37835.67134268537, 37915.83166332665, 37995.991983967935, 38076.15230460922, 38156.3126252505, 38236.47294589179, 38316.63326653306, 38396.79358717435, 38476.95390781563, 38557.114228456914, 38637.2745490982, 38717.43486973948, 38797.59519038076, 38877.75551102204, 38957.915831663326, 39038.07615230461, 39118.23647294589, 39198.39679358718, 39278.55711422845, 39358.71743486974, 39438.87775551102, 39519.038076152305, 39599.19839679359, 39679.35871743487, 39759.51903807615, 39839.67935871743, 39919.839679358716, 40000.0])\n",
              "              .range([&#x27;#ffffb2ff&#x27;, &#x27;#ffffb2ff&#x27;, &#x27;#ffffb2ff&#x27;, &#x27;#ffffb2ff&#x27;, &#x27;#fed976ff&#x27;, &#x27;#fed976ff&#x27;, &#x27;#fed976ff&#x27;, &#x27;#feb24cff&#x27;, &#x27;#feb24cff&#x27;, &#x27;#feb24cff&#x27;, &#x27;#feb24cff&#x27;, &#x27;#feb24cff&#x27;, &#x27;#feb24cff&#x27;, &#x27;#fd8d3cff&#x27;, &#x27;#fd8d3cff&#x27;, &#x27;#fd8d3cff&#x27;, &#x27;#fd8d3cff&#x27;, &#x27;#fd8d3cff&#x27;, &#x27;#fd8d3cff&#x27;, &#x27;#fc4e2aff&#x27;, &#x27;#fc4e2aff&#x27;, &#x27;#fc4e2aff&#x27;, &#x27;#fc4e2aff&#x27;, &#x27;#fc4e2aff&#x27;, &#x27;#fc4e2aff&#x27;, &#x27;#e31a1cff&#x27;, &#x27;#e31a1cff&#x27;, &#x27;#e31a1cff&#x27;, &#x27;#e31a1cff&#x27;, &#x27;#e31a1cff&#x27;, &#x27;#e31a1cff&#x27;, &#x27;#e31a1cff&#x27;, &#x27;#e31a1cff&#x27;, &#x27;#e31a1cff&#x27;, &#x27;#e31a1cff&#x27;, &#x27;#e31a1cff&#x27;, &#x27;#e31a1cff&#x27;, &#x27;#e31a1cff&#x27;, &#x27;#b10026ff&#x27;, &#x27;#b10026ff&#x27;, &#x27;#b10026ff&#x27;, &#x27;#b10026ff&#x27;, &#x27;#b10026ff&#x27;, &#x27;#b10026ff&#x27;, &#x27;#b10026ff&#x27;, &#x27;#b10026ff&#x27;, &#x27;#b10026ff&#x27;, &#x27;#b10026ff&#x27;, &#x27;#b10026ff&#x27;, &#x27;#b10026ff&#x27;, &#x27;#b10026ff&#x27;, &#x27;#b10026ff&#x27;, &#x27;#b10026ff&#x27;, &#x27;#b10026ff&#x27;, &#x27;#b10026ff&#x27;, &#x27;#b10026ff&#x27;, &#x27;#b10026ff&#x27;, &#x27;#b10026ff&#x27;, &#x27;#b10026ff&#x27;, &#x27;#b10026ff&#x27;, &#x27;#b10026ff&#x27;, &#x27;#b10026ff&#x27;, &#x27;#b10026ff&#x27;, &#x27;#b10026ff&#x27;, &#x27;#b10026ff&#x27;, &#x27;#b10026ff&#x27;, &#x27;#b10026ff&#x27;, &#x27;#b10026ff&#x27;, &#x27;#b10026ff&#x27;, &#x27;#b10026ff&#x27;, &#x27;#b10026ff&#x27;, &#x27;#b10026ff&#x27;, &#x27;#b10026ff&#x27;, &#x27;#b10026ff&#x27;, &#x27;#b10026ff&#x27;, &#x27;#b10026ff&#x27;, &#x27;#b10026ff&#x27;, &#x27;#b10026ff&#x27;, &#x27;#b10026ff&#x27;, &#x27;#b10026ff&#x27;, &#x27;#b10026ff&#x27;, &#x27;#b10026ff&#x27;, &#x27;#b10026ff&#x27;, &#x27;#b10026ff&#x27;, &#x27;#b10026ff&#x27;, &#x27;#b10026ff&#x27;, &#x27;#b10026ff&#x27;, &#x27;#b10026ff&#x27;, &#x27;#b10026ff&#x27;, &#x27;#b10026ff&#x27;, &#x27;#b10026ff&#x27;, &#x27;#b10026ff&#x27;, &#x27;#b10026ff&#x27;, &#x27;#b10026ff&#x27;, &#x27;#b10026ff&#x27;, &#x27;#b10026ff&#x27;, &#x27;#b10026ff&#x27;, &#x27;#b10026ff&#x27;, &#x27;#b10026ff&#x27;, &#x27;#b10026ff&#x27;, &#x27;#b10026ff&#x27;, &#x27;#b10026ff&#x27;, &#x27;#b10026ff&#x27;, &#x27;#b10026ff&#x27;, &#x27;#b10026ff&#x27;, &#x27;#b10026ff&#x27;, &#x27;#b10026ff&#x27;, &#x27;#b10026ff&#x27;, &#x27;#b10026ff&#x27;, &#x27;#b10026ff&#x27;, &#x27;#b10026ff&#x27;, &#x27;#b10026ff&#x27;, &#x27;#b10026ff&#x27;, &#x27;#b10026ff&#x27;, &#x27;#b10026ff&#x27;, &#x27;#b10026ff&#x27;, &#x27;#b10026ff&#x27;, &#x27;#b10026ff&#x27;, &#x27;#b10026ff&#x27;, &#x27;#b10026ff&#x27;, &#x27;#b10026ff&#x27;, &#x27;#b10026ff&#x27;, &#x27;#b10026ff&#x27;, &#x27;#b10026ff&#x27;, &#x27;#b10026ff&#x27;, &#x27;#b10026ff&#x27;, &#x27;#b10026ff&#x27;, &#x27;#b10026ff&#x27;, &#x27;#b10026ff&#x27;, &#x27;#b10026ff&#x27;, &#x27;#b10026ff&#x27;, &#x27;#b10026ff&#x27;, &#x27;#b10026ff&#x27;, &#x27;#b10026ff&#x27;, &#x27;#b10026ff&#x27;, &#x27;#b10026ff&#x27;, &#x27;#b10026ff&#x27;, &#x27;#b10026ff&#x27;, &#x27;#b10026ff&#x27;, &#x27;#b10026ff&#x27;, &#x27;#b10026ff&#x27;, &#x27;#b10026ff&#x27;, &#x27;#b10026ff&#x27;, &#x27;#b10026ff&#x27;, &#x27;#b10026ff&#x27;, &#x27;#b10026ff&#x27;, &#x27;#b10026ff&#x27;, &#x27;#b10026ff&#x27;, &#x27;#b10026ff&#x27;, &#x27;#b10026ff&#x27;, &#x27;#b10026ff&#x27;, &#x27;#b10026ff&#x27;, &#x27;#b10026ff&#x27;, &#x27;#b10026ff&#x27;, &#x27;#b10026ff&#x27;, &#x27;#b10026ff&#x27;, &#x27;#b10026ff&#x27;, &#x27;#b10026ff&#x27;, &#x27;#b10026ff&#x27;, &#x27;#b10026ff&#x27;, &#x27;#b10026ff&#x27;, &#x27;#b10026ff&#x27;, &#x27;#b10026ff&#x27;, &#x27;#b10026ff&#x27;, &#x27;#b10026ff&#x27;, &#x27;#b10026ff&#x27;, &#x27;#b10026ff&#x27;, &#x27;#b10026ff&#x27;, &#x27;#b10026ff&#x27;, &#x27;#b10026ff&#x27;, &#x27;#b10026ff&#x27;, &#x27;#b10026ff&#x27;, &#x27;#b10026ff&#x27;, &#x27;#b10026ff&#x27;, &#x27;#b10026ff&#x27;, &#x27;#b10026ff&#x27;, &#x27;#b10026ff&#x27;, &#x27;#b10026ff&#x27;, &#x27;#b10026ff&#x27;, &#x27;#b10026ff&#x27;, &#x27;#b10026ff&#x27;, &#x27;#b10026ff&#x27;, &#x27;#b10026ff&#x27;, &#x27;#b10026ff&#x27;, &#x27;#b10026ff&#x27;, &#x27;#b10026ff&#x27;, &#x27;#b10026ff&#x27;, &#x27;#b10026ff&#x27;, &#x27;#b10026ff&#x27;, &#x27;#b10026ff&#x27;, &#x27;#b10026ff&#x27;, &#x27;#b10026ff&#x27;, &#x27;#b10026ff&#x27;, &#x27;#b10026ff&#x27;, &#x27;#b10026ff&#x27;, &#x27;#b10026ff&#x27;, &#x27;#b10026ff&#x27;, &#x27;#b10026ff&#x27;, &#x27;#b10026ff&#x27;, &#x27;#b10026ff&#x27;, &#x27;#b10026ff&#x27;, &#x27;#b10026ff&#x27;, &#x27;#b10026ff&#x27;, &#x27;#b10026ff&#x27;, &#x27;#b10026ff&#x27;, &#x27;#b10026ff&#x27;, &#x27;#b10026ff&#x27;, &#x27;#b10026ff&#x27;, &#x27;#b10026ff&#x27;, &#x27;#b10026ff&#x27;, &#x27;#b10026ff&#x27;, &#x27;#b10026ff&#x27;, &#x27;#b10026ff&#x27;, &#x27;#b10026ff&#x27;, &#x27;#b10026ff&#x27;, &#x27;#b10026ff&#x27;, &#x27;#b10026ff&#x27;, &#x27;#b10026ff&#x27;, &#x27;#b10026ff&#x27;, &#x27;#b10026ff&#x27;, &#x27;#b10026ff&#x27;, &#x27;#b10026ff&#x27;, &#x27;#b10026ff&#x27;, &#x27;#b10026ff&#x27;, &#x27;#b10026ff&#x27;, &#x27;#b10026ff&#x27;, &#x27;#b10026ff&#x27;, &#x27;#b10026ff&#x27;, &#x27;#b10026ff&#x27;, &#x27;#b10026ff&#x27;, &#x27;#b10026ff&#x27;, &#x27;#b10026ff&#x27;, &#x27;#b10026ff&#x27;, &#x27;#b10026ff&#x27;, &#x27;#b10026ff&#x27;, &#x27;#b10026ff&#x27;, &#x27;#b10026ff&#x27;, &#x27;#b10026ff&#x27;, &#x27;#b10026ff&#x27;, &#x27;#b10026ff&#x27;, &#x27;#b10026ff&#x27;, &#x27;#b10026ff&#x27;, &#x27;#b10026ff&#x27;, &#x27;#b10026ff&#x27;, &#x27;#b10026ff&#x27;, &#x27;#b10026ff&#x27;, &#x27;#b10026ff&#x27;, &#x27;#b10026ff&#x27;, &#x27;#b10026ff&#x27;, &#x27;#b10026ff&#x27;, &#x27;#b10026ff&#x27;, &#x27;#b10026ff&#x27;, &#x27;#b10026ff&#x27;, &#x27;#b10026ff&#x27;, &#x27;#b10026ff&#x27;, &#x27;#b10026ff&#x27;, &#x27;#b10026ff&#x27;, &#x27;#b10026ff&#x27;, &#x27;#b10026ff&#x27;, &#x27;#b10026ff&#x27;, &#x27;#b10026ff&#x27;, &#x27;#b10026ff&#x27;, &#x27;#b10026ff&#x27;, &#x27;#b10026ff&#x27;, &#x27;#b10026ff&#x27;, &#x27;#b10026ff&#x27;, &#x27;#b10026ff&#x27;, &#x27;#b10026ff&#x27;, &#x27;#b10026ff&#x27;, &#x27;#b10026ff&#x27;, &#x27;#b10026ff&#x27;, &#x27;#b10026ff&#x27;, &#x27;#b10026ff&#x27;, &#x27;#b10026ff&#x27;, &#x27;#b10026ff&#x27;, &#x27;#b10026ff&#x27;, &#x27;#b10026ff&#x27;, &#x27;#b10026ff&#x27;, &#x27;#b10026ff&#x27;, &#x27;#b10026ff&#x27;, &#x27;#b10026ff&#x27;, &#x27;#b10026ff&#x27;, &#x27;#b10026ff&#x27;, &#x27;#b10026ff&#x27;, &#x27;#b10026ff&#x27;, &#x27;#b10026ff&#x27;, &#x27;#b10026ff&#x27;, &#x27;#b10026ff&#x27;, &#x27;#b10026ff&#x27;, &#x27;#b10026ff&#x27;, &#x27;#b10026ff&#x27;, &#x27;#b10026ff&#x27;, &#x27;#b10026ff&#x27;, &#x27;#b10026ff&#x27;, &#x27;#b10026ff&#x27;, &#x27;#b10026ff&#x27;, &#x27;#b10026ff&#x27;, &#x27;#b10026ff&#x27;, &#x27;#b10026ff&#x27;, &#x27;#b10026ff&#x27;, &#x27;#b10026ff&#x27;, &#x27;#b10026ff&#x27;, &#x27;#b10026ff&#x27;, &#x27;#b10026ff&#x27;, &#x27;#b10026ff&#x27;, &#x27;#b10026ff&#x27;, &#x27;#b10026ff&#x27;, &#x27;#b10026ff&#x27;, &#x27;#b10026ff&#x27;, &#x27;#b10026ff&#x27;, &#x27;#b10026ff&#x27;, &#x27;#b10026ff&#x27;, &#x27;#b10026ff&#x27;, &#x27;#b10026ff&#x27;, &#x27;#b10026ff&#x27;, &#x27;#b10026ff&#x27;, &#x27;#b10026ff&#x27;, &#x27;#b10026ff&#x27;, &#x27;#b10026ff&#x27;, &#x27;#b10026ff&#x27;, &#x27;#b10026ff&#x27;, &#x27;#b10026ff&#x27;, &#x27;#b10026ff&#x27;, &#x27;#b10026ff&#x27;, &#x27;#b10026ff&#x27;, &#x27;#b10026ff&#x27;, &#x27;#b10026ff&#x27;, &#x27;#b10026ff&#x27;, &#x27;#b10026ff&#x27;, &#x27;#b10026ff&#x27;, &#x27;#b10026ff&#x27;, &#x27;#b10026ff&#x27;, &#x27;#b10026ff&#x27;, &#x27;#b10026ff&#x27;, &#x27;#b10026ff&#x27;, &#x27;#b10026ff&#x27;, &#x27;#b10026ff&#x27;, &#x27;#b10026ff&#x27;, &#x27;#b10026ff&#x27;, &#x27;#b10026ff&#x27;, &#x27;#b10026ff&#x27;, &#x27;#b10026ff&#x27;, &#x27;#b10026ff&#x27;, &#x27;#b10026ff&#x27;, &#x27;#b10026ff&#x27;, &#x27;#b10026ff&#x27;, &#x27;#b10026ff&#x27;, &#x27;#b10026ff&#x27;, &#x27;#b10026ff&#x27;, &#x27;#b10026ff&#x27;, &#x27;#b10026ff&#x27;, &#x27;#b10026ff&#x27;, &#x27;#b10026ff&#x27;, &#x27;#b10026ff&#x27;, &#x27;#b10026ff&#x27;, &#x27;#b10026ff&#x27;, &#x27;#b10026ff&#x27;, &#x27;#b10026ff&#x27;, &#x27;#b10026ff&#x27;, &#x27;#b10026ff&#x27;, &#x27;#b10026ff&#x27;, &#x27;#b10026ff&#x27;, &#x27;#b10026ff&#x27;, &#x27;#b10026ff&#x27;, &#x27;#b10026ff&#x27;, &#x27;#b10026ff&#x27;, &#x27;#b10026ff&#x27;, &#x27;#b10026ff&#x27;, &#x27;#b10026ff&#x27;, &#x27;#b10026ff&#x27;, &#x27;#b10026ff&#x27;, &#x27;#b10026ff&#x27;, &#x27;#b10026ff&#x27;, &#x27;#b10026ff&#x27;, &#x27;#b10026ff&#x27;, &#x27;#b10026ff&#x27;, &#x27;#b10026ff&#x27;, &#x27;#b10026ff&#x27;, &#x27;#b10026ff&#x27;, &#x27;#b10026ff&#x27;, &#x27;#b10026ff&#x27;, &#x27;#b10026ff&#x27;, &#x27;#b10026ff&#x27;, &#x27;#b10026ff&#x27;, &#x27;#b10026ff&#x27;, &#x27;#b10026ff&#x27;, &#x27;#b10026ff&#x27;, &#x27;#b10026ff&#x27;, &#x27;#b10026ff&#x27;, &#x27;#b10026ff&#x27;, &#x27;#b10026ff&#x27;, &#x27;#b10026ff&#x27;, &#x27;#b10026ff&#x27;, &#x27;#b10026ff&#x27;, &#x27;#b10026ff&#x27;, &#x27;#b10026ff&#x27;, &#x27;#b10026ff&#x27;, &#x27;#b10026ff&#x27;, &#x27;#b10026ff&#x27;, &#x27;#b10026ff&#x27;, &#x27;#b10026ff&#x27;, &#x27;#b10026ff&#x27;, &#x27;#b10026ff&#x27;, &#x27;#b10026ff&#x27;, &#x27;#b10026ff&#x27;, &#x27;#b10026ff&#x27;, &#x27;#b10026ff&#x27;, &#x27;#b10026ff&#x27;, &#x27;#b10026ff&#x27;, &#x27;#b10026ff&#x27;, &#x27;#b10026ff&#x27;, &#x27;#b10026ff&#x27;, &#x27;#b10026ff&#x27;, &#x27;#b10026ff&#x27;, &#x27;#b10026ff&#x27;, &#x27;#b10026ff&#x27;, &#x27;#b10026ff&#x27;, &#x27;#b10026ff&#x27;, &#x27;#b10026ff&#x27;, &#x27;#b10026ff&#x27;, &#x27;#b10026ff&#x27;, &#x27;#b10026ff&#x27;, &#x27;#b10026ff&#x27;, &#x27;#b10026ff&#x27;, &#x27;#b10026ff&#x27;, &#x27;#b10026ff&#x27;, &#x27;#b10026ff&#x27;, &#x27;#b10026ff&#x27;, &#x27;#b10026ff&#x27;, &#x27;#b10026ff&#x27;, &#x27;#b10026ff&#x27;, &#x27;#b10026ff&#x27;, &#x27;#b10026ff&#x27;, &#x27;#b10026ff&#x27;, &#x27;#b10026ff&#x27;, &#x27;#b10026ff&#x27;, &#x27;#b10026ff&#x27;, &#x27;#b10026ff&#x27;, &#x27;#b10026ff&#x27;, &#x27;#b10026ff&#x27;, &#x27;#b10026ff&#x27;, &#x27;#b10026ff&#x27;, &#x27;#b10026ff&#x27;, &#x27;#b10026ff&#x27;, &#x27;#b10026ff&#x27;, &#x27;#b10026ff&#x27;, &#x27;#b10026ff&#x27;, &#x27;#b10026ff&#x27;, &#x27;#b10026ff&#x27;, &#x27;#b10026ff&#x27;, &#x27;#b10026ff&#x27;, &#x27;#b10026ff&#x27;, &#x27;#b10026ff&#x27;, &#x27;#b10026ff&#x27;, &#x27;#b10026ff&#x27;, &#x27;#b10026ff&#x27;, &#x27;#b10026ff&#x27;, &#x27;#b10026ff&#x27;, &#x27;#b10026ff&#x27;, &#x27;#b10026ff&#x27;, &#x27;#b10026ff&#x27;, &#x27;#b10026ff&#x27;, &#x27;#b10026ff&#x27;, &#x27;#b10026ff&#x27;, &#x27;#b10026ff&#x27;, &#x27;#b10026ff&#x27;, &#x27;#b10026ff&#x27;, &#x27;#b10026ff&#x27;, &#x27;#b10026ff&#x27;, &#x27;#b10026ff&#x27;, &#x27;#b10026ff&#x27;, &#x27;#b10026ff&#x27;, &#x27;#b10026ff&#x27;, &#x27;#b10026ff&#x27;, &#x27;#b10026ff&#x27;, &#x27;#b10026ff&#x27;, &#x27;#b10026ff&#x27;, &#x27;#b10026ff&#x27;, &#x27;#b10026ff&#x27;, &#x27;#b10026ff&#x27;, &#x27;#b10026ff&#x27;, &#x27;#b10026ff&#x27;, &#x27;#b10026ff&#x27;, &#x27;#b10026ff&#x27;, &#x27;#b10026ff&#x27;, &#x27;#b10026ff&#x27;, &#x27;#b10026ff&#x27;, &#x27;#b10026ff&#x27;, &#x27;#b10026ff&#x27;, &#x27;#b10026ff&#x27;, &#x27;#b10026ff&#x27;, &#x27;#b10026ff&#x27;, &#x27;#b10026ff&#x27;, &#x27;#b10026ff&#x27;, &#x27;#b10026ff&#x27;, &#x27;#b10026ff&#x27;, &#x27;#b10026ff&#x27;, &#x27;#b10026ff&#x27;, &#x27;#b10026ff&#x27;, &#x27;#b10026ff&#x27;]);\n",
              "    \n",
              "\n",
              "    color_map_f421d9e10d756cb24bc8f3b446bcca37.x = d3.scale.linear()\n",
              "              .domain([0.0, 40000.0])\n",
              "              .range([0, 450 - 50]);\n",
              "\n",
              "    color_map_f421d9e10d756cb24bc8f3b446bcca37.legend = L.control({position: &#x27;topright&#x27;});\n",
              "    color_map_f421d9e10d756cb24bc8f3b446bcca37.legend.onAdd = function (map) {var div = L.DomUtil.create(&#x27;div&#x27;, &#x27;legend&#x27;); return div};\n",
              "    color_map_f421d9e10d756cb24bc8f3b446bcca37.legend.addTo(map_99ca02d971a44c07d07a5d57d8996408);\n",
              "\n",
              "    color_map_f421d9e10d756cb24bc8f3b446bcca37.xAxis = d3.svg.axis()\n",
              "        .scale(color_map_f421d9e10d756cb24bc8f3b446bcca37.x)\n",
              "        .orient(&quot;top&quot;)\n",
              "        .tickSize(1)\n",
              "        .tickValues([0, 250, 500, 1000, 1500, 2000, 3000, 40000]);\n",
              "\n",
              "    color_map_f421d9e10d756cb24bc8f3b446bcca37.svg = d3.select(&quot;.legend.leaflet-control&quot;).append(&quot;svg&quot;)\n",
              "        .attr(&quot;id&quot;, &#x27;legend&#x27;)\n",
              "        .attr(&quot;width&quot;, 450)\n",
              "        .attr(&quot;height&quot;, 40);\n",
              "\n",
              "    color_map_f421d9e10d756cb24bc8f3b446bcca37.g = color_map_f421d9e10d756cb24bc8f3b446bcca37.svg.append(&quot;g&quot;)\n",
              "        .attr(&quot;class&quot;, &quot;key&quot;)\n",
              "        .attr(&quot;transform&quot;, &quot;translate(25,16)&quot;);\n",
              "\n",
              "    color_map_f421d9e10d756cb24bc8f3b446bcca37.g.selectAll(&quot;rect&quot;)\n",
              "        .data(color_map_f421d9e10d756cb24bc8f3b446bcca37.color.range().map(function(d, i) {\n",
              "          return {\n",
              "            x0: i ? color_map_f421d9e10d756cb24bc8f3b446bcca37.x(color_map_f421d9e10d756cb24bc8f3b446bcca37.color.domain()[i - 1]) : color_map_f421d9e10d756cb24bc8f3b446bcca37.x.range()[0],\n",
              "            x1: i &lt; color_map_f421d9e10d756cb24bc8f3b446bcca37.color.domain().length ? color_map_f421d9e10d756cb24bc8f3b446bcca37.x(color_map_f421d9e10d756cb24bc8f3b446bcca37.color.domain()[i]) : color_map_f421d9e10d756cb24bc8f3b446bcca37.x.range()[1],\n",
              "            z: d\n",
              "          };\n",
              "        }))\n",
              "      .enter().append(&quot;rect&quot;)\n",
              "        .attr(&quot;height&quot;, 40 - 30)\n",
              "        .attr(&quot;x&quot;, function(d) { return d.x0; })\n",
              "        .attr(&quot;width&quot;, function(d) { return d.x1 - d.x0; })\n",
              "        .style(&quot;fill&quot;, function(d) { return d.z; });\n",
              "\n",
              "    color_map_f421d9e10d756cb24bc8f3b446bcca37.g.call(color_map_f421d9e10d756cb24bc8f3b446bcca37.xAxis).append(&quot;text&quot;)\n",
              "        .attr(&quot;class&quot;, &quot;caption&quot;)\n",
              "        .attr(&quot;y&quot;, 21)\n",
              "        .text(&quot;&quot;);\n",
              "&lt;/script&gt;\n",
              "&lt;/html&gt;\" style=\"position:absolute;width:100%;height:100%;left:0;top:0;border:none !important;\" allowfullscreen webkitallowfullscreen mozallowfullscreen></iframe></div></div>"
            ]
          },
          "metadata": {},
          "execution_count": 38
        }
      ]
    },
    {
      "cell_type": "markdown",
      "source": [
        "#3. 지역별 전기자동차 증가"
      ],
      "metadata": {
        "id": "-ZnxVZvgr0as"
      }
    },
    {
      "cell_type": "markdown",
      "source": [
        "**폰트설치**"
      ],
      "metadata": {
        "id": "2FkFZ6QSl12n"
      }
    },
    {
      "cell_type": "code",
      "source": [
        "!apt-get update -qq\n",
        "!apt-get install fonts-nanum* -qq"
      ],
      "metadata": {
        "id": "vsGEH9oKgrn1"
      },
      "execution_count": 1,
      "outputs": []
    },
    {
      "cell_type": "markdown",
      "source": [
        "**한글 폰트 설치**"
      ],
      "metadata": {
        "id": "bf17VI9Al7LJ"
      }
    },
    {
      "cell_type": "code",
      "source": [
        "import matplotlib.font_manager as fm\n",
        "fm._rebuild()\n",
        "\n",
        "import matplotlib.pyplot as plt\n",
        "plt.rc('font',family=\"NanumGothic\")"
      ],
      "metadata": {
        "id": "RAeXuBBig3Ls"
      },
      "execution_count": 2,
      "outputs": []
    },
    {
      "cell_type": "markdown",
      "source": [
        "**CSV 파일 업로드**"
      ],
      "metadata": {
        "id": "SmwPuB8CmEBk"
      }
    },
    {
      "cell_type": "code",
      "source": [
        "from google.colab import files\n",
        "import pandas as pd\n",
        "import seaborn as sns\n",
        "loaded = files.upload()\n",
        "df=pd.read_csv('지역별충전소정보.csv',encoding='949')\n",
        "print(df)"
      ],
      "metadata": {
        "colab": {
          "base_uri": "https://localhost:8080/",
          "height": 350
        },
        "id": "vQBtXpBBhKh7",
        "outputId": "d6edbefe-d5b3-4c17-8fd3-fc593f12c21b"
      },
      "execution_count": 29,
      "outputs": [
        {
          "output_type": "display_data",
          "data": {
            "text/plain": [
              "<IPython.core.display.HTML object>"
            ],
            "text/html": [
              "\n",
              "     <input type=\"file\" id=\"files-7bca52e7-4421-4b8b-b297-86552a55dcfb\" name=\"files[]\" multiple disabled\n",
              "        style=\"border:none\" />\n",
              "     <output id=\"result-7bca52e7-4421-4b8b-b297-86552a55dcfb\">\n",
              "      Upload widget is only available when the cell has been executed in the\n",
              "      current browser session. Please rerun this cell to enable.\n",
              "      </output>\n",
              "      <script>// Copyright 2017 Google LLC\n",
              "//\n",
              "// Licensed under the Apache License, Version 2.0 (the \"License\");\n",
              "// you may not use this file except in compliance with the License.\n",
              "// You may obtain a copy of the License at\n",
              "//\n",
              "//      http://www.apache.org/licenses/LICENSE-2.0\n",
              "//\n",
              "// Unless required by applicable law or agreed to in writing, software\n",
              "// distributed under the License is distributed on an \"AS IS\" BASIS,\n",
              "// WITHOUT WARRANTIES OR CONDITIONS OF ANY KIND, either express or implied.\n",
              "// See the License for the specific language governing permissions and\n",
              "// limitations under the License.\n",
              "\n",
              "/**\n",
              " * @fileoverview Helpers for google.colab Python module.\n",
              " */\n",
              "(function(scope) {\n",
              "function span(text, styleAttributes = {}) {\n",
              "  const element = document.createElement('span');\n",
              "  element.textContent = text;\n",
              "  for (const key of Object.keys(styleAttributes)) {\n",
              "    element.style[key] = styleAttributes[key];\n",
              "  }\n",
              "  return element;\n",
              "}\n",
              "\n",
              "// Max number of bytes which will be uploaded at a time.\n",
              "const MAX_PAYLOAD_SIZE = 100 * 1024;\n",
              "\n",
              "function _uploadFiles(inputId, outputId) {\n",
              "  const steps = uploadFilesStep(inputId, outputId);\n",
              "  const outputElement = document.getElementById(outputId);\n",
              "  // Cache steps on the outputElement to make it available for the next call\n",
              "  // to uploadFilesContinue from Python.\n",
              "  outputElement.steps = steps;\n",
              "\n",
              "  return _uploadFilesContinue(outputId);\n",
              "}\n",
              "\n",
              "// This is roughly an async generator (not supported in the browser yet),\n",
              "// where there are multiple asynchronous steps and the Python side is going\n",
              "// to poll for completion of each step.\n",
              "// This uses a Promise to block the python side on completion of each step,\n",
              "// then passes the result of the previous step as the input to the next step.\n",
              "function _uploadFilesContinue(outputId) {\n",
              "  const outputElement = document.getElementById(outputId);\n",
              "  const steps = outputElement.steps;\n",
              "\n",
              "  const next = steps.next(outputElement.lastPromiseValue);\n",
              "  return Promise.resolve(next.value.promise).then((value) => {\n",
              "    // Cache the last promise value to make it available to the next\n",
              "    // step of the generator.\n",
              "    outputElement.lastPromiseValue = value;\n",
              "    return next.value.response;\n",
              "  });\n",
              "}\n",
              "\n",
              "/**\n",
              " * Generator function which is called between each async step of the upload\n",
              " * process.\n",
              " * @param {string} inputId Element ID of the input file picker element.\n",
              " * @param {string} outputId Element ID of the output display.\n",
              " * @return {!Iterable<!Object>} Iterable of next steps.\n",
              " */\n",
              "function* uploadFilesStep(inputId, outputId) {\n",
              "  const inputElement = document.getElementById(inputId);\n",
              "  inputElement.disabled = false;\n",
              "\n",
              "  const outputElement = document.getElementById(outputId);\n",
              "  outputElement.innerHTML = '';\n",
              "\n",
              "  const pickedPromise = new Promise((resolve) => {\n",
              "    inputElement.addEventListener('change', (e) => {\n",
              "      resolve(e.target.files);\n",
              "    });\n",
              "  });\n",
              "\n",
              "  const cancel = document.createElement('button');\n",
              "  inputElement.parentElement.appendChild(cancel);\n",
              "  cancel.textContent = 'Cancel upload';\n",
              "  const cancelPromise = new Promise((resolve) => {\n",
              "    cancel.onclick = () => {\n",
              "      resolve(null);\n",
              "    };\n",
              "  });\n",
              "\n",
              "  // Wait for the user to pick the files.\n",
              "  const files = yield {\n",
              "    promise: Promise.race([pickedPromise, cancelPromise]),\n",
              "    response: {\n",
              "      action: 'starting',\n",
              "    }\n",
              "  };\n",
              "\n",
              "  cancel.remove();\n",
              "\n",
              "  // Disable the input element since further picks are not allowed.\n",
              "  inputElement.disabled = true;\n",
              "\n",
              "  if (!files) {\n",
              "    return {\n",
              "      response: {\n",
              "        action: 'complete',\n",
              "      }\n",
              "    };\n",
              "  }\n",
              "\n",
              "  for (const file of files) {\n",
              "    const li = document.createElement('li');\n",
              "    li.append(span(file.name, {fontWeight: 'bold'}));\n",
              "    li.append(span(\n",
              "        `(${file.type || 'n/a'}) - ${file.size} bytes, ` +\n",
              "        `last modified: ${\n",
              "            file.lastModifiedDate ? file.lastModifiedDate.toLocaleDateString() :\n",
              "                                    'n/a'} - `));\n",
              "    const percent = span('0% done');\n",
              "    li.appendChild(percent);\n",
              "\n",
              "    outputElement.appendChild(li);\n",
              "\n",
              "    const fileDataPromise = new Promise((resolve) => {\n",
              "      const reader = new FileReader();\n",
              "      reader.onload = (e) => {\n",
              "        resolve(e.target.result);\n",
              "      };\n",
              "      reader.readAsArrayBuffer(file);\n",
              "    });\n",
              "    // Wait for the data to be ready.\n",
              "    let fileData = yield {\n",
              "      promise: fileDataPromise,\n",
              "      response: {\n",
              "        action: 'continue',\n",
              "      }\n",
              "    };\n",
              "\n",
              "    // Use a chunked sending to avoid message size limits. See b/62115660.\n",
              "    let position = 0;\n",
              "    do {\n",
              "      const length = Math.min(fileData.byteLength - position, MAX_PAYLOAD_SIZE);\n",
              "      const chunk = new Uint8Array(fileData, position, length);\n",
              "      position += length;\n",
              "\n",
              "      const base64 = btoa(String.fromCharCode.apply(null, chunk));\n",
              "      yield {\n",
              "        response: {\n",
              "          action: 'append',\n",
              "          file: file.name,\n",
              "          data: base64,\n",
              "        },\n",
              "      };\n",
              "\n",
              "      let percentDone = fileData.byteLength === 0 ?\n",
              "          100 :\n",
              "          Math.round((position / fileData.byteLength) * 100);\n",
              "      percent.textContent = `${percentDone}% done`;\n",
              "\n",
              "    } while (position < fileData.byteLength);\n",
              "  }\n",
              "\n",
              "  // All done.\n",
              "  yield {\n",
              "    response: {\n",
              "      action: 'complete',\n",
              "    }\n",
              "  };\n",
              "}\n",
              "\n",
              "scope.google = scope.google || {};\n",
              "scope.google.colab = scope.google.colab || {};\n",
              "scope.google.colab._files = {\n",
              "  _uploadFiles,\n",
              "  _uploadFilesContinue,\n",
              "};\n",
              "})(self);\n",
              "</script> "
            ]
          },
          "metadata": {}
        },
        {
          "output_type": "stream",
          "name": "stdout",
          "text": [
            "Saving 연도별전기차증가.csv to 연도별전기차증가 (1).csv\n",
            "     연도  강원도  경기도  경상남도  경상북도  광주광역시  대구광역시  대전광역시  부산광역시  서울특별시  세종특별시  \\\n",
            "0  2016    5   22    24     8      3      4      3      6     28      1   \n",
            "1  2017  118  572   199   127     52    181     86     97    444     48   \n",
            "2  2018  140  631   235   175     74    205     98    118    518     61   \n",
            "3  2019  165  699   255   190     85    227    105    124    546     61   \n",
            "4  2020  185  760   362   258    100    242    115    133    584     64   \n",
            "5  2021  202  805   370   264    102    248    120    145    605     64   \n",
            "\n",
            "   울산광역시  인천광역시  전라남도  전라북도  제주특별시  충청남도  충청북도  \n",
            "0      4      3    19     9      7     5    13  \n",
            "1     38    117   125   109    155    73   125  \n",
            "2     42    129   149   130    185    95   145  \n",
            "3     45    137   169   147    202   109   162  \n",
            "4     48    153   181   165    202   144   186  \n",
            "5     50    164   195   180    223   169   189  \n"
          ]
        }
      ]
    },
    {
      "cell_type": "markdown",
      "source": [
        "**index_col을 연도별로 설정**"
      ],
      "metadata": {
        "id": "Ncs20__wmJn1"
      }
    },
    {
      "cell_type": "code",
      "source": [
        "df=pd.read_csv('지역별충전소정보.csv',encoding='949',index_col='연도')\n",
        "print(df)\n"
      ],
      "metadata": {
        "colab": {
          "base_uri": "https://localhost:8080/"
        },
        "id": "8Ej84XjhhdnB",
        "outputId": "06bf7eb3-10df-403f-aef7-dd3eab6f11cb"
      },
      "execution_count": 30,
      "outputs": [
        {
          "output_type": "stream",
          "name": "stdout",
          "text": [
            "      강원도  경기도  경상남도  경상북도  광주광역시  대구광역시  대전광역시  부산광역시  서울특별시  세종특별시  울산광역시  \\\n",
            "연도                                                                            \n",
            "2016    5   22    24     8      3      4      3      6     28      1      4   \n",
            "2017  118  572   199   127     52    181     86     97    444     48     38   \n",
            "2018  140  631   235   175     74    205     98    118    518     61     42   \n",
            "2019  165  699   255   190     85    227    105    124    546     61     45   \n",
            "2020  185  760   362   258    100    242    115    133    584     64     48   \n",
            "2021  202  805   370   264    102    248    120    145    605     64     50   \n",
            "\n",
            "      인천광역시  전라남도  전라북도  제주특별시  충청남도  충청북도  \n",
            "연도                                          \n",
            "2016      3    19     9      7     5    13  \n",
            "2017    117   125   109    155    73   125  \n",
            "2018    129   149   130    185    95   145  \n",
            "2019    137   169   147    202   109   162  \n",
            "2020    153   181   165    202   144   186  \n",
            "2021    164   195   180    223   169   189  \n"
          ]
        }
      ]
    },
    {
      "cell_type": "markdown",
      "source": [
        "**연도별 증가 그래프**"
      ],
      "metadata": {
        "id": "f-SVu5EdmT5z"
      }
    },
    {
      "cell_type": "code",
      "source": [
        "car_plot = df.plot(grid=True, style = ['','g:*','','','','','','','b:*','','','r:*','','','','','']\n",
        ")\n",
        "car_plot.set_xticks([2017,2018,2019,2020,2021])\n",
        "car_plot.set_xlabel('연도')\n",
        "car_plot.set_ylabel('충전소설치')\n",
        "car_plot.set_title('충전소정보')\n",
        "\n",
        "plt.show()\n"
      ],
      "metadata": {
        "colab": {
          "base_uri": "https://localhost:8080/",
          "height": 304
        },
        "id": "x19cCkcCh_CS",
        "outputId": "bd8712d0-2a51-41e0-9bac-133e009e69a8"
      },
      "execution_count": 31,
      "outputs": [
        {
          "output_type": "display_data",
          "data": {
            "text/plain": [
              "<Figure size 432x288 with 1 Axes>"
            ],
            "image/png": "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\n"
          },
          "metadata": {
            "needs_background": "light"
          }
        }
      ]
    },
    {
      "cell_type": "markdown",
      "source": [
        "**연도별 전기차량 증가**"
      ],
      "metadata": {
        "id": "vo2T4wtEv9l4"
      }
    },
    {
      "cell_type": "code",
      "source": [
        "from google.colab import files\n",
        "import pandas as pd\n",
        "loaded = files.upload()\n",
        "df=pd.read_csv('연도별전기차증가.csv',encoding='949')\n",
        "print(df)"
      ],
      "metadata": {
        "colab": {
          "base_uri": "https://localhost:8080/",
          "height": 277
        },
        "id": "73zXFkY3o0dm",
        "outputId": "383bf20e-39dd-4d14-a1f2-b530283f9f24"
      },
      "execution_count": 32,
      "outputs": [
        {
          "output_type": "display_data",
          "data": {
            "text/plain": [
              "<IPython.core.display.HTML object>"
            ],
            "text/html": [
              "\n",
              "     <input type=\"file\" id=\"files-5c32d817-515f-4d2b-90b7-68f6080c2b38\" name=\"files[]\" multiple disabled\n",
              "        style=\"border:none\" />\n",
              "     <output id=\"result-5c32d817-515f-4d2b-90b7-68f6080c2b38\">\n",
              "      Upload widget is only available when the cell has been executed in the\n",
              "      current browser session. Please rerun this cell to enable.\n",
              "      </output>\n",
              "      <script>// Copyright 2017 Google LLC\n",
              "//\n",
              "// Licensed under the Apache License, Version 2.0 (the \"License\");\n",
              "// you may not use this file except in compliance with the License.\n",
              "// You may obtain a copy of the License at\n",
              "//\n",
              "//      http://www.apache.org/licenses/LICENSE-2.0\n",
              "//\n",
              "// Unless required by applicable law or agreed to in writing, software\n",
              "// distributed under the License is distributed on an \"AS IS\" BASIS,\n",
              "// WITHOUT WARRANTIES OR CONDITIONS OF ANY KIND, either express or implied.\n",
              "// See the License for the specific language governing permissions and\n",
              "// limitations under the License.\n",
              "\n",
              "/**\n",
              " * @fileoverview Helpers for google.colab Python module.\n",
              " */\n",
              "(function(scope) {\n",
              "function span(text, styleAttributes = {}) {\n",
              "  const element = document.createElement('span');\n",
              "  element.textContent = text;\n",
              "  for (const key of Object.keys(styleAttributes)) {\n",
              "    element.style[key] = styleAttributes[key];\n",
              "  }\n",
              "  return element;\n",
              "}\n",
              "\n",
              "// Max number of bytes which will be uploaded at a time.\n",
              "const MAX_PAYLOAD_SIZE = 100 * 1024;\n",
              "\n",
              "function _uploadFiles(inputId, outputId) {\n",
              "  const steps = uploadFilesStep(inputId, outputId);\n",
              "  const outputElement = document.getElementById(outputId);\n",
              "  // Cache steps on the outputElement to make it available for the next call\n",
              "  // to uploadFilesContinue from Python.\n",
              "  outputElement.steps = steps;\n",
              "\n",
              "  return _uploadFilesContinue(outputId);\n",
              "}\n",
              "\n",
              "// This is roughly an async generator (not supported in the browser yet),\n",
              "// where there are multiple asynchronous steps and the Python side is going\n",
              "// to poll for completion of each step.\n",
              "// This uses a Promise to block the python side on completion of each step,\n",
              "// then passes the result of the previous step as the input to the next step.\n",
              "function _uploadFilesContinue(outputId) {\n",
              "  const outputElement = document.getElementById(outputId);\n",
              "  const steps = outputElement.steps;\n",
              "\n",
              "  const next = steps.next(outputElement.lastPromiseValue);\n",
              "  return Promise.resolve(next.value.promise).then((value) => {\n",
              "    // Cache the last promise value to make it available to the next\n",
              "    // step of the generator.\n",
              "    outputElement.lastPromiseValue = value;\n",
              "    return next.value.response;\n",
              "  });\n",
              "}\n",
              "\n",
              "/**\n",
              " * Generator function which is called between each async step of the upload\n",
              " * process.\n",
              " * @param {string} inputId Element ID of the input file picker element.\n",
              " * @param {string} outputId Element ID of the output display.\n",
              " * @return {!Iterable<!Object>} Iterable of next steps.\n",
              " */\n",
              "function* uploadFilesStep(inputId, outputId) {\n",
              "  const inputElement = document.getElementById(inputId);\n",
              "  inputElement.disabled = false;\n",
              "\n",
              "  const outputElement = document.getElementById(outputId);\n",
              "  outputElement.innerHTML = '';\n",
              "\n",
              "  const pickedPromise = new Promise((resolve) => {\n",
              "    inputElement.addEventListener('change', (e) => {\n",
              "      resolve(e.target.files);\n",
              "    });\n",
              "  });\n",
              "\n",
              "  const cancel = document.createElement('button');\n",
              "  inputElement.parentElement.appendChild(cancel);\n",
              "  cancel.textContent = 'Cancel upload';\n",
              "  const cancelPromise = new Promise((resolve) => {\n",
              "    cancel.onclick = () => {\n",
              "      resolve(null);\n",
              "    };\n",
              "  });\n",
              "\n",
              "  // Wait for the user to pick the files.\n",
              "  const files = yield {\n",
              "    promise: Promise.race([pickedPromise, cancelPromise]),\n",
              "    response: {\n",
              "      action: 'starting',\n",
              "    }\n",
              "  };\n",
              "\n",
              "  cancel.remove();\n",
              "\n",
              "  // Disable the input element since further picks are not allowed.\n",
              "  inputElement.disabled = true;\n",
              "\n",
              "  if (!files) {\n",
              "    return {\n",
              "      response: {\n",
              "        action: 'complete',\n",
              "      }\n",
              "    };\n",
              "  }\n",
              "\n",
              "  for (const file of files) {\n",
              "    const li = document.createElement('li');\n",
              "    li.append(span(file.name, {fontWeight: 'bold'}));\n",
              "    li.append(span(\n",
              "        `(${file.type || 'n/a'}) - ${file.size} bytes, ` +\n",
              "        `last modified: ${\n",
              "            file.lastModifiedDate ? file.lastModifiedDate.toLocaleDateString() :\n",
              "                                    'n/a'} - `));\n",
              "    const percent = span('0% done');\n",
              "    li.appendChild(percent);\n",
              "\n",
              "    outputElement.appendChild(li);\n",
              "\n",
              "    const fileDataPromise = new Promise((resolve) => {\n",
              "      const reader = new FileReader();\n",
              "      reader.onload = (e) => {\n",
              "        resolve(e.target.result);\n",
              "      };\n",
              "      reader.readAsArrayBuffer(file);\n",
              "    });\n",
              "    // Wait for the data to be ready.\n",
              "    let fileData = yield {\n",
              "      promise: fileDataPromise,\n",
              "      response: {\n",
              "        action: 'continue',\n",
              "      }\n",
              "    };\n",
              "\n",
              "    // Use a chunked sending to avoid message size limits. See b/62115660.\n",
              "    let position = 0;\n",
              "    do {\n",
              "      const length = Math.min(fileData.byteLength - position, MAX_PAYLOAD_SIZE);\n",
              "      const chunk = new Uint8Array(fileData, position, length);\n",
              "      position += length;\n",
              "\n",
              "      const base64 = btoa(String.fromCharCode.apply(null, chunk));\n",
              "      yield {\n",
              "        response: {\n",
              "          action: 'append',\n",
              "          file: file.name,\n",
              "          data: base64,\n",
              "        },\n",
              "      };\n",
              "\n",
              "      let percentDone = fileData.byteLength === 0 ?\n",
              "          100 :\n",
              "          Math.round((position / fileData.byteLength) * 100);\n",
              "      percent.textContent = `${percentDone}% done`;\n",
              "\n",
              "    } while (position < fileData.byteLength);\n",
              "  }\n",
              "\n",
              "  // All done.\n",
              "  yield {\n",
              "    response: {\n",
              "      action: 'complete',\n",
              "    }\n",
              "  };\n",
              "}\n",
              "\n",
              "scope.google = scope.google || {};\n",
              "scope.google.colab = scope.google.colab || {};\n",
              "scope.google.colab._files = {\n",
              "  _uploadFiles,\n",
              "  _uploadFilesContinue,\n",
              "};\n",
              "})(self);\n",
              "</script> "
            ]
          },
          "metadata": {}
        },
        {
          "output_type": "stream",
          "name": "stdout",
          "text": [
            "Saving 연도별전기차증가.csv to 연도별전기차증가 (2).csv\n",
            "    기준일     서울     인천     경기    강원    충북     충남    대전    세종     경북     대구  \\\n",
            "0  2019  14952   2598  11750  2445  2412   2841  2555   903   4051  11313   \n",
            "1  2020  23393   5366  20477  4078  3883   5489  4469  1148   7051  12630   \n",
            "2  2021  40564  12820  39958  7946  8194   9991  7701  1859  11240  16185   \n",
            "3  2022  43206  14134  45891  8652  9683  11532  8595  2069  12318  17584   \n",
            "\n",
            "     전북    전남    광주     경남     부산    울산     제주      합계  \n",
            "0  1841  3326  2464   3626   3216  1447  18178   89918  \n",
            "1  3323  5223  3210   6308   5355  2274  21285  134962  \n",
            "2  7365  8708  5194  12606  12375  3166  25571  231443  \n",
            "3  8404  9978  6015  14371  15330  3789  26702  258253  \n"
          ]
        }
      ]
    },
    {
      "cell_type": "markdown",
      "source": [
        "**index_col을 기준일로 설정**"
      ],
      "metadata": {
        "id": "PJH1yPt9wQyW"
      }
    },
    {
      "cell_type": "code",
      "source": [
        "df=pd.read_csv('연도별전기차증가.csv',encoding='949',index_col='기준일')\n",
        "print(df)\n"
      ],
      "metadata": {
        "colab": {
          "base_uri": "https://localhost:8080/"
        },
        "id": "jj-oIV-spF9R",
        "outputId": "293f38d8-2dcd-4485-c121-915914467382"
      },
      "execution_count": 33,
      "outputs": [
        {
          "output_type": "stream",
          "name": "stdout",
          "text": [
            "         서울     인천     경기    강원    충북     충남    대전    세종     경북     대구    전북  \\\n",
            "기준일                                                                            \n",
            "2019  14952   2598  11750  2445  2412   2841  2555   903   4051  11313  1841   \n",
            "2020  23393   5366  20477  4078  3883   5489  4469  1148   7051  12630  3323   \n",
            "2021  40564  12820  39958  7946  8194   9991  7701  1859  11240  16185  7365   \n",
            "2022  43206  14134  45891  8652  9683  11532  8595  2069  12318  17584  8404   \n",
            "\n",
            "        전남    광주     경남     부산    울산     제주      합계  \n",
            "기준일                                                  \n",
            "2019  3326  2464   3626   3216  1447  18178   89918  \n",
            "2020  5223  3210   6308   5355  2274  21285  134962  \n",
            "2021  8708  5194  12606  12375  3166  25571  231443  \n",
            "2022  9978  6015  14371  15330  3789  26702  258253  \n"
          ]
        }
      ]
    },
    {
      "cell_type": "markdown",
      "source": [
        "**연도별 전기차 증가 그래프**"
      ],
      "metadata": {
        "id": "rrRLpOABwbSp"
      }
    },
    {
      "cell_type": "code",
      "source": [
        "car_plot = df.plot(grid=True, style = ['','','','','','','','','','','','','','','','','','r:*'])\n",
        "\n",
        "car_plot.set_xticks([2019,2020,2021,2022])\n",
        "car_plot.set_xlabel('기준일')\n",
        "car_plot.set_ylabel('차량 수')\n",
        "car_plot.set_title('연도별 전기차 증가')\n",
        "\n",
        "plt.show()"
      ],
      "metadata": {
        "colab": {
          "base_uri": "https://localhost:8080/",
          "height": 327
        },
        "id": "Sap4KSHvpIz_",
        "outputId": "b93813d6-1f04-45e5-d1a3-3c3434384c81"
      },
      "execution_count": 41,
      "outputs": [
        {
          "output_type": "display_data",
          "data": {
            "text/plain": [
              "<Figure size 432x288 with 1 Axes>"
            ],
            "image/png": "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\n"
          },
          "metadata": {
            "needs_background": "light"
          }
        }
      ]
    }
  ]
}
